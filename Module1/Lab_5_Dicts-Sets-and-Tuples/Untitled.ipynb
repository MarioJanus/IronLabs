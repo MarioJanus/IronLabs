{
 "cells": [
  {
   "cell_type": "code",
   "execution_count": 24,
   "id": "09269a3c",
   "metadata": {},
   "outputs": [
    {
     "name": "stdout",
     "output_type": "stream",
     "text": [
      "['I']\n",
      "('I', 'r', 'o', 'n', 'h', 'a', 'c', 'k')\n"
     ]
    },
    {
     "data": {
      "text/plain": [
       "tuple"
      ]
     },
     "execution_count": 24,
     "metadata": {},
     "output_type": "execute_result"
    }
   ],
   "source": [
    "tup=(\"I\")\n",
    "tup_list=list(tup)\n",
    "print(tup_list)\n",
    "new=(\"r\", \"o\", \"n\", \"h\", \"a\", \"c\", \"k\")\n",
    "for i in new:\n",
    "    tup_list.append(i)\n",
    "tup_list=tuple(tup_list)\n",
    "print(tup_list)\n",
    "type(tup_list)\n",
    "# PS: I dont know why the new list (tup_list) contains the extra ()"
   ]
  },
  {
   "cell_type": "code",
   "execution_count": 83,
   "id": "03aa8690",
   "metadata": {},
   "outputs": [
    {
     "name": "stdout",
     "output_type": "stream",
     "text": [
      "Sliced Tuple1 : ('I', 'r', 'o', 'n')\n",
      "Sliced Tuple2 : ('h', 'a', 'c')\n",
      "('I', 'r', 'o', 'n', 'h', 'a', 'c')\n",
      "['I', 'r', 'o', 'n', 'h', 'a', 'c', 'k']\n"
     ]
    }
   ],
   "source": [
    "tup=(\"I\")\n",
    "tup_list=list(tup)\n",
    "print(tup_list)\n",
    "new=(\"r\", \"o\", \"n\", \"h\", \"a\", \"c\", \"k\"()\n",
    "tup_list.append(new)\n",
    "tup=tuple(tup_list)\n",
    "print(tup)\n",
    "type(tup)"
   ]
  },
  {
   "cell_type": "code",
   "execution_count": 84,
   "id": "5dc92f53",
   "metadata": {},
   "outputs": [
    {
     "name": "stdout",
     "output_type": "stream",
     "text": [
      "Sliced Tuple1 : ('I', 'r', 'o', 'n')\n",
      "Sliced Tuple2 : ('h', 'a', 'c', 'k')\n",
      "('I', 'r', 'o', 'n', 'h', 'a', 'c', 'k')\n"
     ]
    },
    {
     "data": {
      "text/plain": [
       "<function print>"
      ]
     },
     "execution_count": 84,
     "metadata": {},
     "output_type": "execute_result"
    }
   ],
   "source": [
    "indices = slice(0,4)\n",
    "tup1 = tup[indices]\n",
    "print('Sliced Tuple1 :', tup1)\n",
    "\n",
    "indices = slice(-4,8)\n",
    "tup2 = tup[indices]\n",
    "print('Sliced Tuple2 :', tup2)\n",
    "tup3=tup1+tup2\n",
    "print(tup3)\n",
    "print\n"
   ]
  },
  {
   "cell_type": "code",
   "execution_count": 80,
   "id": "ccd537d3",
   "metadata": {},
   "outputs": [
    {
     "data": {
      "text/plain": [
       "['The', 'TART', 'Tuesdays', 'Thursdays,', 'but', 'it', 'not', 'start', 'next']"
      ]
     },
     "execution_count": 80,
     "metadata": {},
     "output_type": "execute_result"
    }
   ],
   "source": [
    "string = \"The TART program runs on Tuesdays and Thursdays, but it does not start until next week.\"\n",
    "[i for i in string.split() if i.lower().startswith('t') or i.lower().endswith('t')]\n",
    "['The', 'TART', 'Tuesdays', 'Thursdays,', 'but', 'it', 'not', 'start', 'next']"
   ]
  },
  {
   "cell_type": "code",
   "execution_count": 90,
   "id": "a14a047a",
   "metadata": {},
   "outputs": [
    {
     "name": "stdout",
     "output_type": "stream",
     "text": [
      "['I']\n",
      "('I', 'r', 'o', 'n', 'h', 'a', 'c', 'k')\n",
      "Sliced Tuple1 : ('I', 'r', 'o', 'n')\n",
      "Sliced Tuple2 : ('h', 'a', 'c', 'k')\n",
      "tup and tup3 are equal\n",
      "('I', 'r', 'o', 'n', 'h', 'a', 'c', 'k')\n"
     ]
    }
   ],
   "source": [
    "tup=(\"I\")\n",
    "tup_list=list(tup)\n",
    "print(tup_list)\n",
    "\n",
    "new=(\"r\", \"o\", \"n\", \"h\", \"a\", \"c\", \"k\")\n",
    "\n",
    "for i in new:\n",
    "    tup_list.append(i)\n",
    "\n",
    "tup=tuple(tup_list)\n",
    "print(tup)\n",
    "\n",
    "indices = slice(0,4)\n",
    "tup1 = tup[indices]\n",
    "print('Sliced Tuple1 :', tup1)\n",
    "\n",
    "indices = slice(-4,8)\n",
    "tup2 = tup[indices]\n",
    "print('Sliced Tuple2 :', tup2)\n",
    "\n",
    "tup3=tup1+tup2\n",
    "if tup3==tup:\n",
    "    print(\"tup and tup3 are equal\")\n",
    "else:\n",
    "    print(\"tup and tup3 are NOT equal\")\n"
   ]
  },
  {
   "cell_type": "code",
   "execution_count": 92,
   "id": "1cedb33f",
   "metadata": {},
   "outputs": [
    {
     "data": {
      "text/plain": [
       "4"
      ]
     },
     "execution_count": 92,
     "metadata": {},
     "output_type": "execute_result"
    }
   ],
   "source": [
    "tup3.index(\"h\")\n"
   ]
  },
  {
   "cell_type": "code",
   "execution_count": 101,
   "id": "5f1c7814",
   "metadata": {},
   "outputs": [
    {
     "name": "stdout",
     "output_type": "stream",
     "text": [
      "Number of elements: tup1:  4 len2:  4\n",
      "Sum of elements of tup1 and tup2 is same as number of elements in tup3\n",
      "Sum of tup1+tup3:  8\n"
     ]
    }
   ],
   "source": [
    "len1=len(tup1)\n",
    "len2=len(tup2)\n",
    "len3=len(tup3)\n",
    "print(\"Number of elements:\", \"tup1: \", len1, \"len2: \", len2)\n",
    "print(\"Sum of tup1+tup3: \", len1+len2)\n",
    "if len1+len2==len3:\n",
    "    print(\"Sum of elements of tup1 and tup2 is same as number of elements in tup3\")\n",
    "    "
   ]
  },
  {
   "cell_type": "code",
   "execution_count": null,
   "id": "4678824b",
   "metadata": {},
   "outputs": [],
   "source": []
  },
  {
   "cell_type": "code",
   "execution_count": null,
   "id": "ab6d7d0a",
   "metadata": {},
   "outputs": [],
   "source": []
  }
 ],
 "metadata": {
  "kernelspec": {
   "display_name": "Python 3 (ipykernel)",
   "language": "python",
   "name": "python3"
  },
  "language_info": {
   "codemirror_mode": {
    "name": "ipython",
    "version": 3
   },
   "file_extension": ".py",
   "mimetype": "text/x-python",
   "name": "python",
   "nbconvert_exporter": "python",
   "pygments_lexer": "ipython3",
   "version": "3.9.12"
  }
 },
 "nbformat": 4,
 "nbformat_minor": 5
}
