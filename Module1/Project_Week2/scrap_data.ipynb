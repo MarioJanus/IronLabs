{
 "cells": [
  {
   "cell_type": "code",
   "execution_count": 52,
   "id": "71ce73ee",
   "metadata": {},
   "outputs": [],
   "source": [
    "import wbgapi as wb\n",
    "wb.search('gender')\n",
    "#collecting data - working percantage of pop by gender\n",
    "emp_f=wb.data.DataFrame('SL.EMP.TOTL.SP.FE.NE.ZS', ['BRA', 'VEN', 'CHL', 'ECU', 'ARG'])\n",
    "emp_m=wb.data.DataFrame('SL.EMP.TOTL.SP.MA.NE.ZS', ['BRA', 'VEN', 'CHL', 'ECU', 'ARG'])\n",
    "\n",
    "#collecting data - mortality gender\n",
    "mort_f=wb.data.DataFrame('SP.DYN.AMRT.FE', ['BRA', 'VEN', 'CHL', 'ECU', 'ARG'])\n",
    "mort_m=wb.data.DataFrame('SP.DYN.AMRT.MA', ['BRA', 'VEN', 'CHL', 'ECU', 'ARG'])\n",
    "\n",
    "#collecting data - pop by gender\n",
    "pop_f=wb.data.DataFrame('SP.POP.TOTL.FE.IN', ['BRA', 'VEN', 'CHL', 'ECU', 'ARG'])\n",
    "pop_m=wb.data.DataFrame('SP.POP.TOTL.MA.IN', ['BRA', 'VEN', 'CHL', 'ECU', 'ARG'])\n",
    "\n",
    "#export data to cvs files\n",
    "emp_f.to_csv('emp_f.csv', sep='\\t', encoding='utf-8')\n",
    "emp_m.to_csv('emp_m.csv', sep='\\t', encoding='utf-8')\n",
    "mort_f.to_csv('mort_f.csv', sep='\\t', encoding='utf-8')\n",
    "mort_m.to_csv('mort_m.csv', sep='\\t', encoding='utf-8')\n",
    "pop_f.to_csv('pop_f.csv', sep='\\t', encoding='utf-8')\n",
    "pop_m.to_csv('pop_m.csv', sep='\\t', encoding='utf-8')\n",
    "\n"
   ]
  },
  {
   "cell_type": "code",
   "execution_count": null,
   "id": "cc35e006",
   "metadata": {},
   "outputs": [],
   "source": []
  }
 ],
 "metadata": {
  "kernelspec": {
   "display_name": "Python 3 (ipykernel)",
   "language": "python",
   "name": "python3"
  },
  "language_info": {
   "codemirror_mode": {
    "name": "ipython",
    "version": 3
   },
   "file_extension": ".py",
   "mimetype": "text/x-python",
   "name": "python",
   "nbconvert_exporter": "python",
   "pygments_lexer": "ipython3",
   "version": "3.9.12"
  }
 },
 "nbformat": 4,
 "nbformat_minor": 5
}
