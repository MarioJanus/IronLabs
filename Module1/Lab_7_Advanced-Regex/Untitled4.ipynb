{
 "cells": [
  {
   "cell_type": "code",
   "execution_count": 2,
   "id": "625348b2",
   "metadata": {},
   "outputs": [
    {
     "data": {
      "text/html": [
       "<div class=\"wbgapi\"><table>\n",
       "<thead>\n",
       "<tr><th>id                  </th><th>value                                                             </th></tr>\n",
       "</thead>\n",
       "<tbody>\n",
       "<tr><td>IC.REG.COST.PC.FE.ZS</td><td>Cost of business start-up procedures, female (% of GNI per capita)</td></tr>\n",
       "<tr><td>IC.REG.COST.PC.MA.ZS</td><td>Cost of business start-up procedures, male (% of GNI per capita)  </td></tr>\n",
       "<tr><td>IC.REG.COST.PC.ZS   </td><td>Cost of business start-up procedures (% of GNI per capita)        </td></tr>\n",
       "<tr><td>IC.REG.PROC         </td><td>Start-up procedures to register a business (number)               </td></tr>\n",
       "<tr><td>IC.REG.PROC.FE      </td><td>Start-up procedures to register a business, female (number)       </td></tr>\n",
       "<tr><td>IC.REG.PROC.MA      </td><td>Start-up procedures to register a business, male (number)         </td></tr>\n",
       "<tr><td>                    </td><td>6 elements                                                        </td></tr>\n",
       "</tbody>\n",
       "</table></div>"
      ],
      "text/plain": [
       "id                    value\n",
       "--------------------  ------------------------------------------------------------------\n",
       "IC.REG.COST.PC.FE.ZS  Cost of business start-up procedures, female (% of GNI per capita)\n",
       "IC.REG.COST.PC.MA.ZS  Cost of business start-up procedures, male (% of GNI per capita)\n",
       "IC.REG.COST.PC.ZS     Cost of business start-up procedures (% of GNI per capita)\n",
       "IC.REG.PROC           Start-up procedures to register a business (number)\n",
       "IC.REG.PROC.FE        Start-up procedures to register a business, female (number)\n",
       "IC.REG.PROC.MA        Start-up procedures to register a business, male (number)\n",
       "                      6 elements"
      ]
     },
     "execution_count": 2,
     "metadata": {},
     "output_type": "execute_result"
    }
   ],
   "source": [
    "import pandas as pd\n",
    "import matplotlib.pyplot as plt\n",
    "import wbgapi as wb\n",
    "wb.series.info(q='start-up')\n",
    "\n"
   ]
  },
  {
   "cell_type": "code",
   "execution_count": 5,
   "id": "65b94ed1",
   "metadata": {},
   "outputs": [
    {
     "data": {
      "text/plain": [
       "(         YR1960  YR1961  YR1962  YR1963  YR1964  YR1965  YR1966  YR1967  \\\n",
       " economy                                                                   \n",
       " ABW         NaN     NaN     NaN     NaN     NaN     NaN     NaN     NaN   \n",
       " AFE         NaN     NaN     NaN     NaN     NaN     NaN     NaN     NaN   \n",
       " AFG         NaN     NaN     NaN     NaN     NaN     NaN     NaN     NaN   \n",
       " AFW         NaN     NaN     NaN     NaN     NaN     NaN     NaN     NaN   \n",
       " AGO         NaN     NaN     NaN     NaN     NaN     NaN     NaN     NaN   \n",
       " ...         ...     ...     ...     ...     ...     ...     ...     ...   \n",
       " XKX         NaN     NaN     NaN     NaN     NaN     NaN     NaN     NaN   \n",
       " YEM         NaN     NaN     NaN     NaN     NaN     NaN     NaN     NaN   \n",
       " ZAF         NaN     NaN     NaN     NaN     NaN     NaN     NaN     NaN   \n",
       " ZMB         NaN     NaN     NaN     NaN     NaN     NaN     NaN     NaN   \n",
       " ZWE         NaN     NaN     NaN     NaN     NaN     NaN     NaN     NaN   \n",
       " \n",
       "          YR1968  YR1969  ...      YR2012      YR2013   YR2014      YR2015  \\\n",
       " economy                  ...                                                \n",
       " ABW         NaN     NaN  ...         NaN         NaN      NaN         NaN   \n",
       " AFE         NaN     NaN  ...   68.172000   67.812000   53.732   55.096154   \n",
       " AFG         NaN     NaN  ...   22.500000   14.400000   15.100   19.000000   \n",
       " AFW         NaN     NaN  ...   87.242857   74.545455   65.400   63.600000   \n",
       " AGO         NaN     NaN  ...  143.100000  130.100000  118.800   17.000000   \n",
       " ...         ...     ...  ...         ...         ...      ...         ...   \n",
       " XKX         NaN     NaN  ...   23.000000   22.100000    1.200    1.100000   \n",
       " YEM         NaN     NaN  ...   71.900000   66.100000   66.300   68.000000   \n",
       " ZAF         NaN     NaN  ...    0.300000    0.300000    0.300    0.300000   \n",
       " ZMB         NaN     NaN  ...   27.000000   32.600000   33.700   34.300000   \n",
       " ZWE         NaN     NaN  ...  126.900000  128.900000  120.000  118.400000   \n",
       " \n",
       "              YR2016      YR2017      YR2018     YR2019  YR2020  YR2021  \n",
       " economy                                                                 \n",
       " ABW             NaN         NaN         NaN        NaN     NaN     NaN  \n",
       " AFE       55.630769   51.076923   41.738462  34.230769     NaN     NaN  \n",
       " AFG       19.900000   82.300000    6.400000   6.800000     NaN     NaN  \n",
       " AFW       57.436364   53.522727   48.013636  38.745455     NaN     NaN  \n",
       " AGO       20.700000   17.400000   13.900000  11.100000     NaN     NaN  \n",
       " ...             ...         ...         ...        ...     ...     ...  \n",
       " XKX        1.100000    1.000000    1.000000   1.400000     NaN     NaN  \n",
       " YEM       82.200000   73.500000  118.800000  40.200000     NaN     NaN  \n",
       " ZAF        0.200000    0.200000    0.200000   0.200000     NaN     NaN  \n",
       " ZMB       34.700000   34.200000   32.800000  34.000000     NaN     NaN  \n",
       " ZWE      121.500000  110.000000  110.700000  76.600000     NaN     NaN  \n",
       " \n",
       " [266 rows x 62 columns],\n",
       " {'AUT',\n",
       "  'BEL',\n",
       "  'CYP',\n",
       "  'DEU',\n",
       "  'ESP',\n",
       "  'EST',\n",
       "  'FIN',\n",
       "  'FRA',\n",
       "  'GRC',\n",
       "  'IRL',\n",
       "  'ITA',\n",
       "  'LTU',\n",
       "  'LUX',\n",
       "  'LVA',\n",
       "  'MLT',\n",
       "  'NLD',\n",
       "  'PRT',\n",
       "  'SVK',\n",
       "  'SVN'})"
      ]
     },
     "execution_count": 5,
     "metadata": {},
     "output_type": "execute_result"
    }
   ],
   "source": [
    "start_up = wb.data.DataFrame('IC.REG.COST.PC.ZS'), wb.region.members('EMU')\n",
    "start_up"
   ]
  },
  {
   "cell_type": "code",
   "execution_count": 9,
   "id": "19af6e2e",
   "metadata": {},
   "outputs": [
    {
     "data": {
      "text/plain": [
       "<AxesSubplot:>"
      ]
     },
     "execution_count": 9,
     "metadata": {},
     "output_type": "execute_result"
    },
    {
     "data": {
      "image/png": "[encoded data removed]",
      "text/plain": [
       "<Figure size 432x288 with 1 Axes>"
      ]
     },
     "metadata": {
      "needs_background": "light"
     },
     "output_type": "display_data"
    }
   ],
   "source": [
    "ren = wb.data.DataFrame('IC.REG.DURS', ['FRA','IRL','DEU','LUX','ESP'], time=range(2017,2022))\n",
    "ren.T.plot()"
   ]
  },
  {
   "cell_type": "code",
   "execution_count": null,
   "id": "dbac0776",
   "metadata": {},
   "outputs": [],
   "source": []
  }
 ],
 "metadata": {
  "kernelspec": {
   "display_name": "Python 3 (ipykernel)",
   "language": "python",
   "name": "python3"
  },
  "language_info": {
   "codemirror_mode": {
    "name": "ipython",
    "version": 3
   },
   "file_extension": ".py",
   "mimetype": "text/x-python",
   "name": "python",
   "nbconvert_exporter": "python",
   "pygments_lexer": "ipython3",
   "version": "3.9.12"
  }
 },
 "nbformat": 4,
 "nbformat_minor": 5
}
