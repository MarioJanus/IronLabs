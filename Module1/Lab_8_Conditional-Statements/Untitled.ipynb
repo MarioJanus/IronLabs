{
 "cells": [
  {
   "cell_type": "code",
   "execution_count": 16,
   "id": "646108b0",
   "metadata": {
    "scrolled": false
   },
   "outputs": [
    {
     "name": "stdout",
     "output_type": "stream",
     "text": [
      "[1002, 1005, 1008, 1011, 1014, 1017, 1020, 1023, 1026, 1029, 1032, 1035, 1038, 1041, 1044, 1047, 1050, 1053, 1056, 1059, 1062, 1065, 1068, 1071, 1074, 1077, 1080, 1083, 1086, 1089, 1092, 1095, 1098, 1101, 1104, 1107, 1110, 1113, 1116, 1119, 1122, 1125, 1128, 1131, 1134, 1137, 1140, 1143, 1146, 1149, 1152, 1155, 1158, 1161, 1164, 1167, 1170, 1173, 1176, 1179, 1182, 1185, 1188, 1191, 1194, 1197, 1200, 1203, 1206, 1209, 1212, 1215, 1218, 1221, 1224, 1227, 1230, 1233, 1236, 1239, 1242, 1245, 1248, 1251, 1254, 1257, 1260, 1263, 1266, 1269, 1272, 1275, 1278, 1281, 1284, 1287, 1290, 1293, 1296, 1299, 1302, 1305, 1308, 1311, 1314, 1317, 1320, 1323, 1326, 1329, 1332, 1335, 1338, 1341, 1344, 1347, 1350, 1353, 1356, 1359, 1362, 1365, 1368, 1371, 1374, 1377, 1380, 1383, 1386, 1389, 1392, 1395, 1398, 1401, 1404, 1407, 1410, 1413, 1416, 1419, 1422, 1425, 1428, 1431, 1434, 1437, 1440, 1443, 1446, 1449, 1452, 1455, 1458, 1461, 1464, 1467, 1470, 1473, 1476, 1479, 1482, 1485, 1488, 1491, 1494, 1497, 1500, 1503, 1506, 1509, 1512, 1515, 1518, 1521, 1524, 1527, 1530, 1533, 1536, 1539, 1542, 1545, 1548, 1551, 1554, 1557, 1560, 1563, 1566, 1569, 1572, 1575, 1578, 1581, 1584, 1587, 1590, 1593, 1596, 1599, 1602, 1605, 1608, 1611, 1614, 1617, 1620, 1623, 1626, 1629, 1632, 1635, 1638, 1641, 1644, 1647, 1650, 1653, 1656, 1659, 1662, 1665, 1668, 1671, 1674, 1677, 1680, 1683, 1686, 1689, 1692, 1695, 1698, 1701, 1704, 1707, 1710, 1713, 1716, 1719, 1722, 1725, 1728, 1731, 1734, 1737, 1740, 1743, 1746, 1749, 1752, 1755, 1758, 1761, 1764, 1767, 1770, 1773, 1776, 1779, 1782, 1785, 1788, 1791, 1794, 1797, 1800, 1803, 1806, 1809, 1812, 1815, 1818, 1821, 1824, 1827, 1830, 1833, 1836, 1839, 1842, 1845, 1848, 1851, 1854, 1857, 1860, 1863, 1866, 1869, 1872, 1875, 1878, 1881, 1884, 1887, 1890, 1893, 1896, 1899, 1902, 1905, 1908, 1911, 1914, 1917, 1920, 1923, 1926, 1929, 1932, 1935, 1938, 1941, 1944, 1947, 1950, 1953, 1956, 1959, 1962, 1965, 1968, 1971, 1974, 1977, 1980, 1983, 1986, 1989, 1992, 1995, 1998, 2001, 2004, 2007, 2010, 2013, 2016, 2019, 2022, 2025, 2028, 2031, 2034, 2037, 2040, 2043, 2046, 2049, 2052, 2055, 2058, 2061, 2064, 2067, 2070, 2073, 2076, 2079, 2082, 2085, 2088, 2091, 2094, 2097, 2100, 2103, 2106, 2109, 2112, 2115, 2118, 2121, 2124, 2127, 2130, 2133, 2136, 2139, 2142, 2145, 2148, 2151, 2154, 2157, 2160, 2163, 2166, 2169, 2172, 2175, 2178, 2181, 2184, 2187, 2190, 2193, 2196, 2199, 2202, 2205, 2208, 2211, 2214, 2217, 2220, 2223, 2226, 2229, 2232, 2235, 2238, 2241, 2244, 2247, 2250, 2253, 2256, 2259, 2262, 2265, 2268, 2271, 2274, 2277, 2280, 2283, 2286, 2289, 2292, 2295, 2298, 2301, 2304, 2307, 2310, 2313, 2316, 2319, 2322, 2325, 2328, 2331, 2334, 2337, 2340, 2343, 2346, 2349, 2352, 2355, 2358, 2361, 2364, 2367, 2370, 2373, 2376, 2379, 2382, 2385, 2388, 2391, 2394, 2397, 2400, 2403, 2406, 2409, 2412, 2415, 2418, 2421, 2424, 2427, 2430, 2433, 2436, 2439, 2442, 2445, 2448, 2451, 2454, 2457, 2460, 2463, 2466, 2469, 2472, 2475, 2478, 2481, 2484, 2487, 2490, 2493, 2496, 2499, 1002, 1005, 1008, 1011, 1014, 1017, 1020, 1023, 1026, 1029, 1032, 1035, 1038, 1041, 1044, 1047, 1050, 1053, 1056, 1059, 1062, 1065, 1068, 1071, 1074, 1077, 1080, 1083, 1086, 1089, 1092, 1095, 1098, 1101, 1104, 1107, 1110, 1113, 1116, 1119, 1122, 1125, 1128, 1131, 1134, 1137, 1140, 1143, 1146, 1149, 1152, 1155, 1158, 1161, 1164, 1167, 1170, 1173, 1176, 1179, 1182, 1185, 1188, 1191, 1194, 1197, 1200, 1203, 1206, 1209, 1212, 1215, 1218, 1221, 1224, 1227, 1230, 1233, 1236, 1239, 1242, 1245, 1248, 1251, 1254, 1257, 1260, 1263, 1266, 1269, 1272, 1275, 1278, 1281, 1284, 1287, 1290, 1293, 1296, 1299, 1302, 1305, 1308, 1311, 1314, 1317, 1320, 1323, 1326, 1329, 1332, 1335, 1338, 1341, 1344, 1347, 1350, 1353, 1356, 1359, 1362, 1365, 1368, 1371, 1374, 1377, 1380, 1383, 1386, 1389, 1392, 1395, 1398, 1401, 1404, 1407, 1410, 1413, 1416, 1419, 1422, 1425, 1428, 1431, 1434, 1437, 1440, 1443, 1446, 1449, 1452, 1455, 1458, 1461, 1464, 1467, 1470, 1473, 1476, 1479, 1482, 1485, 1488, 1491, 1494, 1497, 1500, 1503, 1506, 1509, 1512, 1515, 1518, 1521, 1524, 1527, 1530, 1533, 1536, 1539, 1542, 1545, 1548, 1551, 1554, 1557, 1560, 1563, 1566, 1569, 1572, 1575, 1578, 1581, 1584, 1587, 1590, 1593, 1596, 1599, 1602, 1605, 1608, 1611, 1614, 1617, 1620, 1623, 1626, 1629, 1632, 1635, 1638, 1641, 1644, 1647, 1650, 1653, 1656, 1659, 1662, 1665, 1668, 1671, 1674, 1677, 1680, 1683, 1686, 1689, 1692, 1695, 1698, 1701, 1704, 1707, 1710, 1713, 1716, 1719, 1722, 1725, 1728, 1731, 1734, 1737, 1740, 1743, 1746, 1749, 1752, 1755, 1758, 1761, 1764, 1767, 1770, 1773, 1776, 1779, 1782, 1785, 1788, 1791, 1794, 1797, 1800, 1803, 1806, 1809, 1812, 1815, 1818, 1821, 1824, 1827, 1830, 1833, 1836, 1839, 1842, 1845, 1848, 1851, 1854, 1857, 1860, 1863, 1866, 1869, 1872, 1875, 1878, 1881, 1884, 1887, 1890, 1893, 1896, 1899, 1902, 1905, 1908, 1911, 1914, 1917, 1920, 1923, 1926, 1929, 1932, 1935, 1938, 1941, 1944, 1947, 1950, 1953, 1956, 1959, 1962, 1965, 1968, 1971, 1974, 1977, 1980, 1983, 1986, 1989, 1992, 1995, 1998, 2001, 2004, 2007, 2010, 2013, 2016, 2019, 2022, 2025, 2028, 2031, 2034, 2037, 2040, 2043, 2046, 2049, 2052, 2055, 2058, 2061, 2064, 2067, 2070, 2073, 2076, 2079, 2082, 2085, 2088, 2091, 2094, 2097, 2100, 2103, 2106, 2109, 2112, 2115, 2118, 2121, 2124, 2127, 2130, 2133, 2136, 2139, 2142, 2145, 2148, 2151, 2154, 2157, 2160, 2163, 2166, 2169, 2172, 2175, 2178, 2181, 2184, 2187, 2190, 2193, 2196, 2199, 2202, 2205, 2208, 2211, 2214, 2217, 2220, 2223, 2226, 2229, 2232, 2235, 2238, 2241, 2244, 2247, 2250, 2253, 2256, 2259, 2262, 2265, 2268, 2271, 2274, 2277, 2280, 2283, 2286, 2289, 2292, 2295, 2298, 2301, 2304, 2307, 2310, 2313, 2316, 2319, 2322, 2325, 2328, 2331, 2334, 2337, 2340, 2343, 2346, 2349, 2352, 2355, 2358, 2361, 2364, 2367, 2370, 2373, 2376, 2379, 2382, 2385, 2388, 2391, 2394, 2397, 2400, 2403, 2406, 2409, 2412, 2415, 2418, 2421, 2424, 2427, 2430, 2433, 2436, 2439, 2442, 2445, 2448, 2451, 2454, 2457, 2460, 2463, 2466, 2469, 2472, 2475, 2478, 2481, 2484, 2487, 2490, 2493, 2496, 2499]\n"
     ]
    }
   ],
   "source": [
    "x=[]\n",
    "for i in range(1000,2500):\n",
    "    if i%3==0:\n",
    "        x.append(i)\n",
    "print(x)"
   ]
  },
  {
   "cell_type": "code",
   "execution_count": 72,
   "id": "fa60c565",
   "metadata": {},
   "outputs": [
    {
     "name": "stdout",
     "output_type": "stream",
     "text": [
      "January has 31 days\n",
      "February has 28 or 29 days\n",
      "March has 31 days\n",
      "April has 30 days\n",
      "May has 31 days\n",
      "June has 30 days\n",
      "July has 31 days\n",
      "August has 31 days\n",
      "September has 30 days\n",
      "October has 31 days\n",
      "November has 30 days\n",
      "December has 31 days\n"
     ]
    }
   ],
   "source": [
    "months=['January','February','March','April','May','June','July','August','September','October','November','December']\n",
    "for i in months:\n",
    "    if i in ('January','March','May','July','August','October','December'):\n",
    "        print(i,'has 31 days')\n",
    "    elif i in ('April','June','September','November'):\n",
    "        print(i,'has 30 days')\n",
    "    else:\n",
    "        print(i,'has 28 or 29 days')\n"
   ]
  },
  {
   "cell_type": "code",
   "execution_count": 73,
   "id": "bf6aa816",
   "metadata": {},
   "outputs": [
    {
     "name": "stdout",
     "output_type": "stream",
     "text": [
      "Enter a wordcomputer\n",
      "Reversed word: rtpo\n"
     ]
    }
   ],
   "source": [
    "word=str(input('Enter a word'))\n",
    "print('Reversed word:',word[::-1])"
   ]
  },
  {
   "cell_type": "code",
   "execution_count": 29,
   "id": "b667965c",
   "metadata": {},
   "outputs": [
    {
     "name": "stdout",
     "output_type": "stream",
     "text": [
      "[1, 2, 3, 4, 5, 6, 7, 8, 9, 10, 11, 12, 13, 14, 15, 16, 17, 18, 19, 20, 21, 22, 23, 24, 25, 26, 27, 28, 29, 30, 31, 32, 33, 34, 35, 36, 37, 38, 39, 40, 41, 42, 43, 44, 45, 46, 47, 48, 49]\n",
      "[]\n",
      "[]\n"
     ]
    }
   ],
   "source": [
    "y3=[]\n",
    "y5=[]\n",
    "y_3_5=[]\n",
    "for j in range(1,50):\n",
    "    if j%5==0:\n",
    "        y3.append(j)\n",
    "    elif j%5==0:\n",
    "        y5.append(j)\n",
    "    elif j%3==0 and j%5==0:\n",
    "        y_3_5.append(j)\n",
    "print(y3)\n",
    "print(y5)\n",
    "print(y_3_5)"
   ]
  },
  {
   "cell_type": "code",
   "execution_count": 34,
   "id": "b6c2345b",
   "metadata": {},
   "outputs": [
    {
     "name": "stdout",
     "output_type": "stream",
     "text": [
      "Enter a year: 2023\n",
      "2023 is not a leap year\n"
     ]
    }
   ],
   "source": [
    "year = int(input(\"Enter a year: \"))\n",
    "if (year % 400 == 0) and (year % 100 == 0):\n",
    "    print(year,\"is a leap year\")\n",
    "elif (year % 4 ==0) and (year % 100 != 0):\n",
    "    print(year,\"is a leap year\")\n",
    "else:\n",
    "    print(year,\"is not a leap year\")"
   ]
  },
  {
   "cell_type": "code",
   "execution_count": null,
   "id": "baaf540a",
   "metadata": {},
   "outputs": [],
   "source": []
  },
  {
   "cell_type": "code",
   "execution_count": 75,
   "id": "3365739e",
   "metadata": {},
   "outputs": [
    {
     "name": "stdout",
     "output_type": "stream",
     "text": [
      "Enter your lenght in cm: 190\n",
      "Enter your weight in kg: 85\n",
      "23.545706371191137\n",
      "Your BPM is: 23.545706371191137 and you are Normal(Healthy)\n"
     ]
    }
   ],
   "source": [
    "bpm={1:'Very severaly underweigth', 2:'Severals underweight', 3:'Underweight', 4:'Normal(Healthy)', 5:'Overweight', 6:'Obese Class I(Mod)', 7:'Obese Class II(Sev)', 8:'Obese Class III(Very Sev)', 9:'Obese Class IV(Morbidly)', 10:'Obese Class V(Super Obese)', 11:'Obese Class VI(Hyper Obese)'}\n",
    "\n",
    "height=int(input('Enter your lenght in cm: '))\n",
    "weight=int(input('Enter your weight in kg: '))\n",
    "bpm_calc=weight / (height/100)**2\n",
    "print(bpm_calc)\n",
    "\n",
    "if bpm_calc<15:\n",
    "    print('Your BPM is:',bpm_calc, 'and you are',bpm[1])\n",
    "elif bpm_calc>=15 and bpm_calc<16:\n",
    "    print('Your BPM is:',bpm_calc, 'and you are',bpm[2])\n",
    "elif bpm_calc>=16 and bpm_calc<18.5:\n",
    "    print('Your BPM is:',bpm_calc, 'and you are',bpm[3])\n",
    "elif bpm_calc>=18.5 and bpm_calc<25:\n",
    "    print('Your BPM is:',bpm_calc, 'and you are',bpm[4])\n",
    "elif bpm_calc>=25 and bpm_calc<30:\n",
    "    print('Your BPM is:',bpm_calc, 'and you are',bpm[5])\n",
    "elif bpm_calc>=30 and bpm_calc<35:\n",
    "    print('Your BPM is:',bpm_calc, 'and you are',bpm[6])\n",
    "elif bpm_calc>=35 and bpm_calc<40:\n",
    "    print('Your BPM is:',bpm_calc, 'and you are',bpm[7])\n",
    "elif bpm_calc>=40 and bpm_calc<45:\n",
    "    print('Your BPM is:',bpm_calc, 'and you are',bpm[8])\n",
    "elif bpm_calc>=45 and bpm_calc<50:\n",
    "    print('Your BPM is:',bpm_calc, 'and you are',bpm[9])\n",
    "elif bpm_calc>=50 and bpm_calc<60:\n",
    "    print('Your BPM is:',bpm_calc, 'and you are',bpm[10])\n",
    "else:\n",
    "    print('Your BPM is:',bpm_calc, 'and you are',bpm[11])"
   ]
  },
  {
   "cell_type": "code",
   "execution_count": 77,
   "id": "aac10e48",
   "metadata": {},
   "outputs": [
    {
     "name": "stdout",
     "output_type": "stream",
     "text": [
      "Enter your lenght in cm: 190\n",
      "Enter your weight in kg: 20\n",
      "5.54016620498615\n"
     ]
    },
    {
     "ename": "TypeError",
     "evalue": "'<' not supported between instances of 'float' and 'str'",
     "output_type": "error",
     "traceback": [
      "\u001b[1;31m---------------------------------------------------------------------------\u001b[0m",
      "\u001b[1;31mTypeError\u001b[0m                                 Traceback (most recent call last)",
      "Input \u001b[1;32mIn [77]\u001b[0m, in \u001b[0;36m<cell line: 8>\u001b[1;34m()\u001b[0m\n\u001b[0;32m      5\u001b[0m bpm_calc\u001b[38;5;241m=\u001b[39mweight \u001b[38;5;241m/\u001b[39m (height\u001b[38;5;241m/\u001b[39m\u001b[38;5;241m100\u001b[39m)\u001b[38;5;241m*\u001b[39m\u001b[38;5;241m*\u001b[39m\u001b[38;5;241m2\u001b[39m\n\u001b[0;32m      6\u001b[0m \u001b[38;5;28mprint\u001b[39m(bpm_calc)\n\u001b[1;32m----> 8\u001b[0m \u001b[38;5;28;01mif\u001b[39;00m \u001b[43mbpm_calc\u001b[49m\u001b[38;5;241;43m<\u001b[39;49m\u001b[38;5;124;43m'\u001b[39;49m\u001b[38;5;124;43mbpm[15]\u001b[39;49m\u001b[38;5;124;43m'\u001b[39;49m:\n\u001b[0;32m      9\u001b[0m     \u001b[38;5;28mprint\u001b[39m(\u001b[38;5;124m'\u001b[39m\u001b[38;5;124mYour BPM is:\u001b[39m\u001b[38;5;124m'\u001b[39m,bpm_calc, \u001b[38;5;124m'\u001b[39m\u001b[38;5;124mand you are\u001b[39m\u001b[38;5;124m'\u001b[39m,bpm[\u001b[38;5;241m15\u001b[39m])\n\u001b[0;32m     10\u001b[0m \u001b[38;5;28;01melif\u001b[39;00m bpm_calc\u001b[38;5;241m>\u001b[39m\u001b[38;5;241m=\u001b[39m\u001b[38;5;241m15\u001b[39m \u001b[38;5;129;01mand\u001b[39;00m bpm_calc\u001b[38;5;241m<\u001b[39m\u001b[38;5;241m16\u001b[39m:\n",
      "\u001b[1;31mTypeError\u001b[0m: '<' not supported between instances of 'float' and 'str'"
     ]
    }
   ],
   "source": [
    "bpm={1:'Very severaly underweigth', 2:'Severals underweight', 3:'Underweight', 4:'Normal(Healthy)', 5:'Overweight', 6:'Obese Class I(Mod)', 7:'Obese Class II(Sev)', 8:'Obese Class III(Very Sev)', 9:'Obese Class IV(Morbidly)', 10:'Obese Class V(Super Obese)', 11:'Obese Class VI(Hyper Obese)'}\n",
    "\n",
    "height=int(input('Enter your lenght in cm: '))\n",
    "weight=int(input('Enter your weight in kg: '))\n",
    "bpm_calc=weight / (height/100)**2\n",
    "print(bpm_calc)\n",
    "\n",
    "if bpm_calc<15:\n",
    "    print('Your BPM is:',bpm_calc, 'and you are',bpm[1])\n",
    "elif bpm_calc>=15 and bpm_calc<16:\n",
    "    print('Your BPM is:',bpm_calc, 'and you are',bpm[2])\n",
    "elif bpm_calc>=16 and bpm_calc<18.5:\n",
    "    print('Your BPM is:',bpm_calc, 'and you are',bpm[3])\n",
    "elif bpm_calc>=18.5 and bpm_calc<25:\n",
    "    print('Your BPM is:',bpm_calc, 'and you are',bpm[4])\n",
    "elif bpm_calc>=25 and bpm_calc<30:\n",
    "    print('Your BPM is:',bpm_calc, 'and you are',bpm[5])\n",
    "elif bpm_calc>=30 and bpm_calc<35:\n",
    "    print('Your BPM is:',bpm_calc, 'and you are',bpm[6])\n",
    "elif bpm_calc>=35 and bpm_calc<40:\n",
    "    print('Your BPM is:',bpm_calc, 'and you are',bpm[7])\n",
    "elif bpm_calc>=40 and bpm_calc<45:\n",
    "    print('Your BPM is:',bpm_calc, 'and you are',bpm[8])\n",
    "elif bpm_calc>=45 and bpm_calc<50:\n",
    "    print('Your BPM is:',bpm_calc, 'and you are',bpm[9])\n",
    "elif bpm_calc>=50 and bpm_calc<60:\n",
    "    print('Your BPM is:',bpm_calc, 'and you are',bpm[10])\n",
    "else:\n",
    "    print('Your BPM is:',bpm_calc, 'and you are',bpm[11])"
   ]
  },
  {
   "cell_type": "code",
   "execution_count": null,
   "id": "a6048f1a",
   "metadata": {},
   "outputs": [],
   "source": []
  }
 ],
 "metadata": {
  "kernelspec": {
   "display_name": "Python 3 (ipykernel)",
   "language": "python",
   "name": "python3"
  },
  "language_info": {
   "codemirror_mode": {
    "name": "ipython",
    "version": 3
   },
   "file_extension": ".py",
   "mimetype": "text/x-python",
   "name": "python",
   "nbconvert_exporter": "python",
   "pygments_lexer": "ipython3",
   "version": "3.9.12"
  }
 },
 "nbformat": 4,
 "nbformat_minor": 5
}
