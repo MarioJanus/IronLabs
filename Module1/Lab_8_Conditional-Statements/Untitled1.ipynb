{
 "cells": [
  {
   "cell_type": "code",
   "execution_count": 46,
   "id": "43d22ae9",
   "metadata": {
    "scrolled": false
   },
   "outputs": [
    {
     "name": "stdout",
     "output_type": "stream",
     "text": [
      "\n",
      "Nancy Pelosi in Taiwan: Warum die Welt in die nächste Großkrise schlittern könnte\n",
      "\n",
      "\n",
      "\n",
      "Nancy Pelosi in Taiwan\n",
      "\n",
      "\n",
      "\n",
      "\n",
      "\n",
      "\n",
      "\n",
      "\n",
      "\n",
      "\n",
      "\n",
      "Wie die Welt in die nächste Großkrise schlittern könnte\n",
      "\n",
      "\n",
      "Die nationalistische chinesische Zeitung »Global Times« veröffentlichte am Montag eine Titelgeschichte über Nancy Pelosis Asienreise\n",
      "Jetzt weiterlesen. Mit dem passenden SPIEGEL-Abo.\n",
      "\n",
      "Besondere Reportagen, Analysen und Hintergründe zu Themen, die unsere Gesellschaft bewegen – von Reportern aus aller Welt. Jetzt testen.\n",
      "\n",
      "Alle Artikel auf SPIEGEL.de frei zugänglich.\n",
      "DER SPIEGEL als E-Paper und in der App.\n",
      "Einen Monat für 1,- € testen.\n",
      "\n",
      "Sie haben bereits ein Digital-Abonnement?\n",
      "\n",
      "Hier anmelden\n",
      "\n",
      "\n",
      "Mehr Perspektiven, mehr verstehen.\n",
      "\n",
      "Freier Zugang zu allen Artikeln, Videos, Audioinhalten und Podcasts\n",
      "\n",
      "Alle Artikel auf SPIEGEL.de frei zugänglich\n",
      "DER SPIEGEL als E-Paper und in der App\n",
      "DER SPIEGEL zum Anhören und der werktägliche Podcast SPIEGEL Daily\n",
      "Nur € 19,99 pro Monat, jederzeit kündbar\n",
      "\n",
      "Sie haben bereits ein Digital-Abonnement?\n",
      "\n",
      "Hier anmelden\n",
      "\n",
      "\n",
      "\n",
      "SPIEGEL+ wird über Ihren iTunes-Account abgewickelt und mit Kaufbestätigung bezahlt. 24 Stunden vor Ablauf verlängert sich das Abo automatisch um\n",
      "einen Monat zum Preis von zurzeit 19,99€. In den Einstellungen Ihres iTunes-Accounts können Sie das Abo jederzeit kündigen. Um SPIEGEL+ außerhalb\n",
      "dieser App zu nutzen, müssen Sie das Abo direkt nach dem Kauf mit einem SPIEGEL-ID-Konto verknüpfen. Mit dem Kauf akzeptieren Sie unsere\n",
      "Allgemeinen Geschäftsbedingungen und Datenschutzerklärung.\n",
      "\n",
      "\n",
      "SPIEGEL+-Zugang wird gerade auf einem anderen Gerät genutzt\n",
      "\n",
      "\n",
      "SPIEGEL+ kann nur auf einem Gerät zur selben Zeit genutzt werden.\n",
      "\n",
      "\n",
      "Klicken Sie auf den Button, spielen wir den Hinweis auf dem anderen Gerät aus und Sie können SPIEGEL+ weiter nutzen.\n",
      "\n",
      "\n",
      "Die nationalistische chinesische Zeitung »Global Times« veröffentlichte am Montag eine Titelgeschichte über Nancy Pelosis Asienreise\n",
      "Melden Sie sich an und diskutieren Sie mit\n"
     ]
    }
   ],
   "source": [
    "import requests\n",
    "from bs4 import BeautifulSoup\n",
    "\n",
    "url= \"https://www.spiegel.de/ausland/pelosi-in-taiwan-warum-die-welt-in-die-naechste-grosskrise-schlittern-koennte\"\n",
    "html[0:60] #shows first 60 characters from whole content\n",
    "soup=BeautifulSoup(html, \"lxml\") #calls html variable and formats it in lxml via BS4 libary\n",
    "soup\n",
    "tags=['h1', 'h2', 'h3', 'h4', 'p']\n",
    "text=[element.text for element in soup.find_all(tags)]\n",
    "print('\\n'.join(text))\n"
   ]
  },
  {
   "cell_type": "code",
   "execution_count": null,
   "id": "3bdd97e6",
   "metadata": {},
   "outputs": [],
   "source": [
    "\n"
   ]
  },
  {
   "cell_type": "code",
   "execution_count": null,
   "id": "5405f0cf",
   "metadata": {},
   "outputs": [],
   "source": []
  }
 ],
 "metadata": {
  "kernelspec": {
   "display_name": "Python 3 (ipykernel)",
   "language": "python",
   "name": "python3"
  },
  "language_info": {
   "codemirror_mode": {
    "name": "ipython",
    "version": 3
   },
   "file_extension": ".py",
   "mimetype": "text/x-python",
   "name": "python",
   "nbconvert_exporter": "python",
   "pygments_lexer": "ipython3",
   "version": "3.9.12"
  }
 },
 "nbformat": 4,
 "nbformat_minor": 5
}
