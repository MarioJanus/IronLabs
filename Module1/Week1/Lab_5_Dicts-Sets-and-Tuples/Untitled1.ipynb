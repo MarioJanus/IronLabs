{
 "cells": [
  {
   "cell_type": "code",
   "execution_count": 47,
   "id": "0fdc6f0f",
   "metadata": {
    "scrolled": false
   },
   "outputs": [
    {
     "data": {
      "text/plain": [
       "['finance@adyen.com',\n",
       " 'hollydonahue@economist.com',\n",
       " 'tomamos@economist.com',\n",
       " 'jessicakeating@economist.com',\n",
       " 'paddycrowley@economist.com',\n",
       " 'stephaniesampiere@economist.com',\n",
       " 'Lauren@LaurenHackett.com']"
      ]
     },
     "execution_count": 47,
     "metadata": {},
     "output_type": "execute_result"
    }
   ],
   "source": [
    "import re\n",
    "with open(\"C:/Users/Mario/Documents/Privat/W1D3/out_of_office.txt\") as file:\n",
    "    data = file.read().replace('\\n', ' ')\n",
    "\n",
    "re.findall(\"[A-Za-z]{1,}@[A-Za-z]{1,}.[a-z]{3,}\",data)\n"
   ]
  },
  {
   "cell_type": "code",
   "execution_count": 33,
   "id": "7c720e8d",
   "metadata": {},
   "outputs": [
    {
     "ename": "SyntaxError",
     "evalue": "EOL while scanning string literal (208487171.py, line 2)",
     "output_type": "error",
     "traceback": [
      "\u001b[1;36m  Input \u001b[1;32mIn [33]\u001b[1;36m\u001b[0m\n\u001b[1;33m    file=\"Dear sender,Thank you for your email. I am on maternity leave until January 3, 2022.\u001b[0m\n\u001b[1;37m                                                                                               ^\u001b[0m\n\u001b[1;31mSyntaxError\u001b[0m\u001b[1;31m:\u001b[0m EOL while scanning string literal\n"
     ]
    }
   ],
   "source": [
    "import re\n",
    "file=\"Dear sender,Thank you for your email. I am on maternity leave until January 3, 2022. \n",
    "For urgent matters, please contact finance@adyen.com\n",
    "Thank you for your message. Lauren Hackett has left The Economist\n",
    "Group. In her absence please direct your message to one of  the\n",
    "following:\n",
    "- The Economist Editorial: Holly Donahue in the UK and ROW\n",
    "<hollydonahue@economist.com> or Tom Amos in the US\n",
    "<tomamos@economist.com>\n",
    "- The Economist business, EIU, Events and Client Solutions: Jessica\n",
    "Keating <jessicakeating@economist.com>\n",
    "- Digital Communications: Paddy Crowley <paddycrowley@economist.com>\n",
    "- Internal Communications: Stephanie Sampiere <stephaniesampiere@economist.com>\n",
    "If you are looking to get in contact with Lauren she can be reached at\n",
    "Lauren@LaurenHackett.com.\"\n",
    "print()"
   ]
  },
  {
   "cell_type": "code",
   "execution_count": 51,
   "id": "d3922c30",
   "metadata": {},
   "outputs": [
    {
     "data": {
      "text/plain": [
       "'Durante un tiempo no estuvo segura de si su marido era su marido'"
      ]
     },
     "execution_count": 51,
     "metadata": {},
     "output_type": "execute_result"
    }
   ],
   "source": [
    "str_list = ['Durante', 'un', 'tiempo', 'no', 'estuvo', 'segura', 'de', 'si', 'su', 'marido', 'era', 'su', 'marido']\n",
    "\" \".join(str_list)"
   ]
  },
  {
   "cell_type": "code",
   "execution_count": 199,
   "id": "81f30e4b",
   "metadata": {
    "scrolled": true
   },
   "outputs": [
    {
     "ename": "SyntaxError",
     "evalue": "invalid syntax (3980432173.py, line 8)",
     "output_type": "error",
     "traceback": [
      "\u001b[1;36m  Input \u001b[1;32mIn [199]\u001b[1;36m\u001b[0m\n\u001b[1;33m    print(grocery,.)\u001b[0m\n\u001b[1;37m                  ^\u001b[0m\n\u001b[1;31mSyntaxError\u001b[0m\u001b[1;31m:\u001b[0m invalid syntax\n"
     ]
    }
   ],
   "source": [
    "import re\n",
    "food_list = ['Bananas', 'Chocolate', 'bread', 'diapers', 'Ice Cream', 'Bbrownie Mix', 'broccoli']\n",
    "letter = 'b'\n",
    "food_list=[i for i in food_list if i.lower().startswith(letter)] #[\"Hello\",\"how\"]\n",
    "print(food_list)\n",
    "grocery = \" \".join(food_list)\n",
    "grocery=grocery.replace(\" \", \", \").rstrip().lower()\n",
    "print(grocery,.)\n"
   ]
  },
  {
   "cell_type": "code",
   "execution_count": 198,
   "id": "53c6893f",
   "metadata": {},
   "outputs": [
    {
     "ename": "SyntaxError",
     "evalue": "EOF while scanning triple-quoted string literal (602543242.py, line 16)",
     "output_type": "error",
     "traceback": [
      "\u001b[1;36m  Input \u001b[1;32mIn [198]\u001b[1;36m\u001b[0m\n\u001b[1;33m    Sample Output: 78.53981633\u001b[0m\n\u001b[1;37m                              \n^\u001b[0m\n\u001b[1;31mSyntaxError\u001b[0m\u001b[1;31m:\u001b[0m EOF while scanning triple-quoted string literal\n"
     ]
    }
   ],
   "source": [
    "import math\n",
    "\n",
    "string1 = \"The area of the circle with radius:\"\n",
    "string2  = \"is:\"\n",
    "radius = 4.5\n",
    "\n",
    "def area(x, pi = math.pi):\n",
    "    \"\"\"\n",
    "    This function takes a radius and returns the area of a circle. \n",
    "    We also pass a default value for pi.\n",
    "    \n",
    "    Input: Float (and default value for pi)\n",
    "    Output: Float\n",
    "    \n",
    "    Sample input: 5.0\n",
    "    Sample Output: 78.53981633\n"
   ]
  },
  {
   "cell_type": "code",
   "execution_count": null,
   "id": "1a84ee8f",
   "metadata": {},
   "outputs": [],
   "source": []
  },
  {
   "cell_type": "code",
   "execution_count": null,
   "id": "917cb014",
   "metadata": {},
   "outputs": [],
   "source": []
  }
 ],
 "metadata": {
  "kernelspec": {
   "display_name": "Python 3 (ipykernel)",
   "language": "python",
   "name": "python3"
  },
  "language_info": {
   "codemirror_mode": {
    "name": "ipython",
    "version": 3
   },
   "file_extension": ".py",
   "mimetype": "text/x-python",
   "name": "python",
   "nbconvert_exporter": "python",
   "pygments_lexer": "ipython3",
   "version": "3.9.12"
  }
 },
 "nbformat": 4,
 "nbformat_minor": 5
}
