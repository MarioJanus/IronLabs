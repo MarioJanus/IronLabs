{
 "cells": [
  {
   "cell_type": "code",
   "execution_count": 108,
   "id": "598859fd",
   "metadata": {
    "scrolled": true
   },
   "outputs": [
    {
     "name": "stdout",
     "output_type": "stream",
     "text": [
      "['.0001.scavengerhunt', '.0002.scavengerhunt', '.0003.scavengerhunt', '.0004.scavengerhunt', '.0005.scavengerhunt', '.0006.scavengerhunt', '.0007.scavengerhunt', '.0008.scavengerhunt', '.0009.scavengerhunt', '.0010.scavengerhunt', '.0011.scavengerhunt', '.0012.scavengerhunt', '.0013.scavengerhunt', '.0014.scavengerhunt', '.0015.scavengerhunt', '.0016.scavengerhunt', '.0017.scavengerhunt', '.0018.scavengerhunt', '.0019.scavengerhunt', '.0020.scavengerhunt', '.0021.scavengerhunt', '.0022.scavengerhunt', '.0023.scavengerhunt', '.0024.scavengerhunt']\n"
     ]
    },
    {
     "data": {
      "text/plain": [
       "{'.0016.scavengerhunt': 'https://api.github.com/repositories/162375181/contents/47222/.0016.scavengerhunt?ref=9308ccc8a4c34c5e3a991ee815222a9691c32476',\n",
       " '.0009.scavengerhunt': 'https://api.github.com/repositories/162375181/contents/97881/.0009.scavengerhunt?ref=9308ccc8a4c34c5e3a991ee815222a9691c32476',\n",
       " '.0021.scavengerhunt': 'https://api.github.com/repositories/162375181/contents/30351/.0021.scavengerhunt?ref=9308ccc8a4c34c5e3a991ee815222a9691c32476',\n",
       " '.0023.scavengerhunt': 'https://api.github.com/repositories/162375181/contents/55417/.0023.scavengerhunt?ref=9308ccc8a4c34c5e3a991ee815222a9691c32476',\n",
       " '.0019.scavengerhunt': 'https://api.github.com/repositories/162375181/contents/70751/.0019.scavengerhunt?ref=9308ccc8a4c34c5e3a991ee815222a9691c32476',\n",
       " '.0002.scavengerhunt': 'https://api.github.com/repositories/162375181/contents/88596/.0002.scavengerhunt?ref=9308ccc8a4c34c5e3a991ee815222a9691c32476',\n",
       " '.0011.scavengerhunt': 'https://api.github.com/repositories/162375181/contents/50896/.0011.scavengerhunt?ref=9308ccc8a4c34c5e3a991ee815222a9691c32476',\n",
       " '.0006.scavengerhunt': 'https://api.github.com/repositories/162375181/contents/15024/.0006.scavengerhunt?ref=9308ccc8a4c34c5e3a991ee815222a9691c32476',\n",
       " '.0014.scavengerhunt': 'https://api.github.com/repositories/162375181/contents/49418/.0014.scavengerhunt?ref=9308ccc8a4c34c5e3a991ee815222a9691c32476',\n",
       " '.0012.scavengerhunt': 'https://api.github.com/repositories/162375181/contents/15534/.0012.scavengerhunt?ref=9308ccc8a4c34c5e3a991ee815222a9691c32476',\n",
       " '.0001.scavengerhunt': 'https://api.github.com/repositories/162375181/contents/98750/.0001.scavengerhunt?ref=9308ccc8a4c34c5e3a991ee815222a9691c32476',\n",
       " '.0018.scavengerhunt': 'https://api.github.com/repositories/162375181/contents/45525/.0018.scavengerhunt?ref=9308ccc8a4c34c5e3a991ee815222a9691c32476',\n",
       " '.0013.scavengerhunt': 'https://api.github.com/repositories/162375181/contents/89338/.0013.scavengerhunt?ref=9308ccc8a4c34c5e3a991ee815222a9691c32476',\n",
       " '.0005.scavengerhunt': 'https://api.github.com/repositories/162375181/contents/44639/.0005.scavengerhunt?ref=9308ccc8a4c34c5e3a991ee815222a9691c32476',\n",
       " '.0020.scavengerhunt': 'https://api.github.com/repositories/162375181/contents/55685/.0020.scavengerhunt?ref=9308ccc8a4c34c5e3a991ee815222a9691c32476',\n",
       " '.0024.scavengerhunt': 'https://api.github.com/repositories/162375181/contents/47222/.0024.scavengerhunt?ref=9308ccc8a4c34c5e3a991ee815222a9691c32476',\n",
       " '.0015.scavengerhunt': 'https://api.github.com/repositories/162375181/contents/91701/.0015.scavengerhunt?ref=9308ccc8a4c34c5e3a991ee815222a9691c32476',\n",
       " '.0007.scavengerhunt': 'https://api.github.com/repositories/162375181/contents/17020/.0007.scavengerhunt?ref=9308ccc8a4c34c5e3a991ee815222a9691c32476',\n",
       " '.0003.scavengerhunt': 'https://api.github.com/repositories/162375181/contents/60224/.0003.scavengerhunt?ref=9308ccc8a4c34c5e3a991ee815222a9691c32476',\n",
       " '.0022.scavengerhunt': 'https://api.github.com/repositories/162375181/contents/40303/.0022.scavengerhunt?ref=9308ccc8a4c34c5e3a991ee815222a9691c32476',\n",
       " '.0010.scavengerhunt': 'https://api.github.com/repositories/162375181/contents/47830/.0010.scavengerhunt?ref=9308ccc8a4c34c5e3a991ee815222a9691c32476',\n",
       " '.0004.scavengerhunt': 'https://api.github.com/repositories/162375181/contents/68848/.0004.scavengerhunt?ref=9308ccc8a4c34c5e3a991ee815222a9691c32476',\n",
       " '.0017.scavengerhunt': 'https://api.github.com/repositories/162375181/contents/70985/.0017.scavengerhunt?ref=9308ccc8a4c34c5e3a991ee815222a9691c32476',\n",
       " '.0008.scavengerhunt': 'https://api.github.com/repositories/162375181/contents/15534/.0008.scavengerhunt?ref=9308ccc8a4c34c5e3a991ee815222a9691c32476'}"
      ]
     },
     "execution_count": 108,
     "metadata": {},
     "output_type": "execute_result"
    }
   ],
   "source": [
    "import requests\n",
    "response = requests.get('https://api.github.com/search/code?q=.scavengerhunt+in:path+repo:ironhack-datalabs/scavenger')\n",
    "search = response.json()\n",
    "search\n",
    "repo_files_names=[item['name']for item in search['items']]\n",
    "repo_files_names.sort()\n",
    "print(repo_files_names)\n",
    "repo_files_urls = {item[\"name\"]: item[\"url\"] for item in search[\"items\"]}\n",
    "repo_files_urls\n",
    "[requests.get(repo_files_urls)[name]]"
   ]
  },
  {
   "cell_type": "code",
   "execution_count": 94,
   "id": "b5f2803a",
   "metadata": {},
   "outputs": [
    {
     "ename": "SyntaxError",
     "evalue": "invalid syntax (763821044.py, line 4)",
     "output_type": "error",
     "traceback": [
      "\u001b[1;36m  Input \u001b[1;32mIn [94]\u001b[1;36m\u001b[0m\n\u001b[1;33m    print repo.get_dir_contents(\"\")\u001b[0m\n\u001b[1;37m          ^\u001b[0m\n\u001b[1;31mSyntaxError\u001b[0m\u001b[1;31m:\u001b[0m invalid syntax\n"
     ]
    }
   ],
   "source": [
    "import github\n",
    "g = github.Github(\"USERNAME\", \"PASSWORD\")\n",
    "repo = g.get_user().get_repo( \"REPO_NAME\" )\n",
    "print repo.get_dir_contents(\"\")"
   ]
  },
  {
   "cell_type": "code",
   "execution_count": null,
   "id": "213e56c1",
   "metadata": {},
   "outputs": [],
   "source": []
  },
  {
   "cell_type": "code",
   "execution_count": null,
   "id": "44c38145",
   "metadata": {},
   "outputs": [],
   "source": []
  }
 ],
 "metadata": {
  "kernelspec": {
   "display_name": "Python 3 (ipykernel)",
   "language": "python",
   "name": "python3"
  },
  "language_info": {
   "codemirror_mode": {
    "name": "ipython",
    "version": 3
   },
   "file_extension": ".py",
   "mimetype": "text/x-python",
   "name": "python",
   "nbconvert_exporter": "python",
   "pygments_lexer": "ipython3",
   "version": "3.9.12"
  }
 },
 "nbformat": 4,
 "nbformat_minor": 5
}
