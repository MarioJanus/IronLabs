{
 "cells": [
  {
   "cell_type": "code",
   "execution_count": 6,
   "id": "a300e0b9",
   "metadata": {},
   "outputs": [],
   "source": []
  },
  {
   "cell_type": "code",
   "execution_count": 68,
   "id": "e4bd9e0c",
   "metadata": {},
   "outputs": [],
   "source": [
    "import requests\n",
    "import random\n",
    "receive=requests.get('https://xkcd.com/')\n",
    "#print(receive.content)\n",
    "latest_comic=requests.get('https://xkcd.com/info.0.json')\n",
    "latest_comic_result=latest_comic.json()\n",
    "random_number=random.choice(range(1, latest_comic_result['num']+1))\n",
    "random_comic=requests.get(f'https://xkcd.com/{random_number}/info.0.json')\n",
    "random_comic_results=random_comic.json\n",
    "\n",
    "with open(r'C:\\Users\\Mario\\Documents\\Privat\\Week2\\image1.png','wb') as f:\n",
    "    f.write(receive1.content)\n",
    "    "
   ]
  },
  {
   "cell_type": "code",
   "execution_count": 52,
   "id": "908e2c13",
   "metadata": {},
   "outputs": [
    {
     "name": "stdout",
     "output_type": "stream",
     "text": [
      "{'Date': 'Mon, 01 Aug 2022 12:37:19 GMT', 'Content-Type': 'application/json', 'Content-Length': '313', 'Connection': 'keep-alive', 'Server': 'gunicorn/19.9.0', 'Access-Control-Allow-Origin': '*', 'Access-Control-Allow-Credentials': 'true'}\n",
      "b'{\\n  \"args\": {\\n    \"Password\": \"p\", \\n    \"Username\": \"u\", \\n    \"things\": \"2\", \\n    \"total\": \"25\"\\n  }, \\n  \"headers\": {\\n    \"Accept\": \"*/*\", \\n    \"Accept-Encoding\": \"gzip, deflate, br\", \\n    \"Host\": \"httpbin.org\", \\n    \"User-Agent\": \"python-requests/2.27.1\", \\n    \"X-Amzn-Trace-Id\": \"Root=1-62e7c8ff-7ce253a76dbe61a53f50d276\"\\n  }, \\n  \"origin\": \"195.134.167.217\", \\n  \"url\": \"https://httpbin.org/get?things=2&total=25&Username=u&Password=p\"\\n}\\n'\n"
     ]
    },
    {
     "ename": "TypeError",
     "evalue": "a bytes-like object is required, not 'dict'",
     "output_type": "error",
     "traceback": [
      "\u001b[1;31m---------------------------------------------------------------------------\u001b[0m",
      "\u001b[1;31mTypeError\u001b[0m                                 Traceback (most recent call last)",
      "Input \u001b[1;32mIn [52]\u001b[0m, in \u001b[0;36m<cell line: 10>\u001b[1;34m()\u001b[0m\n\u001b[0;32m      9\u001b[0m receive\u001b[38;5;241m.\u001b[39mjson()[\u001b[38;5;124m'\u001b[39m\u001b[38;5;124margs\u001b[39m\u001b[38;5;124m'\u001b[39m]\n\u001b[0;32m     10\u001b[0m \u001b[38;5;28;01mwith\u001b[39;00m \u001b[38;5;28mopen\u001b[39m(\u001b[38;5;124mr\u001b[39m\u001b[38;5;124m'\u001b[39m\u001b[38;5;124mC:\u001b[39m\u001b[38;5;124m\\\u001b[39m\u001b[38;5;124mUsers\u001b[39m\u001b[38;5;124m\\\u001b[39m\u001b[38;5;124mMario\u001b[39m\u001b[38;5;124m\\\u001b[39m\u001b[38;5;124mDocuments\u001b[39m\u001b[38;5;124m\\\u001b[39m\u001b[38;5;124mPrivat\u001b[39m\u001b[38;5;124m\\\u001b[39m\u001b[38;5;124mWeek2\u001b[39m\u001b[38;5;124m\\\u001b[39m\u001b[38;5;124mauth.txt\u001b[39m\u001b[38;5;124m'\u001b[39m,\u001b[38;5;124m'\u001b[39m\u001b[38;5;124mwb\u001b[39m\u001b[38;5;124m'\u001b[39m) \u001b[38;5;28;01mas\u001b[39;00m f:\n\u001b[1;32m---> 11\u001b[0m     \u001b[43mf\u001b[49m\u001b[38;5;241;43m.\u001b[39;49m\u001b[43mwrite\u001b[49m\u001b[43m(\u001b[49m\u001b[43mreceive\u001b[49m\u001b[38;5;241;43m.\u001b[39;49m\u001b[43mjson\u001b[49m\u001b[43m(\u001b[49m\u001b[43m)\u001b[49m\u001b[43m[\u001b[49m\u001b[38;5;124;43m'\u001b[39;49m\u001b[38;5;124;43margs\u001b[39;49m\u001b[38;5;124;43m'\u001b[39;49m\u001b[43m]\u001b[49m\u001b[43m)\u001b[49m\n",
      "\u001b[1;31mTypeError\u001b[0m: a bytes-like object is required, not 'dict'"
     ]
    }
   ],
   "source": [
    "import requests\n",
    "\n",
    "receive=requests.get('https://httpbin.org/get')\n",
    "print(receive.headers) #getting Header\n",
    "\n",
    "parameters={'things':2,'total':25, 'Username': 'u', 'Password': 'p'}                    \n",
    "receive=requests.get('https://httpbin.org/get', params=parameters)\n",
    "print(receive.content)\n",
    "receive.json()['args']\n",
    "with open(r'C:\\Users\\Mario\\Documents\\Privat\\Week2\\auth.txt','wb') as f:\n",
    "    f.write(receive.json()['args'])"
   ]
  },
  {
   "cell_type": "code",
   "execution_count": null,
   "id": "d7d7ad92",
   "metadata": {},
   "outputs": [],
   "source": [
    "ploads"
   ]
  }
 ],
 "metadata": {
  "kernelspec": {
   "display_name": "Python 3 (ipykernel)",
   "language": "python",
   "name": "python3"
  },
  "language_info": {
   "codemirror_mode": {
    "name": "ipython",
    "version": 3
   },
   "file_extension": ".py",
   "mimetype": "text/x-python",
   "name": "python",
   "nbconvert_exporter": "python",
   "pygments_lexer": "ipython3",
   "version": "3.9.12"
  }
 },
 "nbformat": 4,
 "nbformat_minor": 5
}
