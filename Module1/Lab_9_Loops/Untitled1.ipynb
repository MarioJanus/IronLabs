{
 "cells": [
  {
   "cell_type": "code",
   "execution_count": 36,
   "id": "a1444f6c",
   "metadata": {},
   "outputs": [
    {
     "name": "stdout",
     "output_type": "stream",
     "text": [
      "Enter new number and zero to finish input: 50\n",
      "Enter new number and zero to finish input: 50\n",
      "Enter new number and zero to finish input: 50\n",
      "Enter new number and zero to finish input: 50\n",
      "Enter new number and zero to finish input: 0\n",
      "[50, 50, 50, 50]\n"
     ]
    },
    {
     "ename": "NameError",
     "evalue": "name 'mean' is not defined",
     "output_type": "error",
     "traceback": [
      "\u001b[1;31m---------------------------------------------------------------------------\u001b[0m",
      "\u001b[1;31mNameError\u001b[0m                                 Traceback (most recent call last)",
      "Input \u001b[1;32mIn [36]\u001b[0m, in \u001b[0;36m<cell line: 13>\u001b[1;34m()\u001b[0m\n\u001b[0;32m     11\u001b[0m \u001b[38;5;28mprint\u001b[39m(num_list)\n\u001b[0;32m     12\u001b[0m Sum\u001b[38;5;241m=\u001b[39m\u001b[38;5;28msum\u001b[39m(num_list)\n\u001b[1;32m---> 13\u001b[0m Average\u001b[38;5;241m=\u001b[39m\u001b[43mmean\u001b[49m(num_list)\n\u001b[0;32m     14\u001b[0m \u001b[38;5;28mprint\u001b[39m(\u001b[38;5;124m\"\u001b[39m\u001b[38;5;124mSum: \u001b[39m\u001b[38;5;124m\"\u001b[39m, Sum)\n\u001b[0;32m     15\u001b[0m \u001b[38;5;28mprint\u001b[39m(\u001b[38;5;124m\"\u001b[39m\u001b[38;5;124mMean: \u001b[39m\u001b[38;5;124m\"\u001b[39m, Average)\n",
      "\u001b[1;31mNameError\u001b[0m: name 'mean' is not defined"
     ]
    }
   ],
   "source": [
    "import statistics as stats\n",
    "num=int(input(\"Enter new number and zero to finish input: \"))\n",
    "num_list=[]\n",
    "num_list.append(num)\n",
    "\n",
    "while num!=0:\n",
    "    num=int(input(\"Enter new number and zero to finish input: \"))\n",
    "    num_list.append(num)\n",
    "num_list.remove(0)\n",
    "\n",
    "print(num_list)\n",
    "Sum=sum(num_list)\n",
    "Average=mean(num_list)\n",
    "print(\"Sum: \", Sum)\n",
    "print(\"Mean: \", Average)\n",
    "\n",
    "\n",
    "        "
   ]
  },
  {
   "cell_type": "markdown",
   "id": "16b5f584",
   "metadata": {},
   "source": [
    "##### numbers = [1,2,3,4,5,1,4,5]\n",
    "Sum = sum(numbers)\n",
    "print(Sum)"
   ]
  },
  {
   "cell_type": "code",
   "execution_count": null,
   "id": "d790b7e5",
   "metadata": {},
   "outputs": [],
   "source": []
  },
  {
   "cell_type": "code",
   "execution_count": null,
   "id": "b06aa14c",
   "metadata": {},
   "outputs": [],
   "source": []
  }
 ],
 "metadata": {
  "kernelspec": {
   "display_name": "Python 3 (ipykernel)",
   "language": "python",
   "name": "python3"
  },
  "language_info": {
   "codemirror_mode": {
    "name": "ipython",
    "version": 3
   },
   "file_extension": ".py",
   "mimetype": "text/x-python",
   "name": "python",
   "nbconvert_exporter": "python",
   "pygments_lexer": "ipython3",
   "version": "3.9.12"
  }
 },
 "nbformat": 4,
 "nbformat_minor": 5
}
