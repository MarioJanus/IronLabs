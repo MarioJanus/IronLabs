{
 "cells": [
  {
   "cell_type": "code",
   "execution_count": 3,
   "id": "f1e8967b",
   "metadata": {},
   "outputs": [
    {
     "data": {
      "text/plain": [
       "17"
      ]
     },
     "execution_count": 3,
     "metadata": {},
     "output_type": "execute_result"
    }
   ],
   "source": [
    "import numpy as np\n",
    "import random\n",
    "true=True\n",
    "false=False\n",
    "sheeps=[true,  true,  true,  false,\n",
    "  true,  true,  true,  true ,\n",
    "  true,  false, true,  false,\n",
    "  true,  false, false, true,\n",
    "  true,  true,  true,  true,\n",
    "  false, false, true,  true]\n",
    "\n",
    "count = np.count_nonzero(sheeps)\n",
    "count"
   ]
  },
  {
   "cell_type": "code",
   "execution_count": 5,
   "id": "fbfcca1f",
   "metadata": {},
   "outputs": [
    {
     "data": {
      "text/plain": [
       "['Keep', 'Keep', 'Keep']"
      ]
     },
     "execution_count": 5,
     "metadata": {},
     "output_type": "execute_result"
    }
   ],
   "source": [
    "lst=[\"Keep\", \"Remove\", \"Keep\", \"Remove\", \"Keep\", \"Remove\"]\n",
    "def remove_2nd_ele(lst):\n",
    "    del lst[1::2]\n",
    "    return lst\n",
    "remove_2nd_ele(lst)\n",
    "\n",
    "    "
   ]
  },
  {
   "cell_type": "code",
   "execution_count": 23,
   "id": "ae165816",
   "metadata": {},
   "outputs": [
    {
     "name": "stdout",
     "output_type": "stream",
     "text": [
      "Number:  14402\n"
     ]
    },
    {
     "data": {
      "text/plain": [
       "20441"
      ]
     },
     "execution_count": 23,
     "metadata": {},
     "output_type": "execute_result"
    }
   ],
   "source": [
    "from random import seed\n",
    "from random import randint\n",
    "seed(1)\n",
    "random_num=randint(10000, 30000)\n",
    "\n",
    "def reverse(num):\n",
    "        return int(str(num)[::-1])\n",
    "\n",
    "print('Number: ', random_num)\n",
    "reverse(random_num)\n"
   ]
  },
  {
   "cell_type": "code",
   "execution_count": 16,
   "id": "78ecd8d6",
   "metadata": {},
   "outputs": [
    {
     "name": "stdout",
     "output_type": "stream",
     "text": [
      "Enter the number: 9119\n"
     ]
    },
    {
     "data": {
      "text/plain": [
       "811181"
      ]
     },
     "execution_count": 16,
     "metadata": {},
     "output_type": "execute_result"
    }
   ],
   "source": [
    "#Welcome. In this kata, you are asked to square every digit of a number and concatenate them.\n",
    "#For example, if we run 9119 through the function, 811181 will come out, because 92 is 81 and 12 is 1.\n",
    "num=str(input(\"Enter the number: \"))\n",
    "\n",
    "def square(num):\n",
    "    x = ''\n",
    "    for i in str(num):\n",
    "        y = int(i) * int(i)\n",
    "        x += str(y)\n",
    "    return int(x)\n",
    "square(num)\n",
    "\n"
   ]
  },
  {
   "cell_type": "code",
   "execution_count": 19,
   "id": "0d2475a0",
   "metadata": {},
   "outputs": [
    {
     "data": {
      "text/plain": [
       "'20441'"
      ]
     },
     "execution_count": 19,
     "metadata": {},
     "output_type": "execute_result"
    }
   ],
   "source": [
    "from random import seed\n",
    "from random import randint\n",
    "seed(1)\n",
    "random_num=randint(10000, 30000)\n",
    "str(random_num)[::-1]\n",
    "\n"
   ]
  },
  {
   "cell_type": "code",
   "execution_count": null,
   "id": "a45e578e",
   "metadata": {},
   "outputs": [],
   "source": []
  }
 ],
 "metadata": {
  "kernelspec": {
   "display_name": "Python 3 (ipykernel)",
   "language": "python",
   "name": "python3"
  },
  "language_info": {
   "codemirror_mode": {
    "name": "ipython",
    "version": 3
   },
   "file_extension": ".py",
   "mimetype": "text/x-python",
   "name": "python",
   "nbconvert_exporter": "python",
   "pygments_lexer": "ipython3",
   "version": "3.9.12"
  }
 },
 "nbformat": 4,
 "nbformat_minor": 5
}
