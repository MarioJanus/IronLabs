{
 "cells": [
  {
   "cell_type": "code",
   "execution_count": 26,
   "id": "c26e3331",
   "metadata": {},
   "outputs": [
    {
     "data": {
      "text/plain": [
       "17"
      ]
     },
     "execution_count": 26,
     "metadata": {},
     "output_type": "execute_result"
    }
   ],
   "source": [
    "import numpy as np\n",
    "import random\n",
    "true=True\n",
    "false=False\n",
    "sheeps=[true,  true,  true,  false,\n",
    "  true,  true,  true,  true ,\n",
    "  true,  false, true,  false,\n",
    "  true,  false, false, true,\n",
    "  true,  true,  true,  true,\n",
    "  false, false, true,  true]\n",
    "\n",
    "count = np.count_nonzero(sheeps)\n",
    "count"
   ]
  },
  {
   "cell_type": "code",
   "execution_count": 51,
   "id": "f86cb050",
   "metadata": {},
   "outputs": [
    {
     "data": {
      "text/plain": [
       "['Keep', 'Keep', 'Keep']"
      ]
     },
     "execution_count": 51,
     "metadata": {},
     "output_type": "execute_result"
    }
   ],
   "source": [
    "lst=[\"Keep\", \"Remove\", \"Keep\", \"Remove\", \"Keep\", \"Remove\"]\n",
    "def remove_every_nth(lst):\n",
    "    del lst[1::2]\n",
    "    return lst\n",
    "remove_every_nth(lst)\n",
    "\n",
    "    "
   ]
  },
  {
   "cell_type": "code",
   "execution_count": 42,
   "id": "40b63bc4",
   "metadata": {},
   "outputs": [
    {
     "name": "stdout",
     "output_type": "stream",
     "text": [
      "Number:  14402\n",
      "Reversed Number:  20441\n"
     ]
    }
   ],
   "source": [
    "from random import seed\n",
    "from random import randint\n",
    "seed(1)\n",
    "random_num=randint(10000, 30000)\n",
    "print('Number: ', random_num)\n",
    "print('Reversed Number: ',str(random_num)[::-1])"
   ]
  },
  {
   "cell_type": "code",
   "execution_count": 67,
   "id": "cdf5dd11",
   "metadata": {},
   "outputs": [
    {
     "name": "stdout",
     "output_type": "stream",
     "text": [
      "Enter the number :9119\n"
     ]
    },
    {
     "data": {
      "text/plain": [
       "811181"
      ]
     },
     "execution_count": 67,
     "metadata": {},
     "output_type": "execute_result"
    }
   ],
   "source": [
    "#Welcome. In this kata, you are asked to square every digit of a number and concatenate them.\n",
    "#For example, if we run 9119 through the function, 811181 will come out, because 92 is 81 and 12 is 1.\n",
    "num=str(input(\"Enter the number :\"))\n",
    "\n",
    "def square(num):\n",
    "    x = ''\n",
    "    for i in str(num):\n",
    "        y = int(i) * int(i)\n",
    "        x += str(y)\n",
    "    \n",
    "    return int(x)\n",
    "square(num)\n"
   ]
  },
  {
   "cell_type": "code",
   "execution_count": 65,
   "id": "f950065b",
   "metadata": {},
   "outputs": [
    {
     "data": {
      "text/plain": [
       "811181"
      ]
     },
     "execution_count": 65,
     "metadata": {},
     "output_type": "execute_result"
    }
   ],
   "source": [
    "\n"
   ]
  },
  {
   "cell_type": "code",
   "execution_count": null,
   "id": "14785a70",
   "metadata": {},
   "outputs": [],
   "source": []
  }
 ],
 "metadata": {
  "kernelspec": {
   "display_name": "Python 3 (ipykernel)",
   "language": "python",
   "name": "python3"
  },
  "language_info": {
   "codemirror_mode": {
    "name": "ipython",
    "version": 3
   },
   "file_extension": ".py",
   "mimetype": "text/x-python",
   "name": "python",
   "nbconvert_exporter": "python",
   "pygments_lexer": "ipython3",
   "version": "3.9.12"
  }
 },
 "nbformat": 4,
 "nbformat_minor": 5
}
