{
 "cells": [
  {
   "cell_type": "code",
   "execution_count": 41,
   "id": "76f69911",
   "metadata": {},
   "outputs": [
    {
     "name": "stdout",
     "output_type": "stream",
     "text": [
      "Some say the world will end in fire Some say in ice From what I’ve tasted of desire I hold with those who favor fire But if it had to perish twice I think I know enough of hate To say that for destruction ice Is also great And would suffice\n",
      "\n",
      " Counter({'say': 3, 'I': 3, 'Some': 2, 'in': 2, 'fire': 2, 'ice': 2, 'of': 2, 'the': 1, 'world': 1, 'will': 1, 'end': 1, 'From': 1, 'what': 1, 'I’ve': 1, 'tasted': 1, 'desire': 1, 'hold': 1, 'with': 1, 'those': 1, 'who': 1, 'favor': 1, 'But': 1, 'if': 1, 'it': 1, 'had': 1, 'to': 1, 'perish': 1, 'twice': 1, 'think': 1, 'know': 1, 'enough': 1, 'hate': 1, 'To': 1, 'that': 1, 'for': 1, 'destruction': 1, 'Is': 1, 'also': 1, 'great': 1, 'And': 1, 'would': 1, 'suffice': 1})\n"
     ]
    }
   ],
   "source": [
    "from collections import Counter\n",
    "poem = \"\"\"Some say the world will end in fire,\n",
    "Some say in ice.\n",
    "From what I’ve tasted of desire\n",
    "I hold with those who favor fire.\n",
    "But if it had to perish twice,\n",
    "I think I know enough of hate\n",
    "To say that for destruction ice\n",
    "Is also great\n",
    "And would suffice.\"\"\"\n",
    "poem=poem.replace(\".\", \"\")\n",
    "poem=poem.replace(\",\", \"\")\n",
    "poem=poem.replace(\"\\n\", \" \")\n",
    "print(poem)\n",
    "\n",
    "text_list=poem.split(sep=\" \")\n",
    "list=Counter(text_list)\n",
    "print(\"\\n\", list)"
   ]
  },
  {
   "cell_type": "code",
   "execution_count": 69,
   "id": "72782ebf",
   "metadata": {},
   "outputs": [
    {
     "name": "stdout",
     "output_type": "stream",
     "text": [
      "i was angry with my friend i told my wrath  my wrath did end i was angry with my foe i told it not  my wrath did grow  and i waterd it in fears night  morning with my tears and i sunned it with smiles and with soft deceitful wiles  and it grew both day and night  till it bore an apple bright  and my foe beheld it shine and he knew that it was mine  and into my garden stole  when the night had veild the pole in the morning glad i see my foe outstretched beneath the tree \n",
      "['i', 'was', 'angry', 'with', 'my', 'friend', 'i', 'told', 'my', 'wrath', '', 'my', 'wrath', 'did', 'end', 'i', 'was', 'angry', 'with', 'my', 'foe', 'i', 'told', 'it', 'not', '', 'my', 'wrath', 'did', 'grow', '', 'and', 'i', 'waterd', 'it', 'in', 'fears', 'night', '', 'morning', 'with', 'my', 'tears', 'and', 'i', 'sunned', 'it', 'with', 'smiles', 'and', 'with', 'soft', 'deceitful', 'wiles', '', 'and', 'it', 'grew', 'both', 'day', 'and', 'night', '', 'till', 'it', 'bore', 'an', 'apple', 'bright', '', 'and', 'my', 'foe', 'beheld', 'it', 'shine', 'and', 'he', 'knew', 'that', 'it', 'was', 'mine', '', 'and', 'into', 'my', 'garden', 'stole', '', 'when', 'the', 'night', 'had', 'veild', 'the', 'pole', 'in', 'the', 'morning', 'glad', 'i', 'see', 'my', 'foe', 'outstretched', 'beneath', 'the', 'tree', '']\n",
      "['i', 'my', 'friend', 'i', 'told', 'my', '', 'my', 'did', 'end', 'i', 'my', 'foe', 'i', 'told', 'not', '', 'my', 'did', 'grow', '', 'i', 'night', '', 'my', 'i', 'sunned', 'smiles', 'soft', 'wiles', '', 'grew', 'both', 'night', '', 'till', 'bore', 'bright', '', 'my', 'foe', 'beheld', 'he', 'knew', '', 'my', 'stole', '', 'when', 'night', 'veild', 'pole', 'i', 'see', 'my', 'foe', 'outstretched', 'tree', '']\n",
      "['i', 'was', 'angry', 'with', 'my', 'friend', 'i', 'told', 'my', 'wrath', '', 'my', 'wrath', 'did', 'end', 'i', 'was', 'angry', 'with', 'my', 'foe', 'i', 'told', 'it', 'not', '', 'my', 'wrath', 'did', 'grow', '', 'and', 'i', 'waterd', 'it', 'in', 'fears', 'night', '', 'morning', 'with', 'my', 'tears', 'and', 'i', 'sunned', 'it', 'with', 'smiles', 'and', 'with', 'soft', 'deceitful', 'wiles', '', 'and', 'it', 'grew', 'both', 'day', 'and', 'night', '', 'till', 'it', 'bore', 'an', 'apple', 'bright', '', 'and', 'my', 'foe', 'beheld', 'it', 'shine', 'and', 'he', 'knew', 'that', 'it', 'was', 'mine', '', 'and', 'into', 'my', 'garden', 'stole', '', 'when', 'the', 'night', 'had', 'veild', 'the', 'pole', 'in', 'the', 'morning', 'glad', 'i', 'see', 'my', 'foe', 'outstretched', 'beneath', 'the', 'tree', '']\n"
     ]
    }
   ],
   "source": [
    "from collections import Counter\n",
    "blacklist = ['and', 'as', 'an', 'a', 'the', 'in', 'it']\n",
    "poem = \"\"\"I was angry with my friend; \n",
    "I told my wrath, my wrath did end.\n",
    "I was angry with my foe: \n",
    "I told it not, my wrath did grow. \n",
    "\n",
    "And I waterd it in fears,\n",
    "Night & morning with my tears: \n",
    "And I sunned it with smiles,\n",
    "And with soft deceitful wiles. \n",
    "\n",
    "And it grew both day and night. \n",
    "Till it bore an apple bright. \n",
    "And my foe beheld it shine,\n",
    "And he knew that it was mine. \n",
    "\n",
    "And into my garden stole, \n",
    "When the night had veild the pole; \n",
    "In the morning glad I see; \n",
    "My foe outstretched beneath the tree.\"\"\"\n",
    "\n",
    "poem=poem.replace(\".\", \" \")\n",
    "poem=poem.replace(\",\", \" \")\n",
    "poem=poem.replace(\"\\n\", \"\")\n",
    "poem=poem.replace(\";\", \"\")\n",
    "poem=poem.replace(\"&\", \"\")\n",
    "poem=poem.replace(\":\", \"\")\n",
    "poem=poem.lower()\n",
    "print(poem)\n",
    "\n",
    "text_list=poem.split(sep=\" \")\n",
    "\n",
    "print(text_list)\n",
    "for i in blacklist:\n",
    "    if i in text_list:\n",
    "        text_list.remove(i)\n",
    "\n",
    "print(text_list)\n"
   ]
  },
  {
   "cell_type": "code",
   "execution_count": null,
   "id": "aa93373f",
   "metadata": {},
   "outputs": [],
   "source": []
  },
  {
   "cell_type": "code",
   "execution_count": null,
   "id": "fde27bed",
   "metadata": {},
   "outputs": [],
   "source": []
  }
 ],
 "metadata": {
  "kernelspec": {
   "display_name": "Python 3 (ipykernel)",
   "language": "python",
   "name": "python3"
  },
  "language_info": {
   "codemirror_mode": {
    "name": "ipython",
    "version": 3
   },
   "file_extension": ".py",
   "mimetype": "text/x-python",
   "name": "python",
   "nbconvert_exporter": "python",
   "pygments_lexer": "ipython3",
   "version": "3.9.12"
  }
 },
 "nbformat": 4,
 "nbformat_minor": 5
}
