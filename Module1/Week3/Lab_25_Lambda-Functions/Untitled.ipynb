{
 "cells": [
  {
   "cell_type": "code",
   "execution_count": null,
   "id": "8349a9e9",
   "metadata": {},
   "outputs": [],
   "source": [
    "def modify_list(lst, lmbda):\n",
    "    return list(map(lmbda, lst))\n",
    "\n",
    "temps = [12, 23, 38, -55, 24]\n",
    "celsius=(lambda x: x+273.15)\n",
    "modify_list(temps, celsius)\n",
    "print(modify_list(temps, celsius))\n"
   ]
  },
  {
   "cell_type": "code",
   "execution_count": null,
   "id": "30725bf7",
   "metadata": {},
   "outputs": [],
   "source": [
    "def div(num_a, num_b, mod):\n",
    "    return list(map(mod, num_a, num_b))\n",
    "\n",
    "a=int(input(\"Enter first number: \"))\n",
    "b=int(input(\"Enter second number: \"))\n",
    "mod=(lambda x: x%x==0)\n",
    "div(a,b,mod)"
   ]
  },
  {
   "cell_type": "code",
   "execution_count": null,
   "id": "9f6c62aa",
   "metadata": {},
   "outputs": [],
   "source": [
    "list_2 = [12, 23, 38, -55, 24]\n",
    "celcius=map(lambda x: x+273.15, list_2)\n",
    "list(celcius)\n"
   ]
  },
  {
   "cell_type": "code",
   "execution_count": null,
   "id": "3628d3d9",
   "metadata": {},
   "outputs": [],
   "source": [
    "list(filter(lambda x: x%2==0, list_1))"
   ]
  },
  {
   "cell_type": "code",
   "execution_count": null,
   "id": "126e2520",
   "metadata": {},
   "outputs": [],
   "source": [
    "z = map(int, input(\"Enter the number\"))\n",
    "n= int(input(\"Enter the divisible number: \"))\n",
    "result = list(filter(lambda x:x%n==0 , z))\n",
    "print(\"The numbers divisible by\",n, \"are\",result)"
   ]
  },
  {
   "cell_type": "code",
   "execution_count": null,
   "id": "9a1b51f8",
   "metadata": {},
   "outputs": [],
   "source": [
    "num_list = int(input(\"Enter the numbers separated by spaces: \"))\n",
    "n= int(input(\"Enter the divisible number: \"))\n",
    "result = (lambda x:x%n==0 , num_list)\n",
    "print(\"The numbers divisible by\",n, \"are\",result)"
   ]
  },
  {
   "cell_type": "code",
   "execution_count": null,
   "id": "69a56bc9",
   "metadata": {},
   "outputs": [],
   "source": [
    "m = int(input(\"Enter the numbers separated by spaces: \"))\n",
    "n= int(input(\"Enter the divisible number: \"))\n",
    "result = (lambda x:x+n)\n",
    "print(\"The numbers divisible by\",n, \"are\",result)"
   ]
  },
  {
   "cell_type": "code",
   "execution_count": null,
   "id": "9d4f86ce",
   "metadata": {},
   "outputs": [],
   "source": [
    "def isDivisible(x, y):\n",
    "    mod = lambda x,y: 1 if x%y == 0 else 0\n",
    "    return mod(x,y)\n",
    "\n",
    "isDivisible(x,y)\n"
   ]
  },
  {
   "cell_type": "code",
   "execution_count": null,
   "id": "b20e00bf",
   "metadata": {},
   "outputs": [],
   "source": [
    "x = int(input(\"Enter the numbers separated by spaces: \"))\n",
    "y= int(input(\"Enter the divisible number: \"))\n",
    "\n",
    "isDivisible = lambda x,y: 1 if x%y==0 else 0\n",
    "\n",
    "isDivisible(x,y)"
   ]
  },
  {
   "cell_type": "code",
   "execution_count": 2,
   "id": "5ed675e7",
   "metadata": {},
   "outputs": [
    {
     "name": "stdout",
     "output_type": "stream",
     "text": [
      "enter an integer: 10\n"
     ]
    },
    {
     "data": {
      "text/plain": [
       "1"
      ]
     },
     "execution_count": 2,
     "metadata": {},
     "output_type": "execute_result"
    }
   ],
   "source": [
    "def divisor(b):\n",
    "#Input: a number\n",
    "#Output: a function that returns 1 if the number is \n",
    "#divisible by another number (to be passed later) and zero otherwise.\n",
    "\n",
    "    # your code here\n",
    "    x = int(input('enter an integer: '))\n",
    "    return mod(x,b)\n",
    "mod = lambda x,y: 1 if x%y == 0 else 0\n",
    "\n",
    "divisor(10)"
   ]
  },
  {
   "cell_type": "code",
   "execution_count": 6,
   "id": "5b632a60",
   "metadata": {},
   "outputs": [
    {
     "name": "stdout",
     "output_type": "stream",
     "text": [
      "enter an integer: 35\n"
     ]
    },
    {
     "data": {
      "text/plain": [
       "1"
      ]
     },
     "execution_count": 6,
     "metadata": {},
     "output_type": "execute_result"
    }
   ],
   "source": [
    "def divisor(b):\n",
    "    x = int(input('enter an integer: '))\n",
    "    mod = lambda x,b: 1 if x%y == 0 else 0\n",
    "    return mod(x,b)\n",
    "divisor(5)"
   ]
  },
  {
   "cell_type": "markdown",
   "id": "d3ec72eb",
   "metadata": {},
   "source": [
    "# "
   ]
  },
  {
   "cell_type": "code",
   "execution_count": 7,
   "id": "d9e2f59d",
   "metadata": {},
   "outputs": [
    {
     "ename": "SyntaxError",
     "evalue": "invalid syntax (868065522.py, line 1)",
     "output_type": "error",
     "traceback": [
      "\u001b[1;36m  Input \u001b[1;32mIn [7]\u001b[1;36m\u001b[0m\n\u001b[1;33m    def divisible5:\u001b[0m\n\u001b[1;37m                  ^\u001b[0m\n\u001b[1;31mSyntaxError\u001b[0m\u001b[1;31m:\u001b[0m invalid syntax\n"
     ]
    }
   ],
   "source": [
    "def divisible5():\n",
    "    x = int(input('enter an integer: '))\n",
    "    mod = lambda x,b: 1 if x%y == 0 else 0\n",
    "    return mod(x,b)\n",
    "divisible5(5)"
   ]
  },
  {
   "cell_type": "code",
   "execution_count": null,
   "id": "befc4d6d",
   "metadata": {},
   "outputs": [],
   "source": []
  }
 ],
 "metadata": {
  "kernelspec": {
   "display_name": "Python 3 (ipykernel)",
   "language": "python",
   "name": "python3"
  },
  "language_info": {
   "codemirror_mode": {
    "name": "ipython",
    "version": 3
   },
   "file_extension": ".py",
   "mimetype": "text/x-python",
   "name": "python",
   "nbconvert_exporter": "python",
   "pygments_lexer": "ipython3",
   "version": "3.9.12"
  }
 },
 "nbformat": 4,
 "nbformat_minor": 5
}
