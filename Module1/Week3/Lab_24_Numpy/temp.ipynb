{
 "cells": [
  {
   "cell_type": "code",
   "execution_count": 1,
   "id": "47c7f22d",
   "metadata": {},
   "outputs": [
    {
     "name": "stdout",
     "output_type": "stream",
     "text": [
      "1.21.5\n"
     ]
    }
   ],
   "source": [
    "import numpy as np\n",
    "print(np.__version__)\n"
   ]
  },
  {
   "cell_type": "code",
   "execution_count": 27,
   "id": "5bb5a132",
   "metadata": {},
   "outputs": [
    {
     "name": "stdout",
     "output_type": "stream",
     "text": [
      "[[[0.51182162 0.9504637  0.14415961]\n",
      "  [0.94864945 0.31183145 0.42332645]]\n",
      "\n",
      " [[0.82770259 0.40919914 0.54959369]\n",
      "  [0.02755911 0.75351311 0.53814331]]\n",
      "\n",
      " [[0.32973172 0.7884287  0.30319483]\n",
      "  [0.45349789 0.1340417  0.40311299]]\n",
      "\n",
      " [[0.20345524 0.26231334 0.75036467]\n",
      "  [0.28040876 0.48519097 0.9807372 ]]\n",
      "\n",
      " [[0.96165719 0.72478994 0.54122686]\n",
      "  [0.2768912  0.16065201 0.96992541]]]\n"
     ]
    }
   ],
   "source": [
    "a = np.random.default_rng(1)\n",
    "a = a.random((5, 2, 3))\n",
    "print(a)"
   ]
  },
  {
   "cell_type": "code",
   "execution_count": 20,
   "id": "fb525c39",
   "metadata": {},
   "outputs": [
    {
     "name": "stdout",
     "output_type": "stream",
     "text": [
      "[[[0.92438514 0.69138486 0.14467876]\n",
      "  [0.14457781 0.4781398  0.03147492]]\n",
      "\n",
      " [[0.19340094 0.81645695 0.23371294]\n",
      "  [0.8853538  0.65344621 0.03920244]]\n",
      "\n",
      " [[0.33030084 0.13709947 0.54685176]\n",
      "  [0.85237228 0.39825936 0.42845305]]\n",
      "\n",
      " [[0.424842   0.94666123 0.86994994]\n",
      "  [0.04404233 0.65475864 0.1979312 ]]\n",
      "\n",
      " [[0.14695844 0.26401481 0.24483079]\n",
      "  [0.61317582 0.04396823 0.25820461]]]\n"
     ]
    }
   ],
   "source": [
    "a_alt1=np.random.random((5,2,3))\n",
    "print(b)"
   ]
  },
  {
   "cell_type": "code",
   "execution_count": 10,
   "id": "e141998f",
   "metadata": {},
   "outputs": [
    {
     "name": "stdout",
     "output_type": "stream",
     "text": [
      "[[[0.96171628 0.62847127 0.69720958]\n",
      "  [0.45382889 0.71645843 0.22041898]]\n",
      "\n",
      " [[0.57746505 0.30343186 0.57275549]\n",
      "  [0.0500252  0.76920089 0.59092182]]\n",
      "\n",
      " [[0.2143467  0.14404171 0.95868709]\n",
      "  [0.38093273 0.19920561 0.23085863]]\n",
      "\n",
      " [[0.94703123 0.8102385  0.32469632]\n",
      "  [0.25555053 0.07297672 0.99997171]]\n",
      "\n",
      " [[0.40227644 0.83916486 0.92066155]\n",
      "  [0.3334796  0.87687053 0.39768517]]]\n"
     ]
    }
   ],
   "source": [
    "a_alt2=np.random.rand(5, 2, 3)\n",
    "print(c)"
   ]
  },
  {
   "cell_type": "code",
   "execution_count": 28,
   "id": "722eba6f",
   "metadata": {},
   "outputs": [],
   "source": [
    "b=np.full((5, 2, 3), 1, dtype=int)"
   ]
  },
  {
   "cell_type": "code",
   "execution_count": 23,
   "id": "59b4acf2",
   "metadata": {},
   "outputs": [
    {
     "name": "stdout",
     "output_type": "stream",
     "text": [
      "[[[1 1 1]\n",
      "  [1 1 1]]\n",
      "\n",
      " [[1 1 1]\n",
      "  [1 1 1]]\n",
      "\n",
      " [[1 1 1]\n",
      "  [1 1 1]]\n",
      "\n",
      " [[1 1 1]\n",
      "  [1 1 1]]\n",
      "\n",
      " [[1 1 1]\n",
      "  [1 1 1]]]\n"
     ]
    }
   ],
   "source": [
    "print(b)"
   ]
  },
  {
   "cell_type": "code",
   "execution_count": null,
   "id": "fb94a02b",
   "metadata": {},
   "outputs": [],
   "source": [
    "if a.any()==b.any():\n",
    "    print(\"a and b are equal\")\n",
    "else:\n",
    "    print('a and b are not equal')"
   ]
  },
  {
   "cell_type": "code",
   "execution_count": 29,
   "id": "a170c36e",
   "metadata": {},
   "outputs": [
    {
     "name": "stdout",
     "output_type": "stream",
     "text": [
      "[[[0.51182162 0.9504637  0.14415961]\n",
      "  [0.94864945 0.31183145 0.42332645]]\n",
      "\n",
      " [[0.82770259 0.40919914 0.54959369]\n",
      "  [0.02755911 0.75351311 0.53814331]]\n",
      "\n",
      " [[0.32973172 0.7884287  0.30319483]\n",
      "  [0.45349789 0.1340417  0.40311299]]\n",
      "\n",
      " [[0.20345524 0.26231334 0.75036467]\n",
      "  [0.28040876 0.48519097 0.9807372 ]]\n",
      "\n",
      " [[0.96165719 0.72478994 0.54122686]\n",
      "  [0.2768912  0.16065201 0.96992541]]\n",
      "\n",
      " [[1.         1.         1.        ]\n",
      "  [1.         1.         1.        ]]\n",
      "\n",
      " [[1.         1.         1.        ]\n",
      "  [1.         1.         1.        ]]\n",
      "\n",
      " [[1.         1.         1.        ]\n",
      "  [1.         1.         1.        ]]\n",
      "\n",
      " [[1.         1.         1.        ]\n",
      "  [1.         1.         1.        ]]\n",
      "\n",
      " [[1.         1.         1.        ]\n",
      "  [1.         1.         1.        ]]]\n"
     ]
    }
   ],
   "source": [
    "x = np.concatenate((a, b), axis=0)\n",
    "print(x)"
   ]
  },
  {
   "cell_type": "code",
   "execution_count": null,
   "id": "30085152",
   "metadata": {},
   "outputs": [],
   "source": []
  }
 ],
 "metadata": {
  "kernelspec": {
   "display_name": "Python 3 (ipykernel)",
   "language": "python",
   "name": "python3"
  },
  "language_info": {
   "codemirror_mode": {
    "name": "ipython",
    "version": 3
   },
   "file_extension": ".py",
   "mimetype": "text/x-python",
   "name": "python",
   "nbconvert_exporter": "python",
   "pygments_lexer": "ipython3",
   "version": "3.9.12"
  }
 },
 "nbformat": 4,
 "nbformat_minor": 5
}
