{
 "cells": [
  {
   "cell_type": "code",
   "execution_count": 59,
   "id": "31289a81",
   "metadata": {},
   "outputs": [
    {
     "name": "stdout",
     "output_type": "stream",
     "text": [
      "\n"
     ]
    }
   ],
   "source": [
    "import requests\n",
    "from bs4 import BeautifulSoup\n",
    "import pandas as pd\n",
    "\n",
    "url = 'https://github.com/trending/developers'\n",
    "html = requests.get(url).content\n",
    "\n",
    "soup=BeautifulSoup(html, \"lxml\")\n",
    "tags=['text']\n",
    "soup\n",
    "text=[element.text for element in soup.find_all(tags)]\n",
    "print('\\n'.join(text))"
   ]
  },
  {
   "cell_type": "code",
   "execution_count": 71,
   "id": "998c9464",
   "metadata": {},
   "outputs": [
    {
     "data": {
      "text/plain": [
       "'one < three'"
      ]
     },
     "execution_count": 71,
     "metadata": {},
     "output_type": "execute_result"
    }
   ],
   "source": [
    "import requests\n",
    "from bs4 import BeautifulSoup\n",
    "from bs4.element import CData\n",
    "\n",
    "import pandas as pd\n",
    "\n",
    "url = 'https://github.com/trending/developers'\n",
    "html = requests.get(url).content\n",
    "\n",
    "soup.get_text()\n"
   ]
  },
  {
   "cell_type": "code",
   "execution_count": null,
   "id": "21cf83d6",
   "metadata": {},
   "outputs": [],
   "source": []
  }
 ],
 "metadata": {
  "kernelspec": {
   "display_name": "Python 3 (ipykernel)",
   "language": "python",
   "name": "python3"
  },
  "language_info": {
   "codemirror_mode": {
    "name": "ipython",
    "version": 3
   },
   "file_extension": ".py",
   "mimetype": "text/x-python",
   "name": "python",
   "nbconvert_exporter": "python",
   "pygments_lexer": "ipython3",
   "version": "3.9.12"
  }
 },
 "nbformat": 4,
 "nbformat_minor": 5
}
