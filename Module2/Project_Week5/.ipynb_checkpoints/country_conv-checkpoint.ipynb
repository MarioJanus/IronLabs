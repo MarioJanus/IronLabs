{
 "cells": [
  {
   "cell_type": "code",
   "execution_count": null,
   "id": "ed3ebf35",
   "metadata": {},
   "outputs": [],
   "source": [
    "pip install country_converter\n",
    "import country_converter as coco\n",
    "standard_names_empl = coco.convert(salary['employee_residence'], to='name')\n",
    "salary['employee_residence'] = standard_names_empl\n",
    "standard_names_comp = coco.convert(salary['company_location'], to='name')\n",
    "salary['company_location'] = standard_names_comp"
   ]
  }
 ],
 "metadata": {
  "kernelspec": {
   "display_name": "Python 3 (ipykernel)",
   "language": "python",
   "name": "python3"
  },
  "language_info": {
   "codemirror_mode": {
    "name": "ipython",
    "version": 3
   },
   "file_extension": ".py",
   "mimetype": "text/x-python",
   "name": "python",
   "nbconvert_exporter": "python",
   "pygments_lexer": "ipython3",
   "version": "3.9.12"
  }
 },
 "nbformat": 4,
 "nbformat_minor": 5
}
