{
 "cells": [
  {
   "cell_type": "code",
   "execution_count": null,
   "id": "b6572d91",
   "metadata": {},
   "outputs": [],
   "source": [
    "options_job = salary['job_title'].unique().tolist()\n",
    "\n",
    "selected_options = st.sidebar.multiselect('Number of jobs?',options_job)\n",
    "num_jobs = salary[salary[\"job_title\"].isin(selected_options)]\n",
    "st.dataframe(num_jobs.groupby([\"job_title\"]).agg({\"job_title\":\"count\"}).rename(columns={'job_title': 'Number of jobs'}))\n",
    "######\n",
    "options_emp_typ = salary['employment_type'].unique().tolist()\n",
    "selected_options = st.sidebar.multiselect('Number of employment types?',options_emp_typ, default=salary[\"employment_type\"].unique())\n",
    "num_typ = salary[salary['employment_type'].isin(selected_options)]\n",
    "st.dataframe(num_typ.groupby([\"employment_type\"]).agg({\"employment_type\":\"count\"}).rename(columns={'employment_type': 'Number of employement types'}))\n",
    "\n",
    "######\n",
    "\n",
    "locations = salary['employee_residence'].unique().tolist()\n",
    "sidebar = st.sidebar\n",
    "select_loc = sidebar.selectbox(\"Select Country\",locations)\n",
    "#st.dataframe(test.groupby([\"employment_type\"]).agg({\"employment_type\":\"count\"}))\n",
    "             \n",
    "x=st.dataframe(salary.groupby([salary['employee_residence']==select_loc,\"job_title\"]).agg({'job_title':'count'}))"
   ]
  }
 ],
 "metadata": {
  "kernelspec": {
   "display_name": "Python 3 (ipykernel)",
   "language": "python",
   "name": "python3"
  },
  "language_info": {
   "codemirror_mode": {
    "name": "ipython",
    "version": 3
   },
   "file_extension": ".py",
   "mimetype": "text/x-python",
   "name": "python",
   "nbconvert_exporter": "python",
   "pygments_lexer": "ipython3",
   "version": "3.9.12"
  }
 },
 "nbformat": 4,
 "nbformat_minor": 5
}
