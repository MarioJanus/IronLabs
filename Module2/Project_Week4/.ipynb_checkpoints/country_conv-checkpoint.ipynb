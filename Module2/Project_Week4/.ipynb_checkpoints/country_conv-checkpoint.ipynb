{
 "cells": [
  {
   "cell_type": "code",
   "execution_count": null,
   "id": "08f59c2e",
   "metadata": {},
   "outputs": [],
   "source": [
    "pip install country_converter\n",
    "import country_converter as coco\n",
    "standard_names = coco.convert(salary['employee_residence'], to='name')\n",
    "salary['employee_residence'] = standard_names\n",
    "salary['company_location'] = standard_names"
   ]
  }
 ],
 "metadata": {
  "kernelspec": {
   "display_name": "Python 3 (ipykernel)",
   "language": "python",
   "name": "python3"
  },
  "language_info": {
   "codemirror_mode": {
    "name": "ipython",
    "version": 3
   },
   "file_extension": ".py",
   "mimetype": "text/x-python",
   "name": "python",
   "nbconvert_exporter": "python",
   "pygments_lexer": "ipython3",
   "version": "3.9.12"
  }
 },
 "nbformat": 4,
 "nbformat_minor": 5
}
