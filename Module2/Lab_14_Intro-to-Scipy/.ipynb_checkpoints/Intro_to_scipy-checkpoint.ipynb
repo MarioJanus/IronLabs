{
 "cells": [
  {
   "cell_type": "code",
   "execution_count": 1,
   "metadata": {
    "executionInfo": {
     "elapsed": 705,
     "status": "ok",
     "timestamp": 1647851416692,
     "user": {
      "displayName": "Kseniia Ilchenko",
      "photoUrl": "https://lh3.googleusercontent.com/a/default-user=s64",
      "userId": "13207513087926196068"
     },
     "user_tz": -60
    },
    "id": "v-M5NJtK5qod"
   },
   "outputs": [],
   "source": [
    "%matplotlib inline\n",
    "\n",
    "import matplotlib.pyplot as plt\n",
    "import numpy as np\n",
    "from scipy.stats import norm\n",
    "\n"
   ]
  },
  {
   "cell_type": "code",
   "execution_count": 2,
   "metadata": {
    "colab": {
     "base_uri": "https://localhost:8080/"
    },
    "executionInfo": {
     "elapsed": 278,
     "status": "ok",
     "timestamp": 1647851438017,
     "user": {
      "displayName": "Kseniia Ilchenko",
      "photoUrl": "https://lh3.googleusercontent.com/a/default-user=s64",
      "userId": "13207513087926196068"
     },
     "user_tz": -60
    },
    "id": "WglDLMLn5qog",
    "outputId": "3bff84c1-ba48-4383-d70c-86c7c283a2cd"
   },
   "outputs": [
    {
     "data": {
      "text/plain": [
       "<scipy.stats._distn_infrastructure.rv_frozen at 0x7f15adb044d0>"
      ]
     },
     "execution_count": 2,
     "metadata": {},
     "output_type": "execute_result"
    }
   ],
   "source": [
    "n=norm()\n",
    "n"
   ]
  },
  {
   "cell_type": "code",
   "execution_count": 3,
   "metadata": {
    "colab": {
     "base_uri": "https://localhost:8080/"
    },
    "executionInfo": {
     "elapsed": 266,
     "status": "ok",
     "timestamp": 1647851482822,
     "user": {
      "displayName": "Kseniia Ilchenko",
      "photoUrl": "https://lh3.googleusercontent.com/a/default-user=s64",
      "userId": "13207513087926196068"
     },
     "user_tz": -60
    },
    "id": "Bu-CQo7z5qoh",
    "outputId": "4a3644c4-ae0c-4f17-af29-e9146b79849d"
   },
   "outputs": [
    {
     "data": {
      "text/plain": [
       "0.0"
      ]
     },
     "execution_count": 3,
     "metadata": {},
     "output_type": "execute_result"
    }
   ],
   "source": [
    "n.median()"
   ]
  },
  {
   "cell_type": "code",
   "execution_count": 4,
   "metadata": {
    "colab": {
     "base_uri": "https://localhost:8080/"
    },
    "executionInfo": {
     "elapsed": 299,
     "status": "ok",
     "timestamp": 1647851497991,
     "user": {
      "displayName": "Kseniia Ilchenko",
      "photoUrl": "https://lh3.googleusercontent.com/a/default-user=s64",
      "userId": "13207513087926196068"
     },
     "user_tz": -60
    },
    "id": "8mfFiT8b5qoh",
    "outputId": "d6b5bdfe-60e3-46b1-8182-20ebf68fa5b1"
   },
   "outputs": [
    {
     "data": {
      "text/plain": [
       "1.0"
      ]
     },
     "execution_count": 4,
     "metadata": {},
     "output_type": "execute_result"
    }
   ],
   "source": [
    "n.std()"
   ]
  },
  {
   "cell_type": "code",
   "execution_count": 5,
   "metadata": {
    "colab": {
     "base_uri": "https://localhost:8080/"
    },
    "executionInfo": {
     "elapsed": 250,
     "status": "ok",
     "timestamp": 1647851588922,
     "user": {
      "displayName": "Kseniia Ilchenko",
      "photoUrl": "https://lh3.googleusercontent.com/a/default-user=s64",
      "userId": "13207513087926196068"
     },
     "user_tz": -60
    },
    "id": "IbRKvKpi5qoi",
    "outputId": "0a9355f3-d52c-4bd4-c8a9-6329829849f9"
   },
   "outputs": [
    {
     "data": {
      "text/plain": [
       "array([-1.00000000e+00, -9.00000000e-01, -8.00000000e-01, -7.00000000e-01,\n",
       "       -6.00000000e-01, -5.00000000e-01, -4.00000000e-01, -3.00000000e-01,\n",
       "       -2.00000000e-01, -1.00000000e-01, -2.22044605e-16,  1.00000000e-01,\n",
       "        2.00000000e-01,  3.00000000e-01,  4.00000000e-01,  5.00000000e-01,\n",
       "        6.00000000e-01,  7.00000000e-01,  8.00000000e-01,  9.00000000e-01,\n",
       "        1.00000000e+00])"
      ]
     },
     "execution_count": 5,
     "metadata": {},
     "output_type": "execute_result"
    }
   ],
   "source": [
    "# The code below generates numbers between -1 and 1 in 0.1 increments\n",
    "x = np.arange(-1, 1.1, 0.1)\n",
    "x\n"
   ]
  },
  {
   "cell_type": "code",
   "execution_count": 7,
   "metadata": {
    "executionInfo": {
     "elapsed": 256,
     "status": "ok",
     "timestamp": 1647851633411,
     "user": {
      "displayName": "Kseniia Ilchenko",
      "photoUrl": "https://lh3.googleusercontent.com/a/default-user=s64",
      "userId": "13207513087926196068"
     },
     "user_tz": -60
    },
    "id": "xYVOVdq3nAWn"
   },
   "outputs": [],
   "source": [
    "# Now we will initialize the normal distribution object\n",
    "norm = norm()"
   ]
  },
  {
   "cell_type": "code",
   "execution_count": 8,
   "metadata": {
    "colab": {
     "base_uri": "https://localhost:8080/",
     "height": 283
    },
    "executionInfo": {
     "elapsed": 724,
     "status": "ok",
     "timestamp": 1647851635442,
     "user": {
      "displayName": "Kseniia Ilchenko",
      "photoUrl": "https://lh3.googleusercontent.com/a/default-user=s64",
      "userId": "13207513087926196068"
     },
     "user_tz": -60
    },
    "id": "58WoKYVw5qoi",
    "outputId": "36408375-50e0-4f36-e8f0-993930a22709"
   },
   "outputs": [
    {
     "data": {
      "text/plain": [
       "[<matplotlib.lines.Line2D at 0x7f15bb4b9f10>]"
      ]
     },
     "execution_count": 8,
     "metadata": {},
     "output_type": "execute_result"
    },
    {
     "data": {
      "image/png": "[encoded data removed]",
      "text/plain": [
       "<Figure size 432x288 with 1 Axes>"
      ]
     },
     "metadata": {
      "needs_background": "light"
     },
     "output_type": "display_data"
    }
   ],
   "source": [
    "# Below we will use matplotlib to plot the bell curve. We will generate the probability density fuction\n",
    "# (pdf) for the values we generated in x\n",
    "plt.plot(x, norm.pdf(x))"
   ]
  },
  {
   "cell_type": "code",
   "execution_count": 9,
   "metadata": {
    "colab": {
     "base_uri": "https://localhost:8080/"
    },
    "executionInfo": {
     "elapsed": 238,
     "status": "ok",
     "timestamp": 1647851788551,
     "user": {
      "displayName": "Kseniia Ilchenko",
      "photoUrl": "https://lh3.googleusercontent.com/a/default-user=s64",
      "userId": "13207513087926196068"
     },
     "user_tz": -60
    },
    "id": "3GhrEXq-5qoj",
    "outputId": "e9b599a1-645c-419f-d4c5-01a9cdcdb778"
   },
   "outputs": [
    {
     "data": {
      "text/plain": [
       "array([-1. ,  2.5])"
      ]
     },
     "execution_count": 9,
     "metadata": {},
     "output_type": "execute_result"
    }
   ],
   "source": [
    "from scipy.linalg import solve\n",
    "\n",
    "a = np.array([[5, 6], [2, 4]])\n",
    "b = np.array([10, 8])\n",
    "x = solve(a, b)\n",
    "x\n"
   ]
  },
  {
   "cell_type": "code",
   "execution_count": 11,
   "metadata": {
    "colab": {
     "base_uri": "https://localhost:8080/"
    },
    "executionInfo": {
     "elapsed": 258,
     "status": "ok",
     "timestamp": 1647852045427,
     "user": {
      "displayName": "Kseniia Ilchenko",
      "photoUrl": "https://lh3.googleusercontent.com/a/default-user=s64",
      "userId": "13207513087926196068"
     },
     "user_tz": -60
    },
    "id": "_kyQXwCQ5qoj",
    "outputId": "ad71bb4a-52f1-41ae-e600-872ff6a5ceb6"
   },
   "outputs": [
    {
     "data": {
      "text/plain": [
       "array([ 0,  1,  2,  3,  4,  5,  6,  7,  8,  9, 10])"
      ]
     },
     "execution_count": 11,
     "metadata": {},
     "output_type": "execute_result"
    }
   ],
   "source": [
    "from scipy.interpolate import interp1d\n",
    "\n",
    "# We are creating a dataset where the x values are numbers 0 through 10 \n",
    "# and the y values are the cosine of the x values\n",
    "x = np.arange(0, 11, 1)\n",
    "y = np.cos(x)\n",
    "x"
   ]
  },
  {
   "cell_type": "code",
   "execution_count": 12,
   "metadata": {
    "colab": {
     "base_uri": "https://localhost:8080/"
    },
    "executionInfo": {
     "elapsed": 8,
     "status": "ok",
     "timestamp": 1647852052519,
     "user": {
      "displayName": "Kseniia Ilchenko",
      "photoUrl": "https://lh3.googleusercontent.com/a/default-user=s64",
      "userId": "13207513087926196068"
     },
     "user_tz": -60
    },
    "id": "Wk4T7aZCoqCC",
    "outputId": "5fcf87bb-64c6-4353-9f07-6717058958cb"
   },
   "outputs": [
    {
     "data": {
      "text/plain": [
       "array([ 1.        ,  0.54030231, -0.41614684, -0.9899925 , -0.65364362,\n",
       "        0.28366219,  0.96017029,  0.75390225, -0.14550003, -0.91113026,\n",
       "       -0.83907153])"
      ]
     },
     "execution_count": 12,
     "metadata": {},
     "output_type": "execute_result"
    }
   ],
   "source": [
    "y"
   ]
  },
  {
   "cell_type": "code",
   "execution_count": 13,
   "metadata": {
    "colab": {
     "base_uri": "https://localhost:8080/"
    },
    "executionInfo": {
     "elapsed": 10,
     "status": "ok",
     "timestamp": 1647852078623,
     "user": {
      "displayName": "Kseniia Ilchenko",
      "photoUrl": "https://lh3.googleusercontent.com/a/default-user=s64",
      "userId": "13207513087926196068"
     },
     "user_tz": -60
    },
    "id": "GYDG5fBfox_d",
    "outputId": "410bacc5-c68e-4596-c180-aa7810694fc7"
   },
   "outputs": [
    {
     "data": {
      "text/plain": [
       "<scipy.interpolate.interpolate.interp1d at 0x7f15ab50e470>"
      ]
     },
     "execution_count": 13,
     "metadata": {},
     "output_type": "execute_result"
    }
   ],
   "source": [
    "\n",
    "# We generate an interpolation function and then apply that function to the new data and plot\n",
    "f = interp1d(x, y)\n",
    "f"
   ]
  },
  {
   "cell_type": "code",
   "execution_count": 14,
   "metadata": {
    "colab": {
     "base_uri": "https://localhost:8080/",
     "height": 283
    },
    "executionInfo": {
     "elapsed": 304,
     "status": "ok",
     "timestamp": 1647852097731,
     "user": {
      "displayName": "Kseniia Ilchenko",
      "photoUrl": "https://lh3.googleusercontent.com/a/default-user=s64",
      "userId": "13207513087926196068"
     },
     "user_tz": -60
    },
    "id": "6Wdaq91Yo28T",
    "outputId": "5590e528-8683-4037-bf91-d28b275d8965"
   },
   "outputs": [
    {
     "data": {
      "text/plain": [
       "[<matplotlib.lines.Line2D at 0x7f15ab4d2a90>]"
      ]
     },
     "execution_count": 14,
     "metadata": {},
     "output_type": "execute_result"
    },
    {
     "data": {
      "image/png": "[encoded data removed]",
      "text/plain": [
       "<Figure size 432x288 with 1 Axes>"
      ]
     },
     "metadata": {
      "needs_background": "light"
     },
     "output_type": "display_data"
    }
   ],
   "source": [
    "xnew = np.arange(0, 10.25, 0.25)\n",
    "plt.plot(xnew, f(xnew))"
   ]
  },
  {
   "cell_type": "code",
   "execution_count": null,
   "metadata": {
    "id": "u1Gbhjg35qok",
    "outputId": "16766ba2-5428-4cc9-9e7e-f35ff0666c5c"
   },
   "outputs": [
    {
     "data": {
      "text/plain": [
       "[<matplotlib.lines.Line2D at 0x235689c9d88>]"
      ]
     },
     "execution_count": 13,
     "metadata": {},
     "output_type": "execute_result"
    },
    {
     "data": {
      "image/png": "[encoded data removed]",
      "text/plain": [
       "<Figure size 432x288 with 1 Axes>"
      ]
     },
     "metadata": {
      "needs_background": "light"
     },
     "output_type": "display_data"
    }
   ],
   "source": [
    "f = interp1d(x, y, 'quadratic')\n",
    "xnew = np.arange(0, 10.25, 0.25)\n",
    "plt.plot(xnew, f(xnew))"
   ]
  },
  {
   "cell_type": "code",
   "execution_count": null,
   "metadata": {
    "colab": {
     "base_uri": "https://localhost:8080/",
     "height": 265
    },
    "executionInfo": {
     "elapsed": 663,
     "status": "ok",
     "timestamp": 1641807121216,
     "user": {
      "displayName": "Kseniia Ilchenko",
      "photoUrl": "https://lh3.googleusercontent.com/a/default-user=s64",
      "userId": "13207513087926196068"
     },
     "user_tz": -60
    },
    "id": "GtkT4Sq75qol",
    "outputId": "f707af4f-1d0c-45ea-e5c6-ff194948c67e"
   },
   "outputs": [
    {
     "data": {
      "image/png": "[encoded data removed]",
      "text/plain": [
       "<Figure size 432x288 with 1 Axes>"
      ]
     },
     "metadata": {
      "needs_background": "light"
     },
     "output_type": "display_data"
    }
   ],
   "source": [
    "from scipy.stats import binom\n",
    "import matplotlib.pyplot as plt\n",
    "fig, ax = plt.subplots(1, 1)\n",
    "n, p = 15, 0.9\n",
    "mean, var, skew, kurt = binom.stats(n, p, moments='mvsk')\n",
    "x = np.arange(binom.ppf(0.01, n, p),\n",
    "              binom.ppf(0.99, n, p))\n",
    "ax.plot(x, binom.pmf(x, n, p), 'bo', ms=8, label='binom pmf')\n",
    "ax.vlines(x, 0, binom.pmf(x, n, p), colors='b', lw=5, alpha=0.5)\n",
    "rv = binom(n, p)\n",
    "ax.vlines(x, 0, rv.pmf(x), colors='k', linestyles='-', lw=1,\n",
    "        label='frozen pmf')\n",
    "ax.legend(loc='best', frameon=False)\n",
    "plt.show()"
   ]
  },
  {
   "cell_type": "code",
   "execution_count": null,
   "metadata": {
    "id": "gYdpGCkL5qom"
   },
   "outputs": [],
   "source": []
  },
  {
   "cell_type": "code",
   "execution_count": null,
   "metadata": {
    "id": "AnAjgX7U5qom"
   },
   "outputs": [],
   "source": []
  }
 ],
 "metadata": {
  "colab": {
   "name": "Intro_to_scipy.ipynb",
   "provenance": []
  },
  "kernelspec": {
   "display_name": "Python 3 (ipykernel)",
   "language": "python",
   "name": "python3"
  },
  "language_info": {
   "codemirror_mode": {
    "name": "ipython",
    "version": 3
   },
   "file_extension": ".py",
   "mimetype": "text/x-python",
   "name": "python",
   "nbconvert_exporter": "python",
   "pygments_lexer": "ipython3",
   "version": "3.9.12"
  }
 },
 "nbformat": 4,
 "nbformat_minor": 1
}
