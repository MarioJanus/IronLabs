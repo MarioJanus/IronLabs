{
 "cells": [
  {
   "cell_type": "markdown",
   "id": "23e4c009",
   "metadata": {},
   "source": [
    "* Challenge 1. Write a Python program to print all permutations of the string \"Ironhack\"\n",
    "* Challenge 2: How many ways can you choose 3 people from a group of 17 for making the group projects teams?\n",
    "* Challenge 3: Let's imagine you need to organize the business processes in the coffee shop.  You know that each cup can be made from 10 possible ingridients. But it is not profitable to use more than 5 portions of ingridients at once. These ingridients should not be unique (for example, you can put milk twice, and a chocolate onle). How many different variations of coffee you can include to the menu?\n",
    "* Challenge 4: Given an array of distinct integers, return all the possible permutations. You can return the answer in any order. The lenght of array and the integers are given by user and may vary\n",
    "* Challenge 5: Use intertools library to solve the following problem: Six books are lying on a table in front of you. How many ways can you arrange the books, considering both the left-to-right order of the books and whether they’re set with the front cover facing up or down?"
   ]
  }
 ],
 "metadata": {
  "kernelspec": {
   "display_name": "Python 3 (ipykernel)",
   "language": "python",
   "name": "python3"
  },
  "language_info": {
   "codemirror_mode": {
    "name": "ipython",
    "version": 3
   },
   "file_extension": ".py",
   "mimetype": "text/x-python",
   "name": "python",
   "nbconvert_exporter": "python",
   "pygments_lexer": "ipython3",
   "version": "3.9.12"
  }
 },
 "nbformat": 4,
 "nbformat_minor": 5
}
