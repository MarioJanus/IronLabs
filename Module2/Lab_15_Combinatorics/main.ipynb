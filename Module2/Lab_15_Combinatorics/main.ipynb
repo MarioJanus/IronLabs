{
 "cells": [
  {
   "cell_type": "markdown",
   "id": "35fd8b05",
   "metadata": {},
   "source": [
    "* Challenge 1. Write a Python program to print all permutations of the string \"Ironhack\"\n",
    "* Challenge 2: How many ways can you choose 3 people from a group of 17 for making the group projects teams?\n",
    "* Challenge 3: Let's imagine you need to organize the business processes in the coffee shop.  You know that each cup can be made from 10 possible ingridients. But it is not profitable to use more than 5 portions of ingridients at once. These ingridients should not be unique (for example, you can put milk twice, and a chocolate onle). How many different variations of coffee you can include to the menu?\n",
    "* Challenge 4: Given an array of distinct integers, return all the possible permutations. You can return the answer in any order. The lenght of array and the integers are given by user and may vary\n",
    "* Challenge 5: Use intertools library to solve the following problem: Six books are lying on a table in front of you. How many ways can you arrange the books, considering both the left-to-right order of the books and whether they’re set with the front cover facing up or down?"
   ]
  },
  {
   "cell_type": "code",
   "execution_count": 34,
   "id": "5182f502",
   "metadata": {},
   "outputs": [
    {
     "ename": "AttributeError",
     "evalue": "type object 'int' has no attribute 'replace'",
     "output_type": "error",
     "traceback": [
      "\u001b[1;31m---------------------------------------------------------------------------\u001b[0m",
      "\u001b[1;31mAttributeError\u001b[0m                            Traceback (most recent call last)",
      "Input \u001b[1;32mIn [34]\u001b[0m, in \u001b[0;36m<cell line: 11>\u001b[1;34m()\u001b[0m\n\u001b[0;32m      8\u001b[0m             permutation_list\u001b[38;5;241m.\u001b[39mappend(c\u001b[38;5;241m+\u001b[39mperm)\n\u001b[0;32m     10\u001b[0m     \u001b[38;5;28;01mreturn\u001b[39;00m \u001b[38;5;28mset\u001b[39m(permutation_list)\n\u001b[1;32m---> 11\u001b[0m \u001b[38;5;28mlen\u001b[39m(\u001b[43mpermutations\u001b[49m\u001b[43m(\u001b[49m\u001b[38;5;124;43m'\u001b[39;49m\u001b[38;5;124;43mironhack\u001b[39;49m\u001b[38;5;124;43m'\u001b[39;49m\u001b[43m)\u001b[49m)\n",
      "Input \u001b[1;32mIn [34]\u001b[0m, in \u001b[0;36mpermutations\u001b[1;34m(string)\u001b[0m\n\u001b[0;32m      5\u001b[0m permutation_list \u001b[38;5;241m=\u001b[39m []\n\u001b[0;32m      6\u001b[0m \u001b[38;5;28;01mfor\u001b[39;00m c \u001b[38;5;129;01min\u001b[39;00m string:\n\u001b[1;32m----> 7\u001b[0m     \u001b[38;5;28;01mfor\u001b[39;00m perm \u001b[38;5;129;01min\u001b[39;00m permutations(\u001b[38;5;28;43mint\u001b[39;49m\u001b[38;5;241;43m.\u001b[39;49m\u001b[43mreplace\u001b[49m(c,\u001b[38;5;124m'\u001b[39m\u001b[38;5;124m'\u001b[39m,\u001b[38;5;241m1\u001b[39m)):\n\u001b[0;32m      8\u001b[0m         permutation_list\u001b[38;5;241m.\u001b[39mappend(c\u001b[38;5;241m+\u001b[39mperm)\n\u001b[0;32m     10\u001b[0m \u001b[38;5;28;01mreturn\u001b[39;00m \u001b[38;5;28mset\u001b[39m(permutation_list)\n",
      "\u001b[1;31mAttributeError\u001b[0m: type object 'int' has no attribute 'replace'"
     ]
    }
   ],
   "source": [
    "\n",
    "def permutations(string):\n",
    "    if len(string) == 1:\n",
    "        return string\n",
    "\n",
    "    permutation_list = []\n",
    "    for c in string:\n",
    "        for perm in permutations(int.replace(c,'',1)):\n",
    "            permutation_list.append(c+perm)\n",
    "\n",
    "    return set(permutation_list)\n",
    "len(permutations('ironhack'))"
   ]
  },
  {
   "cell_type": "code",
   "execution_count": 28,
   "id": "916e76a1",
   "metadata": {},
   "outputs": [
    {
     "data": {
      "text/plain": [
       "1.4338431997162155e-13"
      ]
     },
     "execution_count": 28,
     "metadata": {},
     "output_type": "execute_result"
    }
   ],
   "source": [
    "#Challenge 2: How many ways can you choose 3 people from a group of 17 for making the group projects teams?\n",
    "people=3\n",
    "factorial=1\n",
    "for i in range(1,17):\n",
    "    factorial = factorial*i\n",
    "factorial\n",
    "possibilities=people/factorial\n",
    "possibilities\n",
    "        "
   ]
  },
  {
   "cell_type": "code",
   "execution_count": 35,
   "id": "e14c8365",
   "metadata": {},
   "outputs": [
    {
     "name": "stdout",
     "output_type": "stream",
     "text": [
      "Enter integer number and find permutations of it: 12\n"
     ]
    },
    {
     "ename": "TypeError",
     "evalue": "object of type 'int' has no len()",
     "output_type": "error",
     "traceback": [
      "\u001b[1;31m---------------------------------------------------------------------------\u001b[0m",
      "\u001b[1;31mTypeError\u001b[0m                                 Traceback (most recent call last)",
      "Input \u001b[1;32mIn [35]\u001b[0m, in \u001b[0;36m<cell line: 5>\u001b[1;34m()\u001b[0m\n\u001b[0;32m      1\u001b[0m \u001b[38;5;66;03m#Challenge 4: Given an array of distinct integers, return all the possible permutations. You can return the answer in any order. \u001b[39;00m\n\u001b[0;32m      2\u001b[0m \u001b[38;5;66;03m#The lenght of array and the integers are given by user and may vary\u001b[39;00m\n\u001b[0;32m      4\u001b[0m num_perm\u001b[38;5;241m=\u001b[39m\u001b[38;5;28mint\u001b[39m(\u001b[38;5;28minput\u001b[39m(\u001b[38;5;124m'\u001b[39m\u001b[38;5;124mEnter integer number and find permutations of it: \u001b[39m\u001b[38;5;124m'\u001b[39m))\n\u001b[1;32m----> 5\u001b[0m \u001b[43mpermutations\u001b[49m\u001b[43m(\u001b[49m\u001b[43mnum_perm\u001b[49m\u001b[43m)\u001b[49m\n",
      "Input \u001b[1;32mIn [34]\u001b[0m, in \u001b[0;36mpermutations\u001b[1;34m(string)\u001b[0m\n\u001b[0;32m      1\u001b[0m \u001b[38;5;28;01mdef\u001b[39;00m \u001b[38;5;21mpermutations\u001b[39m(string):\n\u001b[1;32m----> 2\u001b[0m     \u001b[38;5;28;01mif\u001b[39;00m \u001b[38;5;28;43mlen\u001b[39;49m\u001b[43m(\u001b[49m\u001b[43mstring\u001b[49m\u001b[43m)\u001b[49m \u001b[38;5;241m==\u001b[39m \u001b[38;5;241m1\u001b[39m:\n\u001b[0;32m      3\u001b[0m         \u001b[38;5;28;01mreturn\u001b[39;00m string\n\u001b[0;32m      5\u001b[0m     permutation_list \u001b[38;5;241m=\u001b[39m []\n",
      "\u001b[1;31mTypeError\u001b[0m: object of type 'int' has no len()"
     ]
    }
   ],
   "source": [
    "#Challenge 4: Given an array of distinct integers, return all the possible permutations. You can return the answer in any order. \n",
    "#The lenght of array and the integers are given by user and may vary\n",
    "\n",
    "num_perm=int(input('Enter integer number and find permutations of it: '))\n",
    "permutations(num_perm)\n"
   ]
  },
  {
   "cell_type": "code",
   "execution_count": null,
   "id": "5f51993c",
   "metadata": {},
   "outputs": [],
   "source": []
  }
 ],
 "metadata": {
  "kernelspec": {
   "display_name": "Python 3 (ipykernel)",
   "language": "python",
   "name": "python3"
  },
  "language_info": {
   "codemirror_mode": {
    "name": "ipython",
    "version": 3
   },
   "file_extension": ".py",
   "mimetype": "text/x-python",
   "name": "python",
   "nbconvert_exporter": "python",
   "pygments_lexer": "ipython3",
   "version": "3.9.12"
  }
 },
 "nbformat": 4,
 "nbformat_minor": 5
}
