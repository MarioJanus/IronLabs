{
 "cells": [
  {
   "cell_type": "code",
   "execution_count": 13,
   "id": "2dbac5eb",
   "metadata": {},
   "outputs": [
    {
     "data": {
      "text/plain": [
       "     con: array([], dtype=float64)\n",
       "     fun: -7759259.259259258\n",
       " message: 'Optimization terminated successfully.'\n",
       "     nit: 2\n",
       "   slack: array([0., 0.])\n",
       "  status: 0\n",
       " success: True\n",
       "       x: array([27777.77777778,     0.        ,  3703.7037037 ])"
      ]
     },
     "execution_count": 13,
     "metadata": {},
     "output_type": "execute_result"
    }
   ],
   "source": [
    "obj = [-250, -200, -220]\n",
    "\n",
    "lhs_ineq = [[10, 8, 6],  # Manpower\n",
    "            [6, 8, 9]]\n",
    "              # Material B\n",
    "\n",
    "rhs_ineq = [300000,  # Manpower\n",
    "            200000]  # Material A\n",
    "#...              90]  # Material B\n",
    "                \n",
    "opt = linprog(c=obj, A_ub=lhs_ineq, b_ub=rhs_ineq, method=\"revised simplex\")\n",
    "opt"
   ]
  },
  {
   "cell_type": "code",
   "execution_count": 3,
   "id": "77cb3ecd",
   "metadata": {},
   "outputs": [
    {
     "data": {
      "text/plain": [
       "     con: array([], dtype=float64)\n",
       "     fun: -1900.0\n",
       " message: 'Optimization terminated successfully.'\n",
       "     nit: 2\n",
       "   slack: array([ 0., 40.,  0.])\n",
       "  status: 0\n",
       " success: True\n",
       "       x: array([ 5.,  0., 45.,  0.])"
      ]
     },
     "execution_count": 3,
     "metadata": {},
     "output_type": "execute_result"
    }
   ],
   "source": [
    "from scipy.optimize import linprog\n",
    ">>> obj = [-20, -12, -40, -25]\n",
    "\n",
    ">>> lhs_ineq = [[1, 1, 1, 1],  # Manpower\n",
    "...             [3, 2, 1, 0],  # Material A\n",
    "...             [0, 1, 2, 3]]  # Material B\n",
    "\n",
    ">>> rhs_ineq = [ 50,  # Manpower\n",
    "...             100,  # Material A\n",
    "...              90]  # Material B\n",
    "\n",
    ">>> opt = linprog(c=obj, A_ub=lhs_ineq, b_ub=rhs_ineq,\n",
    "...               method=\"revised simplex\")\n",
    ">>> opt"
   ]
  },
  {
   "cell_type": "code",
   "execution_count": null,
   "id": "d40cc725",
   "metadata": {},
   "outputs": [],
   "source": []
  }
 ],
 "metadata": {
  "kernelspec": {
   "display_name": "Python 3 (ipykernel)",
   "language": "python",
   "name": "python3"
  },
  "language_info": {
   "codemirror_mode": {
    "name": "ipython",
    "version": 3
   },
   "file_extension": ".py",
   "mimetype": "text/x-python",
   "name": "python",
   "nbconvert_exporter": "python",
   "pygments_lexer": "ipython3",
   "version": "3.9.12"
  }
 },
 "nbformat": 4,
 "nbformat_minor": 5
}
