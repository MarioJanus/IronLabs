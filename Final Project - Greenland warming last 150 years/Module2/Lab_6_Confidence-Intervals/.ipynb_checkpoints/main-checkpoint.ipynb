{
 "cells": [
  {
   "cell_type": "markdown",
   "metadata": {
    "toc": true
   },
   "source": [
    "<h1>Table of Contents<span class=\"tocSkip\"></span></h1>\n",
    "<div class=\"toc\"><ul class=\"toc-item\"><li><span><a href=\"#Confidence-Intervals\" data-toc-modified-id=\"Confidence-Intervals-1\"><span class=\"toc-item-num\">1&nbsp;&nbsp;</span>Confidence Intervals</a></span><ul class=\"toc-item\"><li><span><a href=\"#Challenge-1\" data-toc-modified-id=\"Challenge-1-1.1\"><span class=\"toc-item-num\">1.1&nbsp;&nbsp;</span>Challenge 1</a></span></li><li><span><a href=\"#Challenge-2\" data-toc-modified-id=\"Challenge-2-1.2\"><span class=\"toc-item-num\">1.2&nbsp;&nbsp;</span>Challenge 2</a></span></li><li><span><a href=\"#Challenge-3---More-practice\" data-toc-modified-id=\"Challenge-3---More-practice-1.3\"><span class=\"toc-item-num\">1.3&nbsp;&nbsp;</span>Challenge 3 - More practice</a></span></li><li><span><a href=\"#Challenge-4---More-practice\" data-toc-modified-id=\"Challenge-4---More-practice-1.4\"><span class=\"toc-item-num\">1.4&nbsp;&nbsp;</span>Challenge 4 - More practice</a></span></li><li><span><a href=\"#Bonus-Challenge\" data-toc-modified-id=\"Bonus-Challenge-1.5\"><span class=\"toc-item-num\">1.5&nbsp;&nbsp;</span>Bonus Challenge</a></span><ul class=\"toc-item\"><li><ul class=\"toc-item\"><li><span><a href=\"#1.--Determine-what-size-the-selected-sample-of-men-should-be.\" data-toc-modified-id=\"1.--Determine-what-size-the-selected-sample-of-men-should-be.-1.5.0.1\"><span class=\"toc-item-num\">1.5.0.1&nbsp;&nbsp;</span>1.- Determine what size the selected sample of men should be.</a></span></li><li><span><a href=\"#2.--For-the-second-challenge,-we-have-the-following-error:\" data-toc-modified-id=\"2.--For-the-second-challenge,-we-have-the-following-error:-1.5.0.2\"><span class=\"toc-item-num\">1.5.0.2&nbsp;&nbsp;</span>2.- For the second challenge, we have the following error:</a></span></li><li><span><a href=\"#Determine-the-sample-size-required-to-not-exceed-an-error-of-1%-with-a-confidence-of-80%.\" data-toc-modified-id=\"Determine-the-sample-size-required-to-not-exceed-an-error-of-1%-with-a-confidence-of-80%.-1.5.0.3\"><span class=\"toc-item-num\">1.5.0.3&nbsp;&nbsp;</span>Determine the sample size required to not exceed an error of 1% with a confidence of 80%.</a></span></li></ul></li></ul></li><li><span><a href=\"#Bonus-Challenge\" data-toc-modified-id=\"Bonus-Challenge-1.6\"><span class=\"toc-item-num\">1.6&nbsp;&nbsp;</span>Bonus Challenge</a></span></li></ul></li></ul></div>"
   ]
  },
  {
   "cell_type": "markdown",
   "metadata": {},
   "source": [
    "# Confidence Intervals"
   ]
  },
  {
   "cell_type": "code",
   "execution_count": 2,
   "metadata": {},
   "outputs": [],
   "source": [
    "import pandas as pd\n",
    "import scipy\n",
    "import math\n",
    "import numpy as np\n",
    "from scipy import stats\n",
    "import seaborn as sns\n",
    "import matplotlib.pyplot as plt"
   ]
  },
  {
   "cell_type": "markdown",
   "metadata": {},
   "source": [
    "## Challenge 1\n",
    "We want to estimate the average size of the men of a country with a confidence level of 80%. Assuming that the standard deviation of the sizes in the population is 4, get the confidence interval with a sample of men selected randomly, whose heights are:\n",
    "\n",
    "````\n",
    "heights = [167, 167, 168, 168, 168, 169, 171, 172, 173, 175, 175, 175, 177, 182, 195]\n",
    "````\n",
    "\n",
    "**Hint**: function `stats.norm.interval` from `scipy` can help you get through this exercise. "
   ]
  },
  {
   "cell_type": "code",
   "execution_count": 4,
   "metadata": {},
   "outputs": [
    {
     "name": "stdout",
     "output_type": "stream",
     "text": [
      "1.0327955589886444\n"
     ]
    },
    {
     "ename": "TypeError",
     "evalue": "interval() missing 1 required positional argument: 'alpha'",
     "output_type": "error",
     "traceback": [
      "\u001b[1;31m---------------------------------------------------------------------------\u001b[0m",
      "\u001b[1;31mTypeError\u001b[0m                                 Traceback (most recent call last)",
      "Input \u001b[1;32mIn [4]\u001b[0m, in \u001b[0;36m<cell line: 6>\u001b[1;34m()\u001b[0m\n\u001b[0;32m      4\u001b[0m se\u001b[38;5;241m=\u001b[39mpop_std\u001b[38;5;241m/\u001b[39mmath\u001b[38;5;241m.\u001b[39msqrt(\u001b[38;5;28mlen\u001b[39m(heights))\n\u001b[0;32m      5\u001b[0m \u001b[38;5;28mprint\u001b[39m(se)\n\u001b[1;32m----> 6\u001b[0m x\u001b[38;5;241m=\u001b[39m\u001b[43mstats\u001b[49m\u001b[38;5;241;43m.\u001b[39;49m\u001b[43mnorm\u001b[49m\u001b[38;5;241;43m.\u001b[39;49m\u001b[43minterval\u001b[49m\u001b[43m(\u001b[49m\u001b[43m)\u001b[49m\n\u001b[0;32m      7\u001b[0m x\n",
      "\u001b[1;31mTypeError\u001b[0m: interval() missing 1 required positional argument: 'alpha'"
     ]
    }
   ],
   "source": [
    "heights = [167, 167, 168, 168, 168, 169, 171, 172, 173, 175, 175, 175, 177, 182, 195]\n",
    "pop_std=4\n",
    "mean=np.mean(heights)\n",
    "se=pop_std/math.sqrt(len(heights))\n",
    "print(se)\n",
    "x=stats.norm.interval(0.8)\n",
    "x"
   ]
  },
  {
   "cell_type": "code",
   "execution_count": 6,
   "metadata": {},
   "outputs": [
    {
     "name": "stdout",
     "output_type": "stream",
     "text": [
      "172.14308590115726\n",
      "174.79024743217607\n"
     ]
    }
   ],
   "source": [
    "#lower limit of avg\n",
    "ll=mean-x[1]*se\n",
    "print(ll)\n",
    "#upper limit of avg\n",
    "ul=mean+x[1]*se\n",
    "\n",
    "print(ul)"
   ]
  },
  {
   "cell_type": "markdown",
   "metadata": {},
   "source": [
    "## Challenge 2 \n",
    "In a sample of 105 shops selected randomly from an area, we note that 27 of them have had losses in this month. Get an interval for the proportion of businesses in the area with losses to a confidence level of 80% and a confidence level of 90%.\n",
    "\n",
    "**Hint**: function `stats.norm.interval` from `scipy` can help you get through this exercise. "
   ]
  },
  {
   "cell_type": "code",
   "execution_count": 35,
   "metadata": {},
   "outputs": [
    {
     "name": "stdout",
     "output_type": "stream",
     "text": [
      "(-1.2815515655446004, 1.2815515655446004)\n",
      "(-1.6448536269514729, 1.6448536269514722)\n"
     ]
    },
    {
     "data": {
      "text/plain": [
       "0.3903600291794133"
      ]
     },
     "execution_count": 35,
     "metadata": {},
     "output_type": "execute_result"
    }
   ],
   "source": [
    "#Mine\n",
    "t_shops=105\n",
    "l_shops=27\n",
    "mean_l=l_shops/t_shops*100\n",
    "score_80=stats.norm.interval(0.8)\n",
    "print(score_80)\n",
    "score_90=stats.norm.interval(0.9)\n",
    "print(score_90)\n",
    "se=pop_std/math.sqrt(t_shops)\n",
    "mean_l\n",
    "se"
   ]
  },
  {
   "cell_type": "code",
   "execution_count": null,
   "metadata": {},
   "outputs": [],
   "source": [
    "# Parameters\n",
    "p = loss_shops / total_shops;\n",
    "print(p)\n",
    "se = math.sqrt((p * (1 - p)) / total_shops)\n",
    "print(se)\n"
   ]
  },
  {
   "cell_type": "code",
   "execution_count": null,
   "metadata": {},
   "outputs": [],
   "source": [
    "# METHOD 1\n",
    "# Confidence interval\n",
    "conf_int80 = [p - (score_80 * se), p + (score_80 * se)]\n",
    "conf_int90 = [p - (score_90 * se), p + (score_90 * se)]\n",
    "print(f\"Confidence interval 80%: {conf_int80}\")\n",
    "print(f\"Confidence interval 90%: {conf_int90}\")"
   ]
  },
  {
   "cell_type": "code",
   "execution_count": null,
   "metadata": {},
   "outputs": [],
   "source": [
    "# METHOD 2\n",
    "# Confidence interval\n",
    "conf_int80 = stats.norm.interval(0.80, loc=p, scale=se)\n",
    "conf_int90 = stats.norm.interval(0.90, loc=p, scale=se)\n",
    "print(f\"Confidence interval 80%: {conf_int80}\")\n",
    "print(f\"Confidence interval 90%: {conf_int90}\")"
   ]
  },
  {
   "cell_type": "markdown",
   "metadata": {},
   "source": [
    "## Challenge 3 - More practice\n",
    "For the same example in challenge 1, calculate a confidence interval for the variance at 90% level.\n",
    "\n",
    "**Hint**: function `stats.chi2.interval` from `scipy` can help you get through this exercise. "
   ]
  },
  {
   "cell_type": "code",
   "execution_count": 7,
   "metadata": {},
   "outputs": [
    {
     "name": "stdout",
     "output_type": "stream",
     "text": [
      "50.51555555555555\n"
     ]
    }
   ],
   "source": [
    "df = len(heights) - 1\n",
    "score = stats.chi2.interval(0.90, df)\n",
    "score\n",
    "vv=np.var(heights)\n",
    "print(vv)"
   ]
  },
  {
   "cell_type": "code",
   "execution_count": 9,
   "metadata": {},
   "outputs": [],
   "source": [
    "# Parameters\n",
    "sample_quasi_var = np.var(heights) * (len(heights) / df)"
   ]
  },
  {
   "cell_type": "code",
   "execution_count": 10,
   "metadata": {},
   "outputs": [
    {
     "name": "stdout",
     "output_type": "stream",
     "text": [
      "Confidence interval 90%: [31.992400675216064, 115.32123613002646]\n"
     ]
    }
   ],
   "source": [
    "# METHOD 1\n",
    "# Confidence interval\n",
    "conf_int = [ df * sample_quasi_var / score[1], df * sample_quasi_var / score[0]]\n",
    "print(f\"Confidence interval 90%: {conf_int}\")"
   ]
  },
  {
   "cell_type": "markdown",
   "metadata": {},
   "source": [
    "## Challenge 4 - More practice\n",
    "The sulfuric acid content of 7 similar containers is 9.8, 10.2, 10.4, 9.8, 10.0, 10.2 and 9.6 liters. Calculate a 95% confidence interval for the average content of all containers assuming an approximately normal distribution.\n",
    "\n",
    "```\n",
    "acid = [9.8, 10.2, 10.4, 9.8, 10.0, 10.2, 9.6]\n",
    "```\n",
    "\n",
    "**Hint**: function `stats.t.interval` from `scipy` can help you get through this exercise. "
   ]
  },
  {
   "cell_type": "code",
   "execution_count": 11,
   "metadata": {},
   "outputs": [],
   "source": [
    "acid = [9.8, 10.2, 10.4, 9.8, 10.0, 10.2, 9.6]"
   ]
  },
  {
   "cell_type": "code",
   "execution_count": 12,
   "metadata": {},
   "outputs": [
    {
     "data": {
      "text/plain": [
       "0.28284271247461884"
      ]
     },
     "execution_count": 12,
     "metadata": {},
     "output_type": "execute_result"
    }
   ],
   "source": [
    "acid = [9.8, 10.2, 10.4, 9.8, 10.0, 10.2, 9.6];\n",
    "df = len(acid)-1 \n",
    "stats.t.interval(0.95,  df)[1]\n",
    "\n",
    "tstudent_mean = np.mean(acid)\n",
    "sample_quasi_std = np.std(acid)*math.sqrt((len(acid)/df))\n",
    "sample_quasi_std"
   ]
  },
  {
   "cell_type": "markdown",
   "metadata": {},
   "source": [
    "## Bonus Challenge\n",
    "The error level or sampling error for the first challenge is given by the following expression:\n",
    "$$Error = z_{\\frac{\\alpha}{2}}\\frac{\\sigma}{\\sqrt n}$$\n",
    "Where z represents the value for N(0,1)\n",
    "\n",
    "\n",
    "Suppose that with the previous data of challenge 1, and with a confidence level of\n",
    "99% (that is, almost certainly) we want to estimate the average population size, so that the error level committed is not greater than half a centimeter.\n",
    "\n",
    "#### 1.- Determine what size the selected sample of men should be."
   ]
  },
  {
   "cell_type": "code",
   "execution_count": 13,
   "metadata": {},
   "outputs": [
    {
     "name": "stdout",
     "output_type": "stream",
     "text": [
      "The sample size has to be at least 425 so that the error is lower than 0.5cm.\n"
     ]
    }
   ],
   "source": [
    "sample = [167, 167, 168, 168, 168, 169, 171, 172, 173, 175, 175, 175, 177, 182, 195];\n",
    "pop_std = 4;\n",
    "score = stats.norm.interval(0.99)[1]\n",
    "error = 0.5\n",
    "\n",
    "# Sample Size\n",
    "size_squared = score * pop_std / error;\n",
    "size = math.ceil(math.pow(size_squared,2));\n",
    "print(f\"The sample size has to be at least {size} so that the error is lower than 0.5cm.\");"
   ]
  },
  {
   "cell_type": "markdown",
   "metadata": {},
   "source": [
    "#### 2.- For the second challenge, we have the following error:\n",
    "$$ Error = z_{\\frac{\\alpha}{2}}\\sqrt{\\frac{p\\times q}{n}} $$\n",
    "#### Determine the sample size required to not exceed an error of 1% with a confidence of 80%."
   ]
  },
  {
   "cell_type": "code",
   "execution_count": null,
   "metadata": {},
   "outputs": [],
   "source": [
    "# your code here"
   ]
  },
  {
   "cell_type": "markdown",
   "metadata": {},
   "source": [
    "## Bonus Challenge\n",
    "\n",
    "Let's consider the following problem:\n",
    "\n",
    "Build a confidence interval of 94% for the real difference between the durations of two brands of spotlights, if a sample of 40 spotlights taken randomly from the first mark gave an average duration of 418 hours, and a sample of 50 bulbs of another brand gave a duration average of 402 hours. The standard deviations of the two\n",
    "populations are 26 hours and 22 hours, respectively.\n",
    "\n",
    "Sometimes, we will be interested in the difference of two different groups of random variables. We can also build a confidence interval for that! We have some different cases regarding the variance but for this specific case (the variance are different and known), we have that:\n",
    "\n",
    "$$\\overline{X} - \\overline{Y}  \\sim N(\\mu_{X} - \\mu_{Y} , \\sqrt{\\frac{\\sigma_{X}^2}{n_X}+\\frac{\\sigma_{Y}^2}{n_Y}})$$\n",
    "\n",
    "Solve the problem with this information."
   ]
  },
  {
   "cell_type": "code",
   "execution_count": 14,
   "metadata": {},
   "outputs": [
    {
     "name": "stdout",
     "output_type": "stream",
     "text": [
      "The sample size has to be at least 3138 so that the error is lower than 1%.\n"
     ]
    }
   ],
   "source": [
    "total_shops = 105;\n",
    "loss_shops = 27;\n",
    "score = stats.norm.interval(0.80)[1];\n",
    "error = 0.01\n",
    "\n",
    "# Parameters\n",
    "p = loss_shops / total_shops;\n",
    "q = 1 - p;\n",
    "\n",
    "# Sample Size\n",
    "size_squared = score * math.sqrt(p*q) / error;\n",
    "size = math.ceil(math.pow(size_squared, 2));\n",
    "print(f\"The sample size has to be at least {size} so that the error is lower than 1%.\");"
   ]
  },
  {
   "cell_type": "code",
   "execution_count": null,
   "metadata": {},
   "outputs": [],
   "source": []
  }
 ],
 "metadata": {
  "kernelspec": {
   "display_name": "Python 3 (ipykernel)",
   "language": "python",
   "name": "python3"
  },
  "language_info": {
   "codemirror_mode": {
    "name": "ipython",
    "version": 3
   },
   "file_extension": ".py",
   "mimetype": "text/x-python",
   "name": "python",
   "nbconvert_exporter": "python",
   "pygments_lexer": "ipython3",
   "version": "3.9.12"
  },
  "toc": {
   "base_numbering": 1,
   "nav_menu": {},
   "number_sections": true,
   "sideBar": true,
   "skip_h1_title": false,
   "title_cell": "Table of Contents",
   "title_sidebar": "Contents",
   "toc_cell": true,
   "toc_position": {},
   "toc_section_display": true,
   "toc_window_display": false
  }
 },
 "nbformat": 4,
 "nbformat_minor": 2
}
