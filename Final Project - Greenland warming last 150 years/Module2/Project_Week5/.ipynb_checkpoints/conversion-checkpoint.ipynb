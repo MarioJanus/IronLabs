{
 "cells": [
  {
   "cell_type": "code",
   "execution_count": null,
   "id": "0393c573",
   "metadata": {},
   "outputs": [],
   "source": [
    "standard_names_empl = coco.convert(salary['employee_residence'], to='name')\n",
    "salary['employee_residence'] = standard_names_empl\n",
    "standard_names_comp = coco.convert(salary['company_location'], to='name')\n",
    "salary['company_location'] = standard_names_comp\n",
    "salary['experience_level'] = salary['experience_level'].replace({'EN':'Entry-Level', 'MI':'Mid-Level', 'SE':'Senior-Level', 'EX':'Executive-Level/Director'})\n",
    "salary['company_size'] = salary['company_size'].replace({'S':'Small (<50)', 'M':'Medium (50-250)', 'L':'Large (250+)'})\n",
    "salary['employment_type'] = salary['employment_type'].replace({'FT':'Full-time', 'PT':'Part-time', 'CT':'Contract', 'FL':'Freelance'})\n",
    "salary"
   ]
  }
 ],
 "metadata": {
  "kernelspec": {
   "display_name": "Python 3 (ipykernel)",
   "language": "python",
   "name": "python3"
  },
  "language_info": {
   "codemirror_mode": {
    "name": "ipython",
    "version": 3
   },
   "file_extension": ".py",
   "mimetype": "text/x-python",
   "name": "python",
   "nbconvert_exporter": "python",
   "pygments_lexer": "ipython3",
   "version": "3.9.12"
  }
 },
 "nbformat": 4,
 "nbformat_minor": 5
}
