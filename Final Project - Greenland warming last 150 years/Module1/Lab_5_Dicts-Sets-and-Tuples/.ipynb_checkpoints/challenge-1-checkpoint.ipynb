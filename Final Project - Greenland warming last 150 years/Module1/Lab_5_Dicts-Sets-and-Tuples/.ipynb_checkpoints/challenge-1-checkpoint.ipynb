{
 "cells": [
  {
   "cell_type": "markdown",
   "metadata": {},
   "source": [
    "## Challenge 1: Tuples\n",
    "\n",
    "#### Do you know you can create tuples with only one element?\n",
    "\n",
    "**In the cell below, define a variable `tup` with a single element `\"I\"`.**\n",
    "\n",
    "*Hint: you need to add a comma (`,`) after the single element.*"
   ]
  },
  {
   "cell_type": "code",
   "execution_count": null,
   "metadata": {},
   "outputs": [],
   "source": [
    "#Its not possible, tuble are immutable and cant be changed afterwards. But you could transform it to a list and then back to a tuple.\n",
    "tup=tuple(\"I\")\n",
    "tup_list=list(tup)\n",
    "print(tup_list)\n",
    "new=(\"r\", \"o\", \"n\", \"h\", \"a\", \"c\", \"k\")\n",
    "for i in new:\n",
    "    tup_list.append(i)\n",
    "tup_list=tuple(tup_list)\n",
    "print(tup_list)\n",
    "type(tup_list)"
   ]
  },
  {
   "cell_type": "markdown",
   "metadata": {},
   "source": [
    "#### Print the type of `tup`. \n",
    "\n",
    "Make sure its type is correct (i.e. *tuple* instead of *str*)."
   ]
  },
  {
   "cell_type": "code",
   "execution_count": 3,
   "metadata": {},
   "outputs": [
    {
     "name": "stdout",
     "output_type": "stream",
     "text": [
      "['I']\n"
     ]
    },
    {
     "data": {
      "text/plain": [
       "list"
      ]
     },
     "execution_count": 3,
     "metadata": {},
     "output_type": "execute_result"
    }
   ],
   "source": [
    "tup=tuple(\"I\")\n",
    "tup_list=list(tup)\n",
    "print(tup_list)\n",
    "type(tup_list)\n"
   ]
  },
  {
   "cell_type": "markdown",
   "metadata": {},
   "source": [
    "#### Now try to append the following elements to `tup`. \n",
    "\n",
    "Are you able to do it? Explain.\n",
    "\n",
    "```\n",
    "\"r\", \"o\", \"n\", \"h\", \"a\", \"c\", \"k',\n",
    "```"
   ]
  },
  {
   "cell_type": "code",
   "execution_count": null,
   "metadata": {},
   "outputs": [],
   "source": [
    "tup=tuple(\"I\")\n",
    "tup_list=list(tup)\n",
    "print(tup_list)\n",
    "new=(\"r\", \"o\", \"n\", \"h\", \"a\", \"c\", \"k\")\n",
    "for i in new:\n",
    "    tup_list.append(i)\n",
    "tup_list=tuple(tup_list)\n",
    "print(tup_list)\n",
    "type(tup_list)\n",
    "\n",
    "#Not directly as tuples are immutable. But you can convert it to a listm perform appand operation and set the tup back to tuple\n"
   ]
  },
  {
   "cell_type": "markdown",
   "metadata": {},
   "source": [
    "#### How about re-assign a new value to an existing tuple?\n",
    "\n",
    "Re-assign the following elements to `tup`. Are you able to do it? Explain.\n",
    "\n",
    "```\n",
    "\"I\", \"r\", \"o\", \"n\", \"h\", \"a\", \"c\", \"k\"\n",
    "```"
   ]
  },
  {
   "cell_type": "code",
   "execution_count": null,
   "metadata": {},
   "outputs": [],
   "source": [
    "tup=tuple(\"I\")\n",
    "tup_list=list(tup)\n",
    "print(tup_list)\n",
    "new=(\"r\", \"o\", \"n\", \"h\", \"a\", \"c\", \"k\")\n",
    "for i in new:\n",
    "    tup_list.append(i)\n",
    "tup=tuple(tup_list)\n",
    "print(tup)\n",
    "type(tup)\n",
    "\n",
    "#Not directly as tuples are immutable. But you can convert it to a listm perform appand operation and set the tup back to tuple\n"
   ]
  },
  {
   "cell_type": "markdown",
   "metadata": {},
   "source": [
    "#### Split `tup` into `tup1` and `tup2` with 4 elements in each. \n",
    "\n",
    "`tup1` should be `(\"I\", \"r\", \"o\", \"n\")` and `tup2` should be `(\"h\", \"a\", \"c\", \"k\")`.\n",
    "\n",
    "*Hint: use positive index numbers for `tup1` assignment and use negative index numbers for `tup2` assignment. Positive index numbers count from the beginning whereas negative index numbers count from the end of the sequence.*\n",
    "\n",
    "Also print `tup1` and `tup2`."
   ]
  },
  {
   "cell_type": "code",
   "execution_count": null,
   "metadata": {},
   "outputs": [],
   "source": [
    "tup=(\"I\")\n",
    "\n",
    "tup_list=list(tup)\n",
    "\n",
    "print(tup_list)\n",
    "\n",
    "new=(\"r\", \"o\", \"n\", \"h\", \"a\", \"c\", \"k\")\n",
    "\n",
    "for i in new:\n",
    "    tup_list.append(i)\n",
    "\n",
    "tup=tuple(tup_list)\n",
    "print(tup)\n",
    "\n",
    "tup1 = tup[:4]\n",
    "print(\"Sliced Tuple1: \", tup1)\n",
    "\n",
    "tup2 = tup[-4:]\n",
    "print('Sliced Tuple2: ', tup2)"
   ]
  },
  {
   "cell_type": "markdown",
   "metadata": {},
   "source": [
    "#### Add `tup1` and `tup2` into `tup3` using the `+` operator.\n",
    "\n",
    "Then print `tup3` and check if `tup3` equals to `tup`."
   ]
  },
  {
   "cell_type": "code",
   "execution_count": 5,
   "metadata": {},
   "outputs": [
    {
     "name": "stdout",
     "output_type": "stream",
     "text": [
      "['I']\n",
      "('I', 'r', 'o', 'n', 'h', 'a', 'c', 'k')\n",
      "Sliced Tuple1:  ('I', 'r', 'o', 'n')\n",
      "Sliced Tuple2:  ('h', 'a', 'c', 'k')\n",
      "tup and tup3 are equal\n",
      "Number of elements: tup1:  4 len2:  4\n",
      "Sum of tup1+tup3:  8\n",
      "Sum of elements of tup1 and tup2 is same as number of elements in tup3\n"
     ]
    }
   ],
   "source": [
    "tup=(\"I\")\n",
    "tup_list=list(tup)\n",
    "print(tup_list)\n",
    "\n",
    "new=(\"r\", \"o\", \"n\", \"h\", \"a\", \"c\", \"k\")\n",
    "\n",
    "for i in new:\n",
    "    tup_list.append(i)\n",
    "\n",
    "tup=tuple(tup_list)\n",
    "print(tup)\n",
    "\n",
    "tup1 = tup[:4]\n",
    "print(\"Sliced Tuple1: \", tup1)\n",
    "\n",
    "tup2 = tup[-4:]\n",
    "print('Sliced Tuple2: ', tup2)\n",
    "tup3=tup1+tup2\n",
    "if tup3==tup:\n",
    "    print(\"tup and tup3 are equal\")\n",
    "else:\n",
    "    print(\"tup and tup3 are NOT equal\")\n",
    "len1=len(tup1)\n",
    "len2=len(tup2)\n",
    "len3=len(tup3)\n",
    "print(\"Number of elements:\", \"tup1: \", len1, \"len2: \", len2)\n",
    "print(\"Sum of tup1+tup3: \", len1+len2)\n",
    "if len1+len2==len3:\n",
    "    print(\"Sum of elements of tup1 and tup2 is same as number of elements in tup3\")\n",
    "else:\n",
    "    print(\"Sum of elements of tup1 and tup2 is NOT the same as number of elements in tup3\")\n"
   ]
  },
  {
   "cell_type": "markdown",
   "metadata": {},
   "source": [
    "#### Count the number of elements in `tup1` and `tup2`. Then add the two counts together and check if the sum is the same as the number of elements in `tup3`."
   ]
  },
  {
   "cell_type": "code",
   "execution_count": null,
   "metadata": {},
   "outputs": [],
   "source": [
    "tup=(\"I\")\n",
    "tup_list=list(tup)\n",
    "print(tup_list)\n",
    "\n",
    "new=(\"r\", \"o\", \"n\", \"h\", \"a\", \"c\", \"k\")\n",
    "\n",
    "for i in new:\n",
    "    tup_list.append(i)\n",
    "\n",
    "tup=tuple(tup_list)\n",
    "print(tup)\n",
    "\n",
    "tup1 = tup[:4]\n",
    "print(\"Sliced Tuple1: \", tup1)\n",
    "\n",
    "tup2 = tup[-4:]\n",
    "print('Sliced Tuple2: ', tup2)\n",
    "tup3=tup1+tup2\n",
    "if tup3==tup:\n",
    "    print(\"tup and tup3 are equal\")\n",
    "else:\n",
    "    print(\"tup and tup3 are NOT equal\")\n",
    "len1=len(tup1)\n",
    "len2=len(tup2)\n",
    "len3=len(tup3)\n",
    "print(\"Number of elements:\", \"tup1: \", len1, \"len2: \", len2)\n",
    "print(\"Sum of tup1+tup3: \", len1+len2)\n",
    "if len1+len2==len3:\n",
    "    print(\"Sum of elements of tup1 and tup2 is same as number of elements in tup3\")\n",
    "else:\n",
    "    print(\"Sum of elements of tup1 and tup2 is NOT the same as number of elements in tup3\")\n",
    "\n"
   ]
  },
  {
   "cell_type": "markdown",
   "metadata": {},
   "source": [
    "#### What is the index number of `\"h\"` in `tup3`?"
   ]
  },
  {
   "cell_type": "code",
   "execution_count": 6,
   "metadata": {},
   "outputs": [
    {
     "name": "stdout",
     "output_type": "stream",
     "text": [
      "['I']\n",
      "('I', 'r', 'o', 'n', 'h', 'a', 'c', 'k')\n",
      "Sliced Tuple1:  ('I', 'r', 'o', 'n')\n",
      "Sliced Tuple2:  ('h', 'a', 'c', 'k')\n",
      "tup and tup3 are equal\n",
      "Number of elements: tup1:  4 len2:  4\n",
      "Sum of tup1+tup3:  8\n",
      "Sum of elements of tup1 and tup2 is same as number of elements in tup3\n",
      "a is in tup3:  True\n",
      "c is in tup3:  True\n",
      "a is in tup3:  True\n",
      "c is in tup3:  True\n"
     ]
    }
   ],
   "source": [
    "tup=(\"I\")\n",
    "tup_list=list(tup)\n",
    "print(tup_list)\n",
    "\n",
    "new=(\"r\", \"o\", \"n\", \"h\", \"a\", \"c\", \"k\")\n",
    "\n",
    "for i in new:\n",
    "    tup_list.append(i)\n",
    "\n",
    "tup=tuple(tup_list)\n",
    "print(tup)\n",
    "\n",
    "tup1 = tup[:4]\n",
    "print(\"Sliced Tuple1: \", tup1)\n",
    "\n",
    "tup2 = tup[-4:]\n",
    "print('Sliced Tuple2: ', tup2)\n",
    "tup3=tup1+tup2\n",
    "if tup3==tup:\n",
    "    print(\"tup and tup3 are equal\")\n",
    "else:\n",
    "    print(\"tup and tup3 are NOT equal\")\n",
    "len1=len(tup1)\n",
    "len2=len(tup2)\n",
    "len3=len(tup3)\n",
    "print(\"Number of elements:\", \"tup1: \", len1, \"len2: \", len2)\n",
    "print(\"Sum of tup1+tup3: \", len1+len2)\n",
    "if len1+len2==len3:\n",
    "    print(\"Sum of elements of tup1 and tup2 is same as number of elements in tup3\")\n",
    "else:\n",
    "    print(\"Sum of elements of tup1 and tup2 is NOT the same as number of elements in tup3\")\n",
    "letters = [\"a\", \"b\", \"c\", \"d\", \"e\"]\n",
    "tup3.index(\"h\")\n",
    "letters = [\"a\", \"b\", \"c\", \"d\", \"e\"]\n",
    "for letter in letters:\n",
    "    if letter in tup3:\n",
    "        print(letter, \"is in tup3: \", True)"
   ]
  },
  {
   "cell_type": "markdown",
   "metadata": {},
   "source": [
    "#### Now, use a FOR loop to check whether each letter in the following list is present in `tup3`:\n",
    "\n",
    "```\n",
    "letters = [\"a\", \"b\", \"c\", \"d\", \"e\"]\n",
    "```\n",
    "\n",
    "For each letter you check, print `True` if it is present in `tup3` otherwise print `False`.\n",
    "\n",
    "*Hint: you only need to loop `letters`. You don't need to loop `tup3` because there is a Python operator `in` you can use. See [reference](https://stackoverflow.com/questions/17920147/how-to-check-if-a-tuple-contains-an-element-in-python).*"
   ]
  },
  {
   "cell_type": "code",
   "execution_count": null,
   "metadata": {},
   "outputs": [],
   "source": [
    "import collections as col\n",
    "tup=(\"I\")\n",
    "tup_list=list(tup)\n",
    "print(tup_list)\n",
    "\n",
    "new=(\"r\", \"o\", \"n\", \"h\", \"a\", \"c\", \"k\")\n",
    "\n",
    "for i in new:\n",
    "    tup_list.append(i)\n",
    "\n",
    "tup=tuple(tup_list)\n",
    "print(tup)\n",
    "\n",
    "tup1 = tup[:4]\n",
    "print(\"Sliced Tuple1: \", tup1)\n",
    "\n",
    "tup2 = tup[-4:]\n",
    "print('Sliced Tuple2: ', tup2)\n",
    "tup3=tup1+tup2\n",
    "if tup3==tup:\n",
    "    print(\"tup and tup3 are equal\")\n",
    "else:\n",
    "    print(\"tup and tup3 are NOT equal\")\n",
    "\n",
    "len1=len(tup1)\n",
    "len2=len(tup2)\n",
    "len3=len(tup3)\n",
    "print(\"Number of elements:\", \"tup1: \", len1, \"len2: \", len2)\n",
    "print(\"Sum of tup1+tup3: \", len1+len2)\n",
    "\n",
    "if len1+len2==len3:\n",
    "    print(\"Sum of elements of tup1 and tup2 is same as number of elements in tup3\")\n",
    "else:\n",
    "    print(\"Sum of elements of tup1 and tup2 is NOT the same as number of elements in tup3\")\n",
    "\n",
    "tup3.index(\"h\")\n",
    "\n",
    "letters = [\"a\", \"b\", \"c\", \"d\", \"e\"]\n",
    "for letter in letters:\n",
    "    if letter in tup3:\n",
    "        print(letter, \"is in tup3: \", True)\n"
   ]
  },
  {
   "cell_type": "markdown",
   "metadata": {},
   "source": [
    "#### How many times does each letter in `letters` appear in `tup3`?\n",
    "\n",
    "Print out the number of occurrence of each letter."
   ]
  },
  {
   "cell_type": "code",
   "execution_count": 9,
   "metadata": {},
   "outputs": [
    {
     "name": "stdout",
     "output_type": "stream",
     "text": [
      "['I']\n",
      "('I', 'r', 'o', 'n', 'h', 'a', 'c', 'k')\n",
      "Sliced Tuple1:  ('I', 'r', 'o', 'n')\n",
      "Sliced Tuple2:  ('h', 'a', 'c', 'k')\n",
      "tup and tup3 are equal\n",
      "Number of elements: tup1:  4 len2:  4\n",
      "Sum of tup1+tup3:  8\n",
      "Sum of elements of tup1 and tup2 is same as number of elements in tup3\n",
      "a is 1 time in tup3\n",
      "b is not in tup3\n",
      "c is 1 time in tup3\n",
      "d is not in tup3\n",
      "e is not in tup3\n"
     ]
    }
   ],
   "source": [
    "import collections as col\n",
    "tup=(\"I\")\n",
    "tup_list=list(tup)\n",
    "print(tup_list)\n",
    "\n",
    "new=(\"r\", \"o\", \"n\", \"h\", \"a\", \"c\", \"k\")\n",
    "\n",
    "for i in new:\n",
    "    tup_list.append(i)\n",
    "\n",
    "tup=tuple(tup_list)\n",
    "print(tup)\n",
    "\n",
    "tup1 = tup[:4]\n",
    "print(\"Sliced Tuple1: \", tup1)\n",
    "\n",
    "tup2 = tup[-4:]\n",
    "print('Sliced Tuple2: ', tup2)\n",
    "tup3=tup1+tup2\n",
    "if tup3==tup:\n",
    "    print(\"tup and tup3 are equal\")\n",
    "else:\n",
    "    print(\"tup and tup3 are NOT equal\")\n",
    "\n",
    "len1=len(tup1)\n",
    "len2=len(tup2)\n",
    "len3=len(tup3)\n",
    "print(\"Number of elements:\", \"tup1: \", len1, \"len2: \", len2)\n",
    "print(\"Sum of tup1+tup3: \", len1+len2)\n",
    "\n",
    "if len1+len2==len3:\n",
    "    print(\"Sum of elements of tup1 and tup2 is same as number of elements in tup3\")\n",
    "else:\n",
    "    print(\"Sum of elements of tup1 and tup2 is NOT the same as number of elements in tup3\")\n",
    "\n",
    "tup3.index(\"h\")\n",
    "\n",
    "for i in letters:\n",
    "    if i in tup3:\n",
    "        print(i,'is',letters.count(i),'time in tup3')\n",
    "    else:\n",
    "        print(i,'is not in tup3')"
   ]
  },
  {
   "cell_type": "code",
   "execution_count": null,
   "metadata": {},
   "outputs": [],
   "source": []
  }
 ],
 "metadata": {
  "kernelspec": {
   "display_name": "Python 3 (ipykernel)",
   "language": "python",
   "name": "python3"
  },
  "language_info": {
   "codemirror_mode": {
    "name": "ipython",
    "version": 3
   },
   "file_extension": ".py",
   "mimetype": "text/x-python",
   "name": "python",
   "nbconvert_exporter": "python",
   "pygments_lexer": "ipython3",
   "version": "3.9.12"
  }
 },
 "nbformat": 4,
 "nbformat_minor": 2
}
