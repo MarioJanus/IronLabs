{
 "cells": [
  {
   "cell_type": "markdown",
   "metadata": {},
   "source": [
    "# Intrduction to NumPy\n",
    "\n",
    "\n",
    "#### 1. Import NumPy under the name np."
   ]
  },
  {
   "cell_type": "code",
   "execution_count": 1,
   "metadata": {},
   "outputs": [],
   "source": [
    "import numpy as np"
   ]
  },
  {
   "cell_type": "markdown",
   "metadata": {},
   "source": [
    "#### 2. Print your NumPy version."
   ]
  },
  {
   "cell_type": "code",
   "execution_count": 2,
   "metadata": {},
   "outputs": [
    {
     "name": "stdout",
     "output_type": "stream",
     "text": [
      "1.21.5\n"
     ]
    }
   ],
   "source": [
    "print(np.__version__)"
   ]
  },
  {
   "cell_type": "markdown",
   "metadata": {},
   "source": [
    "#### 3. Generate a 2x3x5 3-dimensional array with random values. Assign the array to variable *a*.\n",
    "**Challenge**: there are at least three easy ways that use numpy to generate random arrays. How many ways can you find?"
   ]
  },
  {
   "cell_type": "code",
   "execution_count": 3,
   "metadata": {},
   "outputs": [
    {
     "name": "stdout",
     "output_type": "stream",
     "text": [
      "[[[0.51182162 0.9504637  0.14415961 0.94864945 0.31183145]\n",
      "  [0.42332645 0.82770259 0.40919914 0.54959369 0.02755911]\n",
      "  [0.75351311 0.53814331 0.32973172 0.7884287  0.30319483]]\n",
      "\n",
      " [[0.45349789 0.1340417  0.40311299 0.20345524 0.26231334]\n",
      "  [0.75036467 0.28040876 0.48519097 0.9807372  0.96165719]\n",
      "  [0.72478994 0.54122686 0.2768912  0.16065201 0.96992541]]]\n"
     ]
    }
   ],
   "source": [
    "a = np.random.default_rng(1)\n",
    "a = a.random((2, 3, 5))\n",
    "print(a)"
   ]
  },
  {
   "cell_type": "code",
   "execution_count": 4,
   "metadata": {},
   "outputs": [
    {
     "name": "stdout",
     "output_type": "stream",
     "text": [
      "[[[0.96367014 0.5762669  0.07102472 0.04334609 0.81164695]\n",
      "  [0.98330763 0.42090413 0.86286542 0.30247749 0.90858203]\n",
      "  [0.47833518 0.34281844 0.35672508 0.17630441 0.30982284]]\n",
      "\n",
      " [[0.59558223 0.67953308 0.31302208 0.73645912 0.47386983]\n",
      "  [0.6231455  0.26429736 0.13073681 0.12504214 0.01873223]\n",
      "  [0.20133858 0.75804403 0.36962264 0.69783104 0.0444233 ]]]\n"
     ]
    }
   ],
   "source": [
    "a1=np.random.random((2, 3, 5))\n",
    "print(a1)"
   ]
  },
  {
   "cell_type": "code",
   "execution_count": 5,
   "metadata": {},
   "outputs": [
    {
     "name": "stdout",
     "output_type": "stream",
     "text": [
      "[[[0.39850046 0.33137567 0.56985776 0.02626209 0.16827378]\n",
      "  [0.74341443 0.96343397 0.69029792 0.03714348 0.24654518]\n",
      "  [0.55798068 0.38414771 0.24813835 0.04443541 0.90503933]]\n",
      "\n",
      " [[0.56470653 0.38906942 0.61782994 0.671395   0.90216244]\n",
      "  [0.08117965 0.46027872 0.14526449 0.84610859 0.56676711]\n",
      "  [0.36090363 0.88570179 0.78260099 0.30618103 0.58037637]]]\n"
     ]
    }
   ],
   "source": [
    "a2=np.random.rand(2, 3, 5)\n",
    "print(a2)"
   ]
  },
  {
   "cell_type": "markdown",
   "metadata": {},
   "source": [
    "#### 4. Print *a*.\n"
   ]
  },
  {
   "cell_type": "code",
   "execution_count": 6,
   "metadata": {},
   "outputs": [
    {
     "name": "stdout",
     "output_type": "stream",
     "text": [
      "[[[0.51182162 0.9504637  0.14415961 0.94864945 0.31183145]\n",
      "  [0.42332645 0.82770259 0.40919914 0.54959369 0.02755911]\n",
      "  [0.75351311 0.53814331 0.32973172 0.7884287  0.30319483]]\n",
      "\n",
      " [[0.45349789 0.1340417  0.40311299 0.20345524 0.26231334]\n",
      "  [0.75036467 0.28040876 0.48519097 0.9807372  0.96165719]\n",
      "  [0.72478994 0.54122686 0.2768912  0.16065201 0.96992541]]]\n"
     ]
    }
   ],
   "source": [
    "print(a)"
   ]
  },
  {
   "cell_type": "markdown",
   "metadata": {},
   "source": [
    "#### 5. Create a 5x2x3 3-dimensional array with all values equaling 1. Assign the array to variable *b*."
   ]
  },
  {
   "cell_type": "code",
   "execution_count": 7,
   "metadata": {},
   "outputs": [],
   "source": [
    "b=np.full((5,2,3), 1)"
   ]
  },
  {
   "cell_type": "markdown",
   "metadata": {},
   "source": [
    "#### 6. Print *b*.\n"
   ]
  },
  {
   "cell_type": "code",
   "execution_count": 8,
   "metadata": {},
   "outputs": [
    {
     "name": "stdout",
     "output_type": "stream",
     "text": [
      "[[[1 1 1]\n",
      "  [1 1 1]]\n",
      "\n",
      " [[1 1 1]\n",
      "  [1 1 1]]\n",
      "\n",
      " [[1 1 1]\n",
      "  [1 1 1]]\n",
      "\n",
      " [[1 1 1]\n",
      "  [1 1 1]]\n",
      "\n",
      " [[1 1 1]\n",
      "  [1 1 1]]]\n"
     ]
    }
   ],
   "source": [
    "print(b)"
   ]
  },
  {
   "cell_type": "markdown",
   "metadata": {},
   "source": [
    "#### 7. Do *a* and *b* have the same size? How do you prove that in Python code?"
   ]
  },
  {
   "cell_type": "code",
   "execution_count": 9,
   "metadata": {},
   "outputs": [
    {
     "data": {
      "text/plain": [
       "False"
      ]
     },
     "execution_count": 9,
     "metadata": {},
     "output_type": "execute_result"
    }
   ],
   "source": [
    "np.array_equal(a,b)"
   ]
  },
  {
   "cell_type": "markdown",
   "metadata": {},
   "source": [
    "#### 8. Are you able to add *a* and *b*? Why or why not?\n"
   ]
  },
  {
   "cell_type": "markdown",
   "metadata": {},
   "source": [
    "yes you can add a and b, because arrays are mutable, but both arrays must have the same dimensions"
   ]
  },
  {
   "cell_type": "markdown",
   "metadata": {},
   "source": [
    "#### 9. Transpose *b* so that it has the same structure of *a* (i.e. become a 2x3x5 array). Assign the transposed array to variable *c*."
   ]
  },
  {
   "cell_type": "code",
   "execution_count": 10,
   "metadata": {},
   "outputs": [
    {
     "data": {
      "text/plain": [
       "array([[[1, 1, 1, 1, 1],\n",
       "        [1, 1, 1, 1, 1],\n",
       "        [1, 1, 1, 1, 1]],\n",
       "\n",
       "       [[1, 1, 1, 1, 1],\n",
       "        [1, 1, 1, 1, 1],\n",
       "        [1, 1, 1, 1, 1]]])"
      ]
     },
     "execution_count": 10,
     "metadata": {},
     "output_type": "execute_result"
    }
   ],
   "source": [
    "c=b.reshape(2, 3, 5)\n",
    "c"
   ]
  },
  {
   "cell_type": "markdown",
   "metadata": {},
   "source": [
    "#### 10. Try to add *a* and *c*. Now it should work. Assign the sum to variable *d*. But why does it work now?"
   ]
  },
  {
   "cell_type": "code",
   "execution_count": 11,
   "metadata": {},
   "outputs": [],
   "source": [
    "d=np.add(a, c)  \n"
   ]
  },
  {
   "cell_type": "markdown",
   "metadata": {},
   "source": [
    "#### 11. Print *a* and *d*. Notice the difference and relation of the two array in terms of the values? Explain."
   ]
  },
  {
   "cell_type": "code",
   "execution_count": 12,
   "metadata": {},
   "outputs": [
    {
     "name": "stdout",
     "output_type": "stream",
     "text": [
      "Array a:\n",
      " [[[0.51182162 0.9504637  0.14415961 0.94864945 0.31183145]\n",
      "  [0.42332645 0.82770259 0.40919914 0.54959369 0.02755911]\n",
      "  [0.75351311 0.53814331 0.32973172 0.7884287  0.30319483]]\n",
      "\n",
      " [[0.45349789 0.1340417  0.40311299 0.20345524 0.26231334]\n",
      "  [0.75036467 0.28040876 0.48519097 0.9807372  0.96165719]\n",
      "  [0.72478994 0.54122686 0.2768912  0.16065201 0.96992541]]] \n",
      "\n",
      "Array c:\n",
      " [[[1 1 1 1 1]\n",
      "  [1 1 1 1 1]\n",
      "  [1 1 1 1 1]]\n",
      "\n",
      " [[1 1 1 1 1]\n",
      "  [1 1 1 1 1]\n",
      "  [1 1 1 1 1]]] \n",
      "\n",
      "Array d:\n",
      " [[[1.51182162 1.9504637  1.14415961 1.94864945 1.31183145]\n",
      "  [1.42332645 1.82770259 1.40919914 1.54959369 1.02755911]\n",
      "  [1.75351311 1.53814331 1.32973172 1.7884287  1.30319483]]\n",
      "\n",
      " [[1.45349789 1.1340417  1.40311299 1.20345524 1.26231334]\n",
      "  [1.75036467 1.28040876 1.48519097 1.9807372  1.96165719]\n",
      "  [1.72478994 1.54122686 1.2768912  1.16065201 1.96992541]]] \n",
      "\n"
     ]
    }
   ],
   "source": [
    "print('Array a:\\n',a,'\\n')\n",
    "print('Array c:\\n',c,'\\n')\n",
    "print('Array d:\\n',d,'\\n')"
   ]
  },
  {
   "cell_type": "markdown",
   "metadata": {},
   "source": [
    "#### 12. Multiply *a* and *c*. Assign the result to *e*."
   ]
  },
  {
   "cell_type": "code",
   "execution_count": 13,
   "metadata": {},
   "outputs": [
    {
     "name": "stdout",
     "output_type": "stream",
     "text": [
      "[[[0.51182162 0.9504637  0.14415961 0.94864945 0.31183145]\n",
      "  [0.42332645 0.82770259 0.40919914 0.54959369 0.02755911]\n",
      "  [0.75351311 0.53814331 0.32973172 0.7884287  0.30319483]]\n",
      "\n",
      " [[0.45349789 0.1340417  0.40311299 0.20345524 0.26231334]\n",
      "  [0.75036467 0.28040876 0.48519097 0.9807372  0.96165719]\n",
      "  [0.72478994 0.54122686 0.2768912  0.16065201 0.96992541]]]\n"
     ]
    }
   ],
   "source": [
    "e=a*c\n",
    "print(e)"
   ]
  },
  {
   "cell_type": "markdown",
   "metadata": {},
   "source": [
    "#### 13. Does *e* equal to *a*? Why or why not?\n"
   ]
  },
  {
   "cell_type": "code",
   "execution_count": 14,
   "metadata": {},
   "outputs": [
    {
     "data": {
      "text/plain": [
       "True"
      ]
     },
     "execution_count": 14,
     "metadata": {},
     "output_type": "execute_result"
    }
   ],
   "source": [
    "np.array_equal(a,e)\n",
    "# yes they are the same, because c i an array with just the digit number one \n",
    "# and therefore everything gets just multiplied by 1"
   ]
  },
  {
   "cell_type": "markdown",
   "metadata": {},
   "source": [
    "#### 14. Identify the max, min, and mean values in *d*. Assign those values to variables *d_max*, *d_min* and *d_mean*."
   ]
  },
  {
   "cell_type": "code",
   "execution_count": 15,
   "metadata": {},
   "outputs": [
    {
     "name": "stdout",
     "output_type": "stream",
     "text": [
      "1.5135194619749464\n",
      "1.9807371998012386\n",
      "1.0275591132430684\n"
     ]
    }
   ],
   "source": [
    "d_max=d.max()\n",
    "d_min=d.min()\n",
    "d_mean=d.mean()\n",
    "print(d_mean)\n",
    "print(d_max)\n",
    "print(d_min)"
   ]
  },
  {
   "cell_type": "markdown",
   "metadata": {},
   "source": [
    "#### 15. Now we want to label the values in *d*. First create an empty array *f* with the same shape (i.e. 2x3x5) as *d* using `np.empty`.\n"
   ]
  },
  {
   "cell_type": "code",
   "execution_count": 16,
   "metadata": {},
   "outputs": [
    {
     "data": {
      "text/plain": [
       "array([[[0.51182162, 0.9504637 , 0.14415961, 0.94864945, 0.31183145],\n",
       "        [0.42332645, 0.82770259, 0.40919914, 0.54959369, 0.02755911],\n",
       "        [0.75351311, 0.53814331, 0.32973172, 0.7884287 , 0.30319483]],\n",
       "\n",
       "       [[0.45349789, 0.1340417 , 0.40311299, 0.20345524, 0.26231334],\n",
       "        [0.75036467, 0.28040876, 0.48519097, 0.9807372 , 0.96165719],\n",
       "        [0.72478994, 0.54122686, 0.2768912 , 0.16065201, 0.96992541]]])"
      ]
     },
     "execution_count": 16,
     "metadata": {},
     "output_type": "execute_result"
    }
   ],
   "source": [
    "f=np.empty([2, 3, 5])\n",
    "f"
   ]
  },
  {
   "cell_type": "markdown",
   "metadata": {},
   "source": [
    "#### 16. Populate the values in *f*. \n",
    "\n",
    "For each value in *d*, if it's larger than *d_min* but smaller than *d_mean*, assign 25 to the corresponding value in *f*. If a value in *d* is larger than *d_mean* but smaller than *d_max*, assign 75 to the corresponding value in *f*. If a value equals to *d_mean*, assign 50 to the corresponding value in *f*. Assign 0 to the corresponding value(s) in *f* for *d_min* in *d*. Assign 100 to the corresponding value(s) in *f* for *d_max* in *d*. In the end, f should have only the following values: 0, 25, 50, 75, and 100.\n",
    "\n",
    "**Note**: you don't have to use Numpy in this question."
   ]
  },
  {
   "cell_type": "code",
   "execution_count": 34,
   "metadata": {},
   "outputs": [
    {
     "data": {
      "text/plain": [
       "array([[[ 25.,  75.,  25.,  75.,  25.],\n",
       "        [ 25.,  75.,  25.,  75.,   0.],\n",
       "        [ 75.,  75.,  25.,  75.,  25.]],\n",
       "\n",
       "       [[ 25.,  25.,  25.,  25.,  25.],\n",
       "        [ 75.,  25.,  25., 100.,  75.],\n",
       "        [ 75.,  75.,  25.,  25.,  75.]]])"
      ]
     },
     "execution_count": 34,
     "metadata": {},
     "output_type": "execute_result"
    }
   ],
   "source": [
    "f[(d > d_min) & (d<d_mean)]=25\n",
    "f[(d > d_mean) & (d<d_max)]=75\n",
    "f[d==d.mean]=50\n",
    "f[d==d_min]=0\n",
    "f[d==d_max]=100\n",
    "f\n",
    "        "
   ]
  },
  {
   "cell_type": "markdown",
   "metadata": {},
   "source": [
    "#### 17. Print *d* and *f*. Do you have your expected *f*?\n",
    "For instance, if your *d* is:\n",
    "```python\n",
    "[[[1.85836099, 1.67064465, 1.62576044, 1.40243961, 1.88454931],\n",
    "[1.75354326, 1.69403643, 1.36729252, 1.61415071, 1.12104981],\n",
    "[1.72201435, 1.1862918 , 1.87078449, 1.7726778 , 1.88180042]],\n",
    "[[1.44747908, 1.31673383, 1.02000951, 1.52218947, 1.97066381],\n",
    "[1.79129243, 1.74983003, 1.96028037, 1.85166831, 1.65450881],\n",
    "[1.18068344, 1.9587381 , 1.00656599, 1.93402165, 1.73514584]]]\n",
    "```\n",
    "Your *f* should be:\n",
    "```python\n",
    "[[[ 75.,  75.,  75.,  25.,  75.],\n",
    "[ 75.,  75.,  25.,  25.,  25.],\n",
    "[ 75.,  25.,  75.,  75.,  75.]],\n",
    "[[ 25.,  25.,  25.,  25., 100.],\n",
    "[ 75.,  75.,  75.,  75.,  75.],\n",
    "[ 25.,  75.,   0.,  75.,  75.]]]\n",
    "```"
   ]
  },
  {
   "cell_type": "code",
   "execution_count": 38,
   "metadata": {},
   "outputs": [
    {
     "name": "stdout",
     "output_type": "stream",
     "text": [
      "Array d:\n",
      " [[[1.51182162 1.9504637  1.14415961 1.94864945 1.31183145]\n",
      "  [1.42332645 1.82770259 1.40919914 1.54959369 1.02755911]\n",
      "  [1.75351311 1.53814331 1.32973172 1.7884287  1.30319483]]\n",
      "\n",
      " [[1.45349789 1.1340417  1.40311299 1.20345524 1.26231334]\n",
      "  [1.75036467 1.28040876 1.48519097 1.9807372  1.96165719]\n",
      "  [1.72478994 1.54122686 1.2768912  1.16065201 1.96992541]]]\n",
      "Array f:\n",
      " [[[ 25.  75.  25.  75.  25.]\n",
      "  [ 25.  75.  25.  75.   0.]\n",
      "  [ 75.  75.  25.  75.  25.]]\n",
      "\n",
      " [[ 25.  25.  25.  25.  25.]\n",
      "  [ 75.  25.  25. 100.  75.]\n",
      "  [ 75.  75.  25.  25.  75.]]]\n"
     ]
    },
    {
     "data": {
      "text/plain": [
       "numpy.ndarray"
      ]
     },
     "execution_count": 38,
     "metadata": {},
     "output_type": "execute_result"
    }
   ],
   "source": [
    "print('Array d:\\n',d)\n",
    "print('Array f:\\n',f)\n",
    "type(f)"
   ]
  },
  {
   "cell_type": "markdown",
   "metadata": {},
   "source": [
    "#### 18. Bonus question: instead of using numbers (i.e. 0, 25, 50, 75, and 100), use string values  (\"A\", \"B\", \"C\", \"D\", and \"E\") to label the array elements. For the example above, the expected result is:\n",
    "\n",
    "```python\n",
    "[[[ 'D',  'D',  'D',  'B',  'D'],\n",
    "[ 'D',  'D',  'B',  'B',  'B'],\n",
    "[ 'D',  'B',  'D',  'D',  'D']],\n",
    "[[ 'B',  'B',  'B',  'B',  'E'],\n",
    "[ 'D',  'D',  'D',  'D',  'D'],\n",
    "[ 'B',  'D',   'A',  'D', 'D']]]\n",
    "```\n",
    "**Note**: you don't have to use Numpy in this question."
   ]
  },
  {
   "cell_type": "code",
   "execution_count": 57,
   "metadata": {},
   "outputs": [
    {
     "ename": "ValueError",
     "evalue": "could not convert string to float: 'A'",
     "output_type": "error",
     "traceback": [
      "\u001b[1;31m---------------------------------------------------------------------------\u001b[0m",
      "\u001b[1;31mValueError\u001b[0m                                Traceback (most recent call last)",
      "Input \u001b[1;32mIn [57]\u001b[0m, in \u001b[0;36m<cell line: 2>\u001b[1;34m()\u001b[0m\n\u001b[0;32m      1\u001b[0m f\u001b[38;5;241m.\u001b[39mastype(\u001b[38;5;28mobject\u001b[39m)\n\u001b[1;32m----> 2\u001b[0m f[f\u001b[38;5;241m==\u001b[39m\u001b[38;5;241m0\u001b[39m]\u001b[38;5;241m=\u001b[39m\u001b[38;5;124m'\u001b[39m\u001b[38;5;124mA\u001b[39m\u001b[38;5;124m'\u001b[39m\n\u001b[0;32m      3\u001b[0m f[f\u001b[38;5;241m==\u001b[39m\u001b[38;5;241m25\u001b[39m]\u001b[38;5;241m=\u001b[39m\u001b[38;5;124m'\u001b[39m\u001b[38;5;124mB\u001b[39m\u001b[38;5;124m'\u001b[39m\n\u001b[0;32m      4\u001b[0m f[f\u001b[38;5;241m==\u001b[39m\u001b[38;5;241m50\u001b[39m]\u001b[38;5;241m=\u001b[39m\u001b[38;5;124m'\u001b[39m\u001b[38;5;124mC\u001b[39m\u001b[38;5;124m'\u001b[39m\n",
      "\u001b[1;31mValueError\u001b[0m: could not convert string to float: 'A'"
     ]
    }
   ],
   "source": [
    "f.astype(object)\n",
    "f[f==0]='A'\n",
    "f[f==25]='B'\n",
    "f[f==50]='C'\n",
    "f[f==75]='D'\n",
    "f[f==100]='E'\n",
    "#should work, but i dont know why, other solution would be via if condition"
   ]
  },
  {
   "cell_type": "code",
   "execution_count": null,
   "metadata": {},
   "outputs": [],
   "source": []
  }
 ],
 "metadata": {
  "kernelspec": {
   "display_name": "Python 3 (ipykernel)",
   "language": "python",
   "name": "python3"
  },
  "language_info": {
   "codemirror_mode": {
    "name": "ipython",
    "version": 3
   },
   "file_extension": ".py",
   "mimetype": "text/x-python",
   "name": "python",
   "nbconvert_exporter": "python",
   "pygments_lexer": "ipython3",
   "version": "3.9.12"
  }
 },
 "nbformat": 4,
 "nbformat_minor": 2
}
