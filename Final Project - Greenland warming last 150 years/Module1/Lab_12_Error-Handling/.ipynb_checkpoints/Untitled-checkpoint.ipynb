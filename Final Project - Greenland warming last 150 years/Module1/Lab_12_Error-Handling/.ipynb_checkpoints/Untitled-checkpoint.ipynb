{
 "cells": [
  {
   "cell_type": "code",
   "execution_count": null,
   "id": "e98354d2",
   "metadata": {},
   "outputs": [],
   "source": [
    "import math\n",
    "def sqrt_for_all(x):\n",
    "    if x<=0:\n",
    "        x=abs(x)\n",
    "        print(x)\n",
    "    \n",
    "    return math.sqrt(x)\n",
    "\n",
    "sqrt_for_all(4)"
   ]
  },
  {
   "cell_type": "code",
   "execution_count": null,
   "id": "ab942d80",
   "metadata": {},
   "outputs": [],
   "source": [
    "def divide(x, y):    \n",
    "    return x / y if y else 0\n",
    "\n",
    "divide(5, 0)"
   ]
  },
  {
   "cell_type": "code",
   "execution_count": null,
   "id": "485337a4",
   "metadata": {},
   "outputs": [],
   "source": [
    "def add_elements(a, l):\n",
    "    \"\"\"\n",
    "    This function takes either two numbers or a list and a number \n",
    "    and adds the number to all elements of the list.\n",
    "    If the function only takes two numbers, it returns a list \n",
    "    of length one that is the sum of the numbers.\n",
    "    \n",
    "    Input: number and list or two numbers\n",
    "    Output: list\n",
    "    \n",
    "    Sample Input: 5, 6\n",
    "    Sample Output: [11]\n",
    "    \"\"\"\n",
    "    if type(l)!=list:\n",
    "        l=[l]\n",
    "    elif type(l)==list:\n",
    "        l=[sum(l)]\n",
    "    return [a + element for element in l]\n",
    "        \n",
    "add_elements(5, [6, 8])"
   ]
  },
  {
   "cell_type": "code",
   "execution_count": 31,
   "id": "9b5729aa",
   "metadata": {},
   "outputs": [
    {
     "ename": "BaseException",
     "evalue": "Number must be positive",
     "output_type": "error",
     "traceback": [
      "\u001b[1;31m---------------------------------------------------------------------------\u001b[0m",
      "\u001b[1;31mBaseException\u001b[0m                             Traceback (most recent call last)",
      "Input \u001b[1;32mIn [31]\u001b[0m, in \u001b[0;36m<cell line: 20>\u001b[1;34m()\u001b[0m\n\u001b[0;32m     18\u001b[0m         \u001b[38;5;28;01mraise\u001b[39;00m \u001b[38;5;167;01mBaseException\u001b[39;00m(\u001b[38;5;124m'\u001b[39m\u001b[38;5;124mNumber must be positive\u001b[39m\u001b[38;5;124m'\u001b[39m)\n\u001b[0;32m     19\u001b[0m     \u001b[38;5;28;01mreturn\u001b[39;00m math\u001b[38;5;241m.\u001b[39mlog2(x)\n\u001b[1;32m---> 20\u001b[0m \u001b[43mlog_square\u001b[49m\u001b[43m(\u001b[49m\u001b[38;5;241;43m-\u001b[39;49m\u001b[38;5;241;43m7\u001b[39;49m\u001b[43m)\u001b[49m\n",
      "Input \u001b[1;32mIn [31]\u001b[0m, in \u001b[0;36mlog_square\u001b[1;34m(x)\u001b[0m\n\u001b[0;32m     16\u001b[0m     \u001b[38;5;28;01mraise\u001b[39;00m \u001b[38;5;167;01mBaseException\u001b[39;00m(\u001b[38;5;124m'\u001b[39m\u001b[38;5;124mEntered number must not be zero\u001b[39m\u001b[38;5;124m'\u001b[39m)\n\u001b[0;32m     17\u001b[0m \u001b[38;5;28;01melif\u001b[39;00m x \u001b[38;5;241m<\u001b[39m\u001b[38;5;241m=\u001b[39m \u001b[38;5;241m0\u001b[39m:\n\u001b[1;32m---> 18\u001b[0m     \u001b[38;5;28;01mraise\u001b[39;00m \u001b[38;5;167;01mBaseException\u001b[39;00m(\u001b[38;5;124m'\u001b[39m\u001b[38;5;124mNumber must be positive\u001b[39m\u001b[38;5;124m'\u001b[39m)\n\u001b[0;32m     19\u001b[0m \u001b[38;5;28;01mreturn\u001b[39;00m math\u001b[38;5;241m.\u001b[39mlog2(x)\n",
      "\u001b[1;31mBaseException\u001b[0m: Number must be positive"
     ]
    }
   ],
   "source": [
    "def log_square(x):\n",
    "    \"\"\"\n",
    "    This function takes a numeric value and returns the \n",
    "    natural log of the square of the number.\n",
    "    The function raises an error if the number is equal to zero.\n",
    "    Use the math.log function in this funtion.\n",
    "    \n",
    "    Input: Real number\n",
    "    Output: Real number or error\n",
    "    \n",
    "    Sample Input: 5\n",
    "    Sample Output: 3.21887\n",
    "    \"\"\"\n",
    "    import math\n",
    "    if x == 0:\n",
    "        raise BaseException('Entered number must not be zero')\n",
    "    elif x <= 0:\n",
    "        raise BaseException('Number must be positive')\n",
    "    return math.log2(x)\n",
    "log_square(-7)\n"
   ]
  },
  {
   "cell_type": "code",
   "execution_count": null,
   "id": "47a5e27f",
   "metadata": {},
   "outputs": [],
   "source": [
    ">>> raise NameError('HiThere')\n",
    "Traceback (most recent call last):\n",
    "  File \"<stdin>\", line 1, in <module>\n",
    "NameError: HiThere"
   ]
  },
  {
   "cell_type": "code",
   "execution_count": null,
   "id": "4a41896b",
   "metadata": {},
   "outputs": [],
   "source": []
  }
 ],
 "metadata": {
  "kernelspec": {
   "display_name": "Python 3 (ipykernel)",
   "language": "python",
   "name": "python3"
  },
  "language_info": {
   "codemirror_mode": {
    "name": "ipython",
    "version": 3
   },
   "file_extension": ".py",
   "mimetype": "text/x-python",
   "name": "python",
   "nbconvert_exporter": "python",
   "pygments_lexer": "ipython3",
   "version": "3.9.12"
  }
 },
 "nbformat": 4,
 "nbformat_minor": 5
}
