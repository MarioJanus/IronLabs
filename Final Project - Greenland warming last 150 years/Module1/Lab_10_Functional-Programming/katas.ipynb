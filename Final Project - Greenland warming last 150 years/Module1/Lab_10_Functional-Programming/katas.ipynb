{
 "cells": [
  {
   "cell_type": "code",
   "execution_count": 1,
   "id": "474ffa34",
   "metadata": {},
   "outputs": [
    {
     "data": {
      "text/plain": [
       "17"
      ]
     },
     "execution_count": 1,
     "metadata": {},
     "output_type": "execute_result"
    }
   ],
   "source": [
    "import numpy as np\n",
    "import random\n",
    "true=True\n",
    "false=False\n",
    "sheeps=[true,  true,  true,  false,\n",
    "  true,  true,  true,  true ,\n",
    "  true,  false, true,  false,\n",
    "  true,  false, false, true,\n",
    "  true,  true,  true,  true,\n",
    "  false, false, true,  true]\n",
    "\n",
    "def count_sheeps(counter):\n",
    "    for i in counter:\n",
    "        if i==true:\n",
    "            count=counter.count(i)\n",
    "    return count        \n",
    "count_sheeps (sheeps)\n"
   ]
  },
  {
   "cell_type": "code",
   "execution_count": 2,
   "id": "e80ae554",
   "metadata": {},
   "outputs": [
    {
     "data": {
      "text/plain": [
       "['Keep', 'Keep', 'Keep']"
      ]
     },
     "execution_count": 2,
     "metadata": {},
     "output_type": "execute_result"
    }
   ],
   "source": [
    "lst=[\"Keep\", \"Remove\", \"Keep\", \"Remove\", \"Keep\", \"Remove\"]\n",
    "def remove_2nd_ele(lst):\n",
    "    del lst[1::2]\n",
    "    return lst\n",
    "remove_2nd_ele(lst)\n",
    "\n",
    "    "
   ]
  },
  {
   "cell_type": "code",
   "execution_count": 3,
   "id": "4a74bd88",
   "metadata": {},
   "outputs": [
    {
     "name": "stdout",
     "output_type": "stream",
     "text": [
      "Number:  14402\n"
     ]
    },
    {
     "data": {
      "text/plain": [
       "20441"
      ]
     },
     "execution_count": 3,
     "metadata": {},
     "output_type": "execute_result"
    }
   ],
   "source": [
    "from random import seed\n",
    "from random import randint\n",
    "seed(1)\n",
    "random_num=randint(10000, 30000)\n",
    "\n",
    "def reverse(num):\n",
    "        return int(str(num)[::-1])\n",
    "\n",
    "print('Number: ', random_num)\n",
    "reverse(random_num)\n"
   ]
  },
  {
   "cell_type": "code",
   "execution_count": 4,
   "id": "83b2b749",
   "metadata": {},
   "outputs": [
    {
     "name": "stdout",
     "output_type": "stream",
     "text": [
      "Enter the number: 34543\n"
     ]
    },
    {
     "data": {
      "text/plain": [
       "91625169"
      ]
     },
     "execution_count": 4,
     "metadata": {},
     "output_type": "execute_result"
    }
   ],
   "source": [
    "#Welcome. In this kata, you are asked to square every digit of a number and concatenate them.\n",
    "#For example, if we run 9119 through the function, 811181 will come out, because 92 is 81 and 12 is 1.\n",
    "num=str(input(\"Enter the number: \"))\n",
    "\n",
    "def square(num):\n",
    "    x = ''\n",
    "    for i in str(num):\n",
    "        y = int(i) * int(i)\n",
    "        x += str(y)\n",
    "    return int(x)\n",
    "square(num)\n",
    "\n"
   ]
  },
  {
   "cell_type": "code",
   "execution_count": 5,
   "id": "30add904",
   "metadata": {},
   "outputs": [
    {
     "data": {
      "text/plain": [
       "[(1, 7), (8, 5), (4, 0)]"
      ]
     },
     "execution_count": 5,
     "metadata": {},
     "output_type": "execute_result"
    }
   ],
   "source": [
    "integers_list1 =  [1, 1, 2 ,3 ,1 ,2 ,3 ,4]\n",
    "digits_list1 = [1, 3]\n",
    "#l.count_spec_digits(integers_list, digits_list) == [(1, 3), (3, 2)]\n",
    "\n",
    "\n",
    "integers_list2 = [-18, -31, 81, -19, 111, -888]\n",
    "digits_list2 = [1, 8, 4]\n",
    "#l.count_spec_digits(integers_list, digits_list) == [(1, 7), (8, 5), (4, 0)]\n",
    "\n",
    "integers_list3 = [-77, -65, 56, -79, 6666, 222]\n",
    "digits_list3 = [1, 8, 4]\n",
    "#l.count_spec_digits(integers_list, digits_list) == [(1, 0), (8, 0), (4, 0)]\n",
    "\n",
    "def int_digits(integers, digits):\n",
    "    results=[]\n",
    "    digit_counts=[]\n",
    "    int_str=''.join([str(i) for i in integers])\n",
    "    for j in digits:\n",
    "        digit_counts.append(int_str.count(str(j)))\n",
    "    for k in range(len(digits)):\n",
    "        results.append((digits[k],digit_counts[k]))\n",
    "    return results\n",
    "        \n",
    "int_digits(integers_list2, digits_list2)"
   ]
  },
  {
   "cell_type": "code",
   "execution_count": null,
   "id": "623a0d23",
   "metadata": {},
   "outputs": [],
   "source": []
  }
 ],
 "metadata": {
  "kernelspec": {
   "display_name": "Python 3 (ipykernel)",
   "language": "python",
   "name": "python3"
  },
  "language_info": {
   "codemirror_mode": {
    "name": "ipython",
    "version": 3
   },
   "file_extension": ".py",
   "mimetype": "text/x-python",
   "name": "python",
   "nbconvert_exporter": "python",
   "pygments_lexer": "ipython3",
   "version": "3.9.12"
  }
 },
 "nbformat": 4,
 "nbformat_minor": 5
}
