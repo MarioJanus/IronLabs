{
 "cells": [
  {
   "cell_type": "code",
   "execution_count": null,
   "id": "34ee8ebe",
   "metadata": {
    "scrolled": true
   },
   "outputs": [],
   "source": [
    "price=float(input(\"Enter price for bike: \"))\n",
    "if price<50000:\n",
    "    print(\"Road tax price is: \", price/100*5)\n",
    "elif price>=50000 and price<=100000:\n",
    "    print(\"Road tax price is: \", price/100*10)\n",
    "else:\n",
    "    print(\"Road tax price is: \", price/100*15)\n"
   ]
  },
  {
   "cell_type": "code",
   "execution_count": 25,
   "id": "b83500db",
   "metadata": {},
   "outputs": [
    {
     "name": "stdout",
     "output_type": "stream",
     "text": [
      "Enter number: 353532\n",
      "['3', '5', '3', '5', '3', '2']\n"
     ]
    }
   ],
   "source": [
    "import numpy as np\n",
    "text1=\"hello my name is k and I have 4 cats\"\n",
    "text2=\"hello my name is m and I have 3 dogs\"\n"
   ]
  },
  {
   "cell_type": "code",
   "execution_count": 28,
   "id": "728591e4",
   "metadata": {},
   "outputs": [
    {
     "data": {
      "text/plain": [
       "[1, 2, 3, 0, 0]"
      ]
     },
     "execution_count": 28,
     "metadata": {},
     "output_type": "execute_result"
    }
   ],
   "source": [
    "l=[1,0,0,2,3]\n",
    "l1=[]\n",
    "a=l.count(0)\n",
    "a\n",
    "for i in l:\n",
    "    if i!=0:\n",
    "        l1.append(i)\n",
    "l1\n",
    "\n",
    "for i in range(a):\n",
    "    l1.append(0)\n",
    "l1"
   ]
  },
  {
   "cell_type": "code",
   "execution_count": 31,
   "id": "b506b4d6",
   "metadata": {},
   "outputs": [
    {
     "name": "stdout",
     "output_type": "stream",
     "text": [
      "['I']\n",
      "('I', 'r', 'o', 'n', 'h', 'a', 'c', 'k')\n",
      "Sliced Tuple1:  ('I', 'r', 'o', 'n')\n",
      "Sliced Tuple2:  ('h', 'a', 'c', 'k')\n"
     ]
    }
   ],
   "source": [
    "tup=(\"I\")\n",
    "\n",
    "tup_list=list(tup)\n",
    "\n",
    "print(tup_list)\n",
    "\n",
    "new=(\"r\", \"o\", \"n\", \"h\", \"a\", \"c\", \"k\")\n",
    "\n",
    "for i in new:\n",
    "    tup_list.append(i)\n",
    "\n",
    "tup=tuple(tup_list)\n",
    "print(tup)\n",
    "\n",
    "tup1 = tup[:4]\n",
    "print(\"Sliced Tuple1: \", tup1)\n",
    "\n",
    "tup2 = tup[-4:]\n",
    "print('Sliced Tuple2: ', tup2)\n",
    "\n",
    "\n",
    "\n"
   ]
  },
  {
   "cell_type": "code",
   "execution_count": 35,
   "id": "4b746ecb",
   "metadata": {},
   "outputs": [
    {
     "name": "stdout",
     "output_type": "stream",
     "text": [
      "apple\n",
      "cherry\n"
     ]
    }
   ],
   "source": [
    "fruits=[\"apple\", \"banana\", \"cherry\"]\n",
    "for x in fruits:\n",
    "    if x==\"banana\":\n",
    "        continue\n",
    "    print(x)"
   ]
  },
  {
   "cell_type": "code",
   "execution_count": 36,
   "id": "cb4980b4",
   "metadata": {},
   "outputs": [
    {
     "name": "stdout",
     "output_type": "stream",
     "text": [
      "apple\n"
     ]
    }
   ],
   "source": [
    "fruits=[\"apple\", \"banana\", \"cherry\"]\n",
    "for x in fruits:\n",
    "    if x==\"banana\":\n",
    "        break\n",
    "    print(x)"
   ]
  },
  {
   "cell_type": "code",
   "execution_count": 41,
   "id": "e8be4f99",
   "metadata": {},
   "outputs": [
    {
     "name": "stdout",
     "output_type": "stream",
     "text": [
      "2\n",
      "3\n",
      "4\n",
      "5\n",
      "6\n"
     ]
    }
   ],
   "source": [
    "i=1\n",
    "while i<6:\n",
    "    i+=1\n",
    "    print(i)\n",
    "    #if i==3:\n",
    "     #   break\n",
    "    #i+=1\n",
    "    "
   ]
  },
  {
   "cell_type": "code",
   "execution_count": 43,
   "id": "d30ef527",
   "metadata": {},
   "outputs": [
    {
     "name": "stdout",
     "output_type": "stream",
     "text": [
      "1\n",
      "2\n",
      "4\n",
      "5\n",
      "6\n"
     ]
    }
   ],
   "source": [
    "i=0\n",
    "while i<6:\n",
    "    i+=1\n",
    "    if i==3:\n",
    "        continue\n",
    "    print(i)"
   ]
  },
  {
   "cell_type": "code",
   "execution_count": 47,
   "id": "a311a3af",
   "metadata": {},
   "outputs": [
    {
     "data": {
      "text/plain": [
       "(82, 730)"
      ]
     },
     "execution_count": 47,
     "metadata": {},
     "output_type": "execute_result"
    }
   ],
   "source": [
    "def f(x):\n",
    "    return x**2+1, x**3+1\n",
    "f(4)\n",
    "x,y=f(9)\n",
    "x,y"
   ]
  },
  {
   "cell_type": "code",
   "execution_count": null,
   "id": "fdee4d25",
   "metadata": {},
   "outputs": [],
   "source": [
    "def sayhello(who):\n",
    "    print(\"hello, \", who +\"!\")\n",
    "    print"
   ]
  },
  {
   "cell_type": "code",
   "execution_count": 50,
   "id": "4fb45590",
   "metadata": {},
   "outputs": [
    {
     "name": "stdout",
     "output_type": "stream",
     "text": [
      "Enter your salary13000\n"
     ]
    },
    {
     "data": {
      "text/plain": [
       "(20, 2600.0)"
      ]
     },
     "execution_count": 50,
     "metadata": {},
     "output_type": "execute_result"
    }
   ],
   "source": [
    "def verify_tax (tax, limit):\n",
    "    salary=float(input(\"Enter your salary: \"))\n",
    "    if salary >= limit:\n",
    "        t=tax[1]\n",
    "    else:\n",
    "        t=tax[0]\n",
    "    tt=salary*t/100\n",
    "    return t,tt\n",
    "\n",
    "l_tax=[12, 20]\n",
    "l_limit=10000\n",
    "verify_tax(l_tax, l_limit)\n"
   ]
  },
  {
   "cell_type": "code",
   "execution_count": 51,
   "id": "8e2681ee",
   "metadata": {},
   "outputs": [
    {
     "name": "stdout",
     "output_type": "stream",
     "text": [
      "The even_number funnction errored out\n",
      "This line of code still executes\n"
     ]
    }
   ],
   "source": [
    "try:\n",
    "    even_number(4)\n",
    "except:\n",
    "    print(\"The even_number funnction errored out\")\n",
    "print(\"This line of code still executes\")"
   ]
  },
  {
   "cell_type": "code",
   "execution_count": null,
   "id": "8a20b708",
   "metadata": {},
   "outputs": [],
   "source": []
  }
 ],
 "metadata": {
  "kernelspec": {
   "display_name": "Python 3 (ipykernel)",
   "language": "python",
   "name": "python3"
  },
  "language_info": {
   "codemirror_mode": {
    "name": "ipython",
    "version": 3
   },
   "file_extension": ".py",
   "mimetype": "text/x-python",
   "name": "python",
   "nbconvert_exporter": "python",
   "pygments_lexer": "ipython3",
   "version": "3.9.12"
  }
 },
 "nbformat": 4,
 "nbformat_minor": 5
}
